{
  "cells": [
    {
      "cell_type": "markdown",
      "metadata": {
        "id": "view-in-github",
        "colab_type": "text"
      },
      "source": [
        "<a href=\"https://colab.research.google.com/github/diego-ciciani01/ADM-HW2/blob/main/main.ipynb\" target=\"_parent\"><img src=\"https://colab.research.google.com/assets/colab-badge.svg\" alt=\"Open In Colab\"/></a>"
      ]
    },
    {
      "cell_type": "markdown",
      "metadata": {
        "id": "CCNaUKURr7ki"
      },
      "source": [
        "Import of Dataset"
      ]
    },
    {
      "cell_type": "code",
      "execution_count": null,
      "metadata": {
        "colab": {
          "base_uri": "https://localhost:8080/"
        },
        "id": "BGe8eh-DrOpU",
        "outputId": "a69733fb-35b1-47de-ac79-fa1c97a71b23"
      },
      "outputs": [
        {
          "name": "stdout",
          "output_type": "stream",
          "text": [
            "Requirement already satisfied: kaggle in /usr/local/lib/python3.10/dist-packages (1.5.16)\n",
            "Requirement already satisfied: six>=1.10 in /usr/local/lib/python3.10/dist-packages (from kaggle) (1.16.0)\n",
            "Requirement already satisfied: certifi in /usr/local/lib/python3.10/dist-packages (from kaggle) (2023.7.22)\n",
            "Requirement already satisfied: python-dateutil in /usr/local/lib/python3.10/dist-packages (from kaggle) (2.8.2)\n",
            "Requirement already satisfied: requests in /usr/local/lib/python3.10/dist-packages (from kaggle) (2.31.0)\n",
            "Requirement already satisfied: tqdm in /usr/local/lib/python3.10/dist-packages (from kaggle) (4.66.1)\n",
            "Requirement already satisfied: python-slugify in /usr/local/lib/python3.10/dist-packages (from kaggle) (8.0.1)\n",
            "Requirement already satisfied: urllib3 in /usr/local/lib/python3.10/dist-packages (from kaggle) (2.0.6)\n",
            "Requirement already satisfied: bleach in /usr/local/lib/python3.10/dist-packages (from kaggle) (6.1.0)\n",
            "Requirement already satisfied: webencodings in /usr/local/lib/python3.10/dist-packages (from bleach->kaggle) (0.5.1)\n",
            "Requirement already satisfied: text-unidecode>=1.3 in /usr/local/lib/python3.10/dist-packages (from python-slugify->kaggle) (1.3)\n",
            "Requirement already satisfied: charset-normalizer<4,>=2 in /usr/local/lib/python3.10/dist-packages (from requests->kaggle) (3.3.0)\n",
            "Requirement already satisfied: idna<4,>=2.5 in /usr/local/lib/python3.10/dist-packages (from requests->kaggle) (3.4)\n"
          ]
        }
      ],
      "source": [
        "!pip install kaggle"
      ]
    },
    {
      "cell_type": "code",
      "execution_count": null,
      "metadata": {
        "id": "_ynK44PD8dZX"
      },
      "outputs": [],
      "source": [
        "! mkdir ~/.kaggle\n"
      ]
    },
    {
      "cell_type": "code",
      "execution_count": null,
      "metadata": {
        "id": "UjuWdCV2kK35"
      },
      "outputs": [],
      "source": [
        "!cp kaggle.json ~/.kaggle/"
      ]
    },
    {
      "cell_type": "code",
      "execution_count": null,
      "metadata": {
        "id": "XInO5omBkMTG"
      },
      "outputs": [],
      "source": [
        "! chmod 600 ~/.kaggle/kaggle.json"
      ]
    },
    {
      "cell_type": "code",
      "execution_count": null,
      "metadata": {
        "colab": {
          "base_uri": "https://localhost:8080/"
        },
        "id": "Li-GLGOOlEQX",
        "outputId": "53035620-86b8-439f-def4-e96b504bbfc7"
      },
      "outputs": [
        {
          "name": "stdout",
          "output_type": "stream",
          "text": [
            "Downloading large-books-metadata-dataset-50-mill-entries.zip to /content\n",
            "100% 17.4G/17.4G [03:28<00:00, 132MB/s]\n",
            "100% 17.4G/17.4G [03:28<00:00, 89.6MB/s]\n"
          ]
        }
      ],
      "source": [
        "!kaggle datasets download -d opalskies/large-books-metadata-dataset-50-mill-entries"
      ]
    },
    {
      "cell_type": "code",
      "execution_count": null,
      "metadata": {
        "colab": {
          "base_uri": "https://localhost:8080/"
        },
        "id": "QQLSjCERlwwF",
        "outputId": "eba9beb0-aa17-49a7-ceab-c395a3f573b0"
      },
      "outputs": [
        {
          "name": "stdout",
          "output_type": "stream",
          "text": [
            "Archive:  large-books-metadata-dataset-50-mill-entries.zip\n",
            "  inflating: authors.json/authors.json  \n",
            "  inflating: books.json/books.json   \n",
            "books.json/books.json:  write error (disk full?).  Continue? (y/n/^C) "
          ]
        }
      ],
      "source": [
        "!unzip large-books-metadata-dataset-50-mill-entries.zip"
      ]
    },
    {
      "cell_type": "code",
      "execution_count": null,
      "metadata": {
        "id": "zHlpUiIUrLNy"
      },
      "outputs": [],
      "source": [
        "!rm -r /content/books.json"
      ]
    },
    {
      "cell_type": "code",
      "execution_count": null,
      "metadata": {
        "colab": {
          "base_uri": "https://localhost:8080/"
        },
        "id": "4mogXMfe5g_e",
        "outputId": "6587a829-387f-4590-f30e-3a0319006b15"
      },
      "outputs": [
        {
          "name": "stdout",
          "output_type": "stream",
          "text": [
            "--2023-10-18 21:07:19--  https://sapienza2023adm.s3.eu-south-1.amazonaws.com/lighter_books.json\n",
            "Resolving sapienza2023adm.s3.eu-south-1.amazonaws.com (sapienza2023adm.s3.eu-south-1.amazonaws.com)... 52.95.151.0, 52.95.152.42\n",
            "Connecting to sapienza2023adm.s3.eu-south-1.amazonaws.com (sapienza2023adm.s3.eu-south-1.amazonaws.com)|52.95.151.0|:443... connected.\n",
            "HTTP request sent, awaiting response... 200 OK\n",
            "Length: 16123393395 (15G) [application/json]\n",
            "Saving to: ‘lighter_books.json’\n",
            "\n",
            "lighter_books.json  100%[===================>]  15.02G  21.6MB/s    in 12m 29s \n",
            "\n",
            "2023-10-18 21:19:48 (20.5 MB/s) - ‘lighter_books.json’ saved [16123393395/16123393395]\n",
            "\n"
          ]
        }
      ],
      "source": [
        "!wget https://sapienza2023adm.s3.eu-south-1.amazonaws.com/lighter_books.json"
      ]
    },
    {
      "cell_type": "markdown",
      "source": [
        "to mount the google drive disk"
      ],
      "metadata": {
        "id": "ipUQK6EijZpk"
      }
    },
    {
      "cell_type": "code",
      "execution_count": null,
      "metadata": {
        "colab": {
          "base_uri": "https://localhost:8080/"
        },
        "id": "a4JvY1FruN23",
        "outputId": "131c29ce-be3d-4f38-9665-5be5c3fc4189"
      },
      "outputs": [
        {
          "output_type": "stream",
          "name": "stdout",
          "text": [
            "Drive already mounted at /content/drive; to attempt to forcibly remount, call drive.mount(\"/content/drive\", force_remount=True).\n"
          ]
        }
      ],
      "source": [
        "from google.colab import drive\n",
        "drive.mount('/content/drive')"
      ]
    },
    {
      "cell_type": "markdown",
      "metadata": {
        "id": "8I0KwqClfJZ2"
      },
      "source": [
        "Research questions [RQs]"
      ]
    },
    {
      "cell_type": "code",
      "execution_count": null,
      "metadata": {
        "id": "9nHJ53o7s4yY"
      },
      "outputs": [],
      "source": [
        "import pandas as pd\n",
        "import matplotlib.pyplot as plt\n",
        "import random\n",
        "import numpy as np\n",
        "from tqdm import tqdm\n",
        "import seaborn as sns\n",
        "import shutil\n",
        "#from datatable import dt, f, by\n"
      ]
    },
    {
      "cell_type": "code",
      "execution_count": null,
      "metadata": {
        "id": "3kDN1Z7tOvcD"
      },
      "outputs": [],
      "source": [
        "path_books_dataset_diego = \"/content/drive/MyDrive/Colab Notebooks/università/ADM/Homework_2/dataset/lighter_books.json\"\n",
        "path_authors_dataset_diego = \"/content/drive/MyDrive/Colab Notebooks/università/ADM/Homework_2/dataset/lighter_authors.json\""
      ]
    },
    {
      "cell_type": "code",
      "execution_count": null,
      "metadata": {
        "id": "CA5fCeeceAPh"
      },
      "outputs": [],
      "source": [
        "path_books_dataset_alessio = \"/content/drive/MyDrive/Colab Notebooks/hmw2adm/lighter_books.json\"\n",
        "path_authors_dataset_alessio =\"/content/drive/MyDrive/Colab Notebooks/hmw2adm/lighter_authors.json\"\n",
        "path_list_dataset_alessio=\"/content/drive/MyDrive/Colab Notebooks/hmw2adm/list.json\""
      ]
    },
    {
      "cell_type": "code",
      "execution_count": null,
      "metadata": {
        "id": "3GbkQWx9L7HA"
      },
      "outputs": [],
      "source": [
        "path_books_dataset_laura = \"/content/drive/MyDrive/Colab Notebooks/ADMHMW2/lighter_books.json\"\n",
        "path_authors_dataset_laura = \"/content/drive/MyDrive/Colab Notebooks/ADMHMW2/lighter_authors.json\""
      ]
    },
    {
      "cell_type": "markdown",
      "metadata": {
        "id": "qkj1NhwauMpy"
      },
      "source": [
        "[RQ1]"
      ]
    },
    {
      "cell_type": "markdown",
      "source": [
        "to read the dataset of books with limited rows"
      ],
      "metadata": {
        "id": "YRXdGVu0jWnR"
      }
    },
    {
      "cell_type": "code",
      "execution_count": null,
      "metadata": {
        "id": "9lPqepINMICr"
      },
      "outputs": [],
      "source": [
        "books = pd.read_json(path_books_dataset_diego,lines=True, nrows=200000)\n",
        "authors = pd.read_json(path_authors_dataset_diego, lines=True)\n"
      ]
    },
    {
      "cell_type": "code",
      "execution_count": null,
      "metadata": {
        "id": "jKur11K9eCvu"
      },
      "outputs": [],
      "source": [
        "books = pd.read_json(path_books_dataset_alessio, lines=True, nrows=200000)\n"
      ]
    },
    {
      "cell_type": "code",
      "source": [
        "authors = pd.read_json(path_authors_dataset_alessio, lines=True)"
      ],
      "metadata": {
        "id": "DErhlWKpdr-A"
      },
      "execution_count": null,
      "outputs": []
    },
    {
      "cell_type": "code",
      "source": [
        "list0 = pd.read_json(path_list_dataset_alessio, lines=True, nrows=1)"
      ],
      "metadata": {
        "id": "NA_Ow_L2dqST"
      },
      "execution_count": null,
      "outputs": []
    },
    {
      "cell_type": "code",
      "execution_count": null,
      "metadata": {
        "id": "W2lTrpC3MRhj"
      },
      "outputs": [],
      "source": [
        "books = pd.read_json(path_books_dataset_laura, lines=True, nrows=200000)\n",
        "authors = pd.read_json(path_authors_dataset_laura, lines=True)"
      ]
    },
    {
      "cell_type": "markdown",
      "metadata": {
        "id": "gQKEryfOhqiv"
      },
      "source": [
        "this method is used to read a set of specific columns selected of the dataset"
      ]
    },
    {
      "cell_type": "code",
      "execution_count": null,
      "metadata": {
        "id": "sZXRvAfFN-aE"
      },
      "outputs": [],
      "source": [
        "def read_only_columns(path_dataset:str ,columns:list):\n",
        "  dfs = []\n",
        "  with open(path_dataset, \"r\") as file:\n",
        "    for ch in pd.read_json(file, lines = True, chunksize=20000):\n",
        "      ch = ch[columns]\n",
        "      dfs.append(ch)\n",
        "  df_2 = pd.concat(dfs, ignore_index = True)\n",
        "  return df_2"
      ]
    },
    {
      "cell_type": "code",
      "execution_count": null,
      "metadata": {
        "id": "aOfN8Kg2VXOx"
      },
      "outputs": [],
      "source": []
    },
    {
      "cell_type": "code",
      "execution_count": null,
      "metadata": {
        "colab": {
          "base_uri": "https://localhost:8080/",
          "height": 742
        },
        "id": "XtYB83rUWQ1l",
        "outputId": "adb27db7-bfa4-4468-8fba-48b4229c0a7d"
      },
      "outputs": [
        {
          "output_type": "execute_result",
          "data": {
            "text/plain": [
              "   id                                              title  \\\n",
              "0   2  Harry Potter and the Order of the Phoenix (Har...   \n",
              "1   3  Harry Potter and the Sorcerer's Stone (Harry P...   \n",
              "2   4  Harry Potter and the Chamber of Secrets (Harry...   \n",
              "3   5  Harry Potter and the Prisoner of Azkaban (Harr...   \n",
              "4   6  Harry Potter and the Goblet of Fire (Harry Pot...   \n",
              "\n",
              "                                             authors   author_name  author_id  \\\n",
              "0  [{'id': '1077326', 'name': 'J.K. Rowling', 'ro...  J.K. Rowling    1077326   \n",
              "1  [{'id': '1077326', 'name': 'J.K. Rowling', 'ro...  J.K. Rowling    1077326   \n",
              "2                                               None  J.K. Rowling    1077326   \n",
              "3  [{'id': '1077326', 'name': 'J.K. Rowling', 'ro...  J.K. Rowling    1077326   \n",
              "4  [{'id': '1077326', 'name': 'J.K. Rowling', 'ro...  J.K. Rowling    1077326   \n",
              "\n",
              "   work_id        isbn         isbn13 asin language  ...  \\\n",
              "0  2809203  0439358078  9780439358071           eng  ...   \n",
              "1  4640799                                      eng  ...   \n",
              "2  6231171  0439554896  9780439554893           eng  ...   \n",
              "3  2402163  043965548X  9780439655484           eng  ...   \n",
              "4  3046572                                      eng  ...   \n",
              "\n",
              "                                           image_url        publisher  \\\n",
              "0  https://i.gr-assets.com/images/S/compressed.ph...  Scholastic Inc.   \n",
              "1  https://i.gr-assets.com/images/S/compressed.ph...   Scholastic Inc   \n",
              "2  https://i.gr-assets.com/images/S/compressed.ph...       Scholastic   \n",
              "3  https://i.gr-assets.com/images/S/compressed.ph...  Scholastic Inc.   \n",
              "4  https://i.gr-assets.com/images/S/compressed.ph...       Scholastic   \n",
              "\n",
              "   num_pages  series_id   series_name series_position  \\\n",
              "0        870      45175  Harry Potter               5   \n",
              "1        309      45175  Harry Potter               1   \n",
              "2        352      45175  Harry Potter               2   \n",
              "3        435      45175  Harry Potter               3   \n",
              "4        734      45175  Harry Potter               4   \n",
              "\n",
              "                                             shelves  \\\n",
              "0  [{'name': 'to-read', 'count': 324191}, {'name'...   \n",
              "1  [{'name': 'fantasy', 'count': 63540}, {'name':...   \n",
              "2  [{'name': 'to-read', 'count': 282341}, {'name'...   \n",
              "3  [{'name': 'to-read', 'count': 292815}, {'name'...   \n",
              "4  [{'name': 'to-read', 'count': 287086}, {'name'...   \n",
              "\n",
              "                                         description newpublication_date  \\\n",
              "0  There is a door at the end of a silent corrido...          [2004, 09]   \n",
              "1  Harry Potter's life is miserable. His parents ...      [2003, 11, 01]   \n",
              "2  The Dursleys were so mean and hideous that sum...      [2003, 11, 01]   \n",
              "3  For twelve long years, the dread fortress of A...      [2004, 05, 01]   \n",
              "4  Harry Potter is midway through his training as...      [2002, 09, 28]   \n",
              "\n",
              "  newpublication_date2  \n",
              "0           [2004, 09]  \n",
              "1       [2003, 11, 01]  \n",
              "2       [2003, 11, 01]  \n",
              "3       [2004, 05, 01]  \n",
              "4       [2002, 09, 28]  \n",
              "\n",
              "[5 rows x 28 columns]"
            ],
            "text/html": [
              "\n",
              "  <div id=\"df-e52f5ad5-3f99-4438-a522-20c6ba3bb503\" class=\"colab-df-container\">\n",
              "    <div>\n",
              "<style scoped>\n",
              "    .dataframe tbody tr th:only-of-type {\n",
              "        vertical-align: middle;\n",
              "    }\n",
              "\n",
              "    .dataframe tbody tr th {\n",
              "        vertical-align: top;\n",
              "    }\n",
              "\n",
              "    .dataframe thead th {\n",
              "        text-align: right;\n",
              "    }\n",
              "</style>\n",
              "<table border=\"1\" class=\"dataframe\">\n",
              "  <thead>\n",
              "    <tr style=\"text-align: right;\">\n",
              "      <th></th>\n",
              "      <th>id</th>\n",
              "      <th>title</th>\n",
              "      <th>authors</th>\n",
              "      <th>author_name</th>\n",
              "      <th>author_id</th>\n",
              "      <th>work_id</th>\n",
              "      <th>isbn</th>\n",
              "      <th>isbn13</th>\n",
              "      <th>asin</th>\n",
              "      <th>language</th>\n",
              "      <th>...</th>\n",
              "      <th>image_url</th>\n",
              "      <th>publisher</th>\n",
              "      <th>num_pages</th>\n",
              "      <th>series_id</th>\n",
              "      <th>series_name</th>\n",
              "      <th>series_position</th>\n",
              "      <th>shelves</th>\n",
              "      <th>description</th>\n",
              "      <th>newpublication_date</th>\n",
              "      <th>newpublication_date2</th>\n",
              "    </tr>\n",
              "  </thead>\n",
              "  <tbody>\n",
              "    <tr>\n",
              "      <th>0</th>\n",
              "      <td>2</td>\n",
              "      <td>Harry Potter and the Order of the Phoenix (Har...</td>\n",
              "      <td>[{'id': '1077326', 'name': 'J.K. Rowling', 'ro...</td>\n",
              "      <td>J.K. Rowling</td>\n",
              "      <td>1077326</td>\n",
              "      <td>2809203</td>\n",
              "      <td>0439358078</td>\n",
              "      <td>9780439358071</td>\n",
              "      <td></td>\n",
              "      <td>eng</td>\n",
              "      <td>...</td>\n",
              "      <td>https://i.gr-assets.com/images/S/compressed.ph...</td>\n",
              "      <td>Scholastic Inc.</td>\n",
              "      <td>870</td>\n",
              "      <td>45175</td>\n",
              "      <td>Harry Potter</td>\n",
              "      <td>5</td>\n",
              "      <td>[{'name': 'to-read', 'count': 324191}, {'name'...</td>\n",
              "      <td>There is a door at the end of a silent corrido...</td>\n",
              "      <td>[2004, 09]</td>\n",
              "      <td>[2004, 09]</td>\n",
              "    </tr>\n",
              "    <tr>\n",
              "      <th>1</th>\n",
              "      <td>3</td>\n",
              "      <td>Harry Potter and the Sorcerer's Stone (Harry P...</td>\n",
              "      <td>[{'id': '1077326', 'name': 'J.K. Rowling', 'ro...</td>\n",
              "      <td>J.K. Rowling</td>\n",
              "      <td>1077326</td>\n",
              "      <td>4640799</td>\n",
              "      <td></td>\n",
              "      <td></td>\n",
              "      <td></td>\n",
              "      <td>eng</td>\n",
              "      <td>...</td>\n",
              "      <td>https://i.gr-assets.com/images/S/compressed.ph...</td>\n",
              "      <td>Scholastic Inc</td>\n",
              "      <td>309</td>\n",
              "      <td>45175</td>\n",
              "      <td>Harry Potter</td>\n",
              "      <td>1</td>\n",
              "      <td>[{'name': 'fantasy', 'count': 63540}, {'name':...</td>\n",
              "      <td>Harry Potter's life is miserable. His parents ...</td>\n",
              "      <td>[2003, 11, 01]</td>\n",
              "      <td>[2003, 11, 01]</td>\n",
              "    </tr>\n",
              "    <tr>\n",
              "      <th>2</th>\n",
              "      <td>4</td>\n",
              "      <td>Harry Potter and the Chamber of Secrets (Harry...</td>\n",
              "      <td>None</td>\n",
              "      <td>J.K. Rowling</td>\n",
              "      <td>1077326</td>\n",
              "      <td>6231171</td>\n",
              "      <td>0439554896</td>\n",
              "      <td>9780439554893</td>\n",
              "      <td></td>\n",
              "      <td>eng</td>\n",
              "      <td>...</td>\n",
              "      <td>https://i.gr-assets.com/images/S/compressed.ph...</td>\n",
              "      <td>Scholastic</td>\n",
              "      <td>352</td>\n",
              "      <td>45175</td>\n",
              "      <td>Harry Potter</td>\n",
              "      <td>2</td>\n",
              "      <td>[{'name': 'to-read', 'count': 282341}, {'name'...</td>\n",
              "      <td>The Dursleys were so mean and hideous that sum...</td>\n",
              "      <td>[2003, 11, 01]</td>\n",
              "      <td>[2003, 11, 01]</td>\n",
              "    </tr>\n",
              "    <tr>\n",
              "      <th>3</th>\n",
              "      <td>5</td>\n",
              "      <td>Harry Potter and the Prisoner of Azkaban (Harr...</td>\n",
              "      <td>[{'id': '1077326', 'name': 'J.K. Rowling', 'ro...</td>\n",
              "      <td>J.K. Rowling</td>\n",
              "      <td>1077326</td>\n",
              "      <td>2402163</td>\n",
              "      <td>043965548X</td>\n",
              "      <td>9780439655484</td>\n",
              "      <td></td>\n",
              "      <td>eng</td>\n",
              "      <td>...</td>\n",
              "      <td>https://i.gr-assets.com/images/S/compressed.ph...</td>\n",
              "      <td>Scholastic Inc.</td>\n",
              "      <td>435</td>\n",
              "      <td>45175</td>\n",
              "      <td>Harry Potter</td>\n",
              "      <td>3</td>\n",
              "      <td>[{'name': 'to-read', 'count': 292815}, {'name'...</td>\n",
              "      <td>For twelve long years, the dread fortress of A...</td>\n",
              "      <td>[2004, 05, 01]</td>\n",
              "      <td>[2004, 05, 01]</td>\n",
              "    </tr>\n",
              "    <tr>\n",
              "      <th>4</th>\n",
              "      <td>6</td>\n",
              "      <td>Harry Potter and the Goblet of Fire (Harry Pot...</td>\n",
              "      <td>[{'id': '1077326', 'name': 'J.K. Rowling', 'ro...</td>\n",
              "      <td>J.K. Rowling</td>\n",
              "      <td>1077326</td>\n",
              "      <td>3046572</td>\n",
              "      <td></td>\n",
              "      <td></td>\n",
              "      <td></td>\n",
              "      <td>eng</td>\n",
              "      <td>...</td>\n",
              "      <td>https://i.gr-assets.com/images/S/compressed.ph...</td>\n",
              "      <td>Scholastic</td>\n",
              "      <td>734</td>\n",
              "      <td>45175</td>\n",
              "      <td>Harry Potter</td>\n",
              "      <td>4</td>\n",
              "      <td>[{'name': 'to-read', 'count': 287086}, {'name'...</td>\n",
              "      <td>Harry Potter is midway through his training as...</td>\n",
              "      <td>[2002, 09, 28]</td>\n",
              "      <td>[2002, 09, 28]</td>\n",
              "    </tr>\n",
              "  </tbody>\n",
              "</table>\n",
              "<p>5 rows × 28 columns</p>\n",
              "</div>\n",
              "    <div class=\"colab-df-buttons\">\n",
              "\n",
              "  <div class=\"colab-df-container\">\n",
              "    <button class=\"colab-df-convert\" onclick=\"convertToInteractive('df-e52f5ad5-3f99-4438-a522-20c6ba3bb503')\"\n",
              "            title=\"Convert this dataframe to an interactive table.\"\n",
              "            style=\"display:none;\">\n",
              "\n",
              "  <svg xmlns=\"http://www.w3.org/2000/svg\" height=\"24px\" viewBox=\"0 -960 960 960\">\n",
              "    <path d=\"M120-120v-720h720v720H120Zm60-500h600v-160H180v160Zm220 220h160v-160H400v160Zm0 220h160v-160H400v160ZM180-400h160v-160H180v160Zm440 0h160v-160H620v160ZM180-180h160v-160H180v160Zm440 0h160v-160H620v160Z\"/>\n",
              "  </svg>\n",
              "    </button>\n",
              "\n",
              "  <style>\n",
              "    .colab-df-container {\n",
              "      display:flex;\n",
              "      gap: 12px;\n",
              "    }\n",
              "\n",
              "    .colab-df-convert {\n",
              "      background-color: #E8F0FE;\n",
              "      border: none;\n",
              "      border-radius: 50%;\n",
              "      cursor: pointer;\n",
              "      display: none;\n",
              "      fill: #1967D2;\n",
              "      height: 32px;\n",
              "      padding: 0 0 0 0;\n",
              "      width: 32px;\n",
              "    }\n",
              "\n",
              "    .colab-df-convert:hover {\n",
              "      background-color: #E2EBFA;\n",
              "      box-shadow: 0px 1px 2px rgba(60, 64, 67, 0.3), 0px 1px 3px 1px rgba(60, 64, 67, 0.15);\n",
              "      fill: #174EA6;\n",
              "    }\n",
              "\n",
              "    .colab-df-buttons div {\n",
              "      margin-bottom: 4px;\n",
              "    }\n",
              "\n",
              "    [theme=dark] .colab-df-convert {\n",
              "      background-color: #3B4455;\n",
              "      fill: #D2E3FC;\n",
              "    }\n",
              "\n",
              "    [theme=dark] .colab-df-convert:hover {\n",
              "      background-color: #434B5C;\n",
              "      box-shadow: 0px 1px 3px 1px rgba(0, 0, 0, 0.15);\n",
              "      filter: drop-shadow(0px 1px 2px rgba(0, 0, 0, 0.3));\n",
              "      fill: #FFFFFF;\n",
              "    }\n",
              "  </style>\n",
              "\n",
              "    <script>\n",
              "      const buttonEl =\n",
              "        document.querySelector('#df-e52f5ad5-3f99-4438-a522-20c6ba3bb503 button.colab-df-convert');\n",
              "      buttonEl.style.display =\n",
              "        google.colab.kernel.accessAllowed ? 'block' : 'none';\n",
              "\n",
              "      async function convertToInteractive(key) {\n",
              "        const element = document.querySelector('#df-e52f5ad5-3f99-4438-a522-20c6ba3bb503');\n",
              "        const dataTable =\n",
              "          await google.colab.kernel.invokeFunction('convertToInteractive',\n",
              "                                                    [key], {});\n",
              "        if (!dataTable) return;\n",
              "\n",
              "        const docLinkHtml = 'Like what you see? Visit the ' +\n",
              "          '<a target=\"_blank\" href=https://colab.research.google.com/notebooks/data_table.ipynb>data table notebook</a>'\n",
              "          + ' to learn more about interactive tables.';\n",
              "        element.innerHTML = '';\n",
              "        dataTable['output_type'] = 'display_data';\n",
              "        await google.colab.output.renderOutput(dataTable, element);\n",
              "        const docLink = document.createElement('div');\n",
              "        docLink.innerHTML = docLinkHtml;\n",
              "        element.appendChild(docLink);\n",
              "      }\n",
              "    </script>\n",
              "  </div>\n",
              "\n",
              "\n",
              "<div id=\"df-a1d1db86-7a92-44c7-bf40-c0cd687821fe\">\n",
              "  <button class=\"colab-df-quickchart\" onclick=\"quickchart('df-a1d1db86-7a92-44c7-bf40-c0cd687821fe')\"\n",
              "            title=\"Suggest charts.\"\n",
              "            style=\"display:none;\">\n",
              "\n",
              "<svg xmlns=\"http://www.w3.org/2000/svg\" height=\"24px\"viewBox=\"0 0 24 24\"\n",
              "     width=\"24px\">\n",
              "    <g>\n",
              "        <path d=\"M19 3H5c-1.1 0-2 .9-2 2v14c0 1.1.9 2 2 2h14c1.1 0 2-.9 2-2V5c0-1.1-.9-2-2-2zM9 17H7v-7h2v7zm4 0h-2V7h2v10zm4 0h-2v-4h2v4z\"/>\n",
              "    </g>\n",
              "</svg>\n",
              "  </button>\n",
              "\n",
              "<style>\n",
              "  .colab-df-quickchart {\n",
              "      --bg-color: #E8F0FE;\n",
              "      --fill-color: #1967D2;\n",
              "      --hover-bg-color: #E2EBFA;\n",
              "      --hover-fill-color: #174EA6;\n",
              "      --disabled-fill-color: #AAA;\n",
              "      --disabled-bg-color: #DDD;\n",
              "  }\n",
              "\n",
              "  [theme=dark] .colab-df-quickchart {\n",
              "      --bg-color: #3B4455;\n",
              "      --fill-color: #D2E3FC;\n",
              "      --hover-bg-color: #434B5C;\n",
              "      --hover-fill-color: #FFFFFF;\n",
              "      --disabled-bg-color: #3B4455;\n",
              "      --disabled-fill-color: #666;\n",
              "  }\n",
              "\n",
              "  .colab-df-quickchart {\n",
              "    background-color: var(--bg-color);\n",
              "    border: none;\n",
              "    border-radius: 50%;\n",
              "    cursor: pointer;\n",
              "    display: none;\n",
              "    fill: var(--fill-color);\n",
              "    height: 32px;\n",
              "    padding: 0;\n",
              "    width: 32px;\n",
              "  }\n",
              "\n",
              "  .colab-df-quickchart:hover {\n",
              "    background-color: var(--hover-bg-color);\n",
              "    box-shadow: 0 1px 2px rgba(60, 64, 67, 0.3), 0 1px 3px 1px rgba(60, 64, 67, 0.15);\n",
              "    fill: var(--button-hover-fill-color);\n",
              "  }\n",
              "\n",
              "  .colab-df-quickchart-complete:disabled,\n",
              "  .colab-df-quickchart-complete:disabled:hover {\n",
              "    background-color: var(--disabled-bg-color);\n",
              "    fill: var(--disabled-fill-color);\n",
              "    box-shadow: none;\n",
              "  }\n",
              "\n",
              "  .colab-df-spinner {\n",
              "    border: 2px solid var(--fill-color);\n",
              "    border-color: transparent;\n",
              "    border-bottom-color: var(--fill-color);\n",
              "    animation:\n",
              "      spin 1s steps(1) infinite;\n",
              "  }\n",
              "\n",
              "  @keyframes spin {\n",
              "    0% {\n",
              "      border-color: transparent;\n",
              "      border-bottom-color: var(--fill-color);\n",
              "      border-left-color: var(--fill-color);\n",
              "    }\n",
              "    20% {\n",
              "      border-color: transparent;\n",
              "      border-left-color: var(--fill-color);\n",
              "      border-top-color: var(--fill-color);\n",
              "    }\n",
              "    30% {\n",
              "      border-color: transparent;\n",
              "      border-left-color: var(--fill-color);\n",
              "      border-top-color: var(--fill-color);\n",
              "      border-right-color: var(--fill-color);\n",
              "    }\n",
              "    40% {\n",
              "      border-color: transparent;\n",
              "      border-right-color: var(--fill-color);\n",
              "      border-top-color: var(--fill-color);\n",
              "    }\n",
              "    60% {\n",
              "      border-color: transparent;\n",
              "      border-right-color: var(--fill-color);\n",
              "    }\n",
              "    80% {\n",
              "      border-color: transparent;\n",
              "      border-right-color: var(--fill-color);\n",
              "      border-bottom-color: var(--fill-color);\n",
              "    }\n",
              "    90% {\n",
              "      border-color: transparent;\n",
              "      border-bottom-color: var(--fill-color);\n",
              "    }\n",
              "  }\n",
              "</style>\n",
              "\n",
              "  <script>\n",
              "    async function quickchart(key) {\n",
              "      const quickchartButtonEl =\n",
              "        document.querySelector('#' + key + ' button');\n",
              "      quickchartButtonEl.disabled = true;  // To prevent multiple clicks.\n",
              "      quickchartButtonEl.classList.add('colab-df-spinner');\n",
              "      try {\n",
              "        const charts = await google.colab.kernel.invokeFunction(\n",
              "            'suggestCharts', [key], {});\n",
              "      } catch (error) {\n",
              "        console.error('Error during call to suggestCharts:', error);\n",
              "      }\n",
              "      quickchartButtonEl.classList.remove('colab-df-spinner');\n",
              "      quickchartButtonEl.classList.add('colab-df-quickchart-complete');\n",
              "    }\n",
              "    (() => {\n",
              "      let quickchartButtonEl =\n",
              "        document.querySelector('#df-a1d1db86-7a92-44c7-bf40-c0cd687821fe button');\n",
              "      quickchartButtonEl.style.display =\n",
              "        google.colab.kernel.accessAllowed ? 'block' : 'none';\n",
              "    })();\n",
              "  </script>\n",
              "</div>\n",
              "    </div>\n",
              "  </div>\n"
            ]
          },
          "metadata": {},
          "execution_count": 10
        }
      ],
      "source": [
        "books.head()"
      ]
    },
    {
      "cell_type": "code",
      "execution_count": null,
      "metadata": {
        "colab": {
          "base_uri": "https://localhost:8080/",
          "height": 484
        },
        "id": "lDaeRa80ekT8",
        "outputId": "6bb2d847-6d39-4f27-96e1-2493f76d7eb8"
      },
      "outputs": [
        {
          "output_type": "execute_result",
          "data": {
            "text/plain": [
              "   ratings_count  average_rating  text_reviews_count  \\\n",
              "0        2862064            4.19               62681   \n",
              "1        1417316            4.02               84176   \n",
              "2          56159            4.53                 352   \n",
              "3           3302            3.79                 480   \n",
              "4           7979            3.60                 772   \n",
              "\n",
              "                                            work_ids  \\\n",
              "0  [3078186, 135328, 1877624, 74123, 3078120, 104...   \n",
              "1  [613469, 2305997, 940892, 2611786, 7800569, 31...   \n",
              "2  [17150, 808427, 20487307, 90550, 25460625, 171...   \n",
              "3  [4417, 14300808, 14780, 3796968, 44703121, 103...   \n",
              "4  [13330815, 19109351, 42306244, 72694240, 26291...   \n",
              "\n",
              "                                            book_ids  works_count  id  \\\n",
              "0  [386162, 13, 8695, 8694, 6091075, 365, 569429,...          106   4   \n",
              "1  [9791, 21, 28, 24, 7507825, 27, 10538, 25, 26,...           75   7   \n",
              "2  [349254, 15222, 14833682, 15221, 18126815, 152...           14  10   \n",
              "3  [40, 9416484, 12482, 3753106, 26889789, 104764...           45  12   \n",
              "4  [8466327, 15739968, 22756778, 51026133, 260451...           61  14   \n",
              "\n",
              "                      name  gender  \\\n",
              "0            Douglas Adams    male   \n",
              "1              Bill Bryson    male   \n",
              "2              Jude Fisher  female   \n",
              "3  James Hamilton-Paterson    male   \n",
              "4              Mark Watson    male   \n",
              "\n",
              "                                           image_url  \\\n",
              "0  https://images.gr-assets.com/authors/159137433...   \n",
              "1  https://images.gr-assets.com/authors/157859752...   \n",
              "2  https://images.gr-assets.com/authors/141145711...   \n",
              "3  https://images.gr-assets.com/authors/127051738...   \n",
              "4  https://images.gr-assets.com/authors/133175379...   \n",
              "\n",
              "                                               about  fans_count  \n",
              "0  Douglas Noël Adams was an English author, comi...       19826  \n",
              "1  William McGuire \"Bill\" Bryson, OBE, FRS was bo...       16144  \n",
              "2  Jude Fisher is the pseudonym for <a href=\"http...          60  \n",
              "3  James Hamilton-Paterson's work has been transl...          72  \n",
              "4  Mark Andrew Watson (born 13 February 1980) is ...         179  "
            ],
            "text/html": [
              "\n",
              "  <div id=\"df-be460af2-ba52-4706-bb92-b1a8a873d8e7\" class=\"colab-df-container\">\n",
              "    <div>\n",
              "<style scoped>\n",
              "    .dataframe tbody tr th:only-of-type {\n",
              "        vertical-align: middle;\n",
              "    }\n",
              "\n",
              "    .dataframe tbody tr th {\n",
              "        vertical-align: top;\n",
              "    }\n",
              "\n",
              "    .dataframe thead th {\n",
              "        text-align: right;\n",
              "    }\n",
              "</style>\n",
              "<table border=\"1\" class=\"dataframe\">\n",
              "  <thead>\n",
              "    <tr style=\"text-align: right;\">\n",
              "      <th></th>\n",
              "      <th>ratings_count</th>\n",
              "      <th>average_rating</th>\n",
              "      <th>text_reviews_count</th>\n",
              "      <th>work_ids</th>\n",
              "      <th>book_ids</th>\n",
              "      <th>works_count</th>\n",
              "      <th>id</th>\n",
              "      <th>name</th>\n",
              "      <th>gender</th>\n",
              "      <th>image_url</th>\n",
              "      <th>about</th>\n",
              "      <th>fans_count</th>\n",
              "    </tr>\n",
              "  </thead>\n",
              "  <tbody>\n",
              "    <tr>\n",
              "      <th>0</th>\n",
              "      <td>2862064</td>\n",
              "      <td>4.19</td>\n",
              "      <td>62681</td>\n",
              "      <td>[3078186, 135328, 1877624, 74123, 3078120, 104...</td>\n",
              "      <td>[386162, 13, 8695, 8694, 6091075, 365, 569429,...</td>\n",
              "      <td>106</td>\n",
              "      <td>4</td>\n",
              "      <td>Douglas Adams</td>\n",
              "      <td>male</td>\n",
              "      <td>https://images.gr-assets.com/authors/159137433...</td>\n",
              "      <td>Douglas Noël Adams was an English author, comi...</td>\n",
              "      <td>19826</td>\n",
              "    </tr>\n",
              "    <tr>\n",
              "      <th>1</th>\n",
              "      <td>1417316</td>\n",
              "      <td>4.02</td>\n",
              "      <td>84176</td>\n",
              "      <td>[613469, 2305997, 940892, 2611786, 7800569, 31...</td>\n",
              "      <td>[9791, 21, 28, 24, 7507825, 27, 10538, 25, 26,...</td>\n",
              "      <td>75</td>\n",
              "      <td>7</td>\n",
              "      <td>Bill Bryson</td>\n",
              "      <td>male</td>\n",
              "      <td>https://images.gr-assets.com/authors/157859752...</td>\n",
              "      <td>William McGuire \"Bill\" Bryson, OBE, FRS was bo...</td>\n",
              "      <td>16144</td>\n",
              "    </tr>\n",
              "    <tr>\n",
              "      <th>2</th>\n",
              "      <td>56159</td>\n",
              "      <td>4.53</td>\n",
              "      <td>352</td>\n",
              "      <td>[17150, 808427, 20487307, 90550, 25460625, 171...</td>\n",
              "      <td>[349254, 15222, 14833682, 15221, 18126815, 152...</td>\n",
              "      <td>14</td>\n",
              "      <td>10</td>\n",
              "      <td>Jude Fisher</td>\n",
              "      <td>female</td>\n",
              "      <td>https://images.gr-assets.com/authors/141145711...</td>\n",
              "      <td>Jude Fisher is the pseudonym for &lt;a href=\"http...</td>\n",
              "      <td>60</td>\n",
              "    </tr>\n",
              "    <tr>\n",
              "      <th>3</th>\n",
              "      <td>3302</td>\n",
              "      <td>3.79</td>\n",
              "      <td>480</td>\n",
              "      <td>[4417, 14300808, 14780, 3796968, 44703121, 103...</td>\n",
              "      <td>[40, 9416484, 12482, 3753106, 26889789, 104764...</td>\n",
              "      <td>45</td>\n",
              "      <td>12</td>\n",
              "      <td>James Hamilton-Paterson</td>\n",
              "      <td>male</td>\n",
              "      <td>https://images.gr-assets.com/authors/127051738...</td>\n",
              "      <td>James Hamilton-Paterson's work has been transl...</td>\n",
              "      <td>72</td>\n",
              "    </tr>\n",
              "    <tr>\n",
              "      <th>4</th>\n",
              "      <td>7979</td>\n",
              "      <td>3.60</td>\n",
              "      <td>772</td>\n",
              "      <td>[13330815, 19109351, 42306244, 72694240, 26291...</td>\n",
              "      <td>[8466327, 15739968, 22756778, 51026133, 260451...</td>\n",
              "      <td>61</td>\n",
              "      <td>14</td>\n",
              "      <td>Mark Watson</td>\n",
              "      <td>male</td>\n",
              "      <td>https://images.gr-assets.com/authors/133175379...</td>\n",
              "      <td>Mark Andrew Watson (born 13 February 1980) is ...</td>\n",
              "      <td>179</td>\n",
              "    </tr>\n",
              "  </tbody>\n",
              "</table>\n",
              "</div>\n",
              "    <div class=\"colab-df-buttons\">\n",
              "\n",
              "  <div class=\"colab-df-container\">\n",
              "    <button class=\"colab-df-convert\" onclick=\"convertToInteractive('df-be460af2-ba52-4706-bb92-b1a8a873d8e7')\"\n",
              "            title=\"Convert this dataframe to an interactive table.\"\n",
              "            style=\"display:none;\">\n",
              "\n",
              "  <svg xmlns=\"http://www.w3.org/2000/svg\" height=\"24px\" viewBox=\"0 -960 960 960\">\n",
              "    <path d=\"M120-120v-720h720v720H120Zm60-500h600v-160H180v160Zm220 220h160v-160H400v160Zm0 220h160v-160H400v160ZM180-400h160v-160H180v160Zm440 0h160v-160H620v160ZM180-180h160v-160H180v160Zm440 0h160v-160H620v160Z\"/>\n",
              "  </svg>\n",
              "    </button>\n",
              "\n",
              "  <style>\n",
              "    .colab-df-container {\n",
              "      display:flex;\n",
              "      gap: 12px;\n",
              "    }\n",
              "\n",
              "    .colab-df-convert {\n",
              "      background-color: #E8F0FE;\n",
              "      border: none;\n",
              "      border-radius: 50%;\n",
              "      cursor: pointer;\n",
              "      display: none;\n",
              "      fill: #1967D2;\n",
              "      height: 32px;\n",
              "      padding: 0 0 0 0;\n",
              "      width: 32px;\n",
              "    }\n",
              "\n",
              "    .colab-df-convert:hover {\n",
              "      background-color: #E2EBFA;\n",
              "      box-shadow: 0px 1px 2px rgba(60, 64, 67, 0.3), 0px 1px 3px 1px rgba(60, 64, 67, 0.15);\n",
              "      fill: #174EA6;\n",
              "    }\n",
              "\n",
              "    .colab-df-buttons div {\n",
              "      margin-bottom: 4px;\n",
              "    }\n",
              "\n",
              "    [theme=dark] .colab-df-convert {\n",
              "      background-color: #3B4455;\n",
              "      fill: #D2E3FC;\n",
              "    }\n",
              "\n",
              "    [theme=dark] .colab-df-convert:hover {\n",
              "      background-color: #434B5C;\n",
              "      box-shadow: 0px 1px 3px 1px rgba(0, 0, 0, 0.15);\n",
              "      filter: drop-shadow(0px 1px 2px rgba(0, 0, 0, 0.3));\n",
              "      fill: #FFFFFF;\n",
              "    }\n",
              "  </style>\n",
              "\n",
              "    <script>\n",
              "      const buttonEl =\n",
              "        document.querySelector('#df-be460af2-ba52-4706-bb92-b1a8a873d8e7 button.colab-df-convert');\n",
              "      buttonEl.style.display =\n",
              "        google.colab.kernel.accessAllowed ? 'block' : 'none';\n",
              "\n",
              "      async function convertToInteractive(key) {\n",
              "        const element = document.querySelector('#df-be460af2-ba52-4706-bb92-b1a8a873d8e7');\n",
              "        const dataTable =\n",
              "          await google.colab.kernel.invokeFunction('convertToInteractive',\n",
              "                                                    [key], {});\n",
              "        if (!dataTable) return;\n",
              "\n",
              "        const docLinkHtml = 'Like what you see? Visit the ' +\n",
              "          '<a target=\"_blank\" href=https://colab.research.google.com/notebooks/data_table.ipynb>data table notebook</a>'\n",
              "          + ' to learn more about interactive tables.';\n",
              "        element.innerHTML = '';\n",
              "        dataTable['output_type'] = 'display_data';\n",
              "        await google.colab.output.renderOutput(dataTable, element);\n",
              "        const docLink = document.createElement('div');\n",
              "        docLink.innerHTML = docLinkHtml;\n",
              "        element.appendChild(docLink);\n",
              "      }\n",
              "    </script>\n",
              "  </div>\n",
              "\n",
              "\n",
              "<div id=\"df-bbd3503c-8fcb-4979-bef4-f1977b0bde7d\">\n",
              "  <button class=\"colab-df-quickchart\" onclick=\"quickchart('df-bbd3503c-8fcb-4979-bef4-f1977b0bde7d')\"\n",
              "            title=\"Suggest charts.\"\n",
              "            style=\"display:none;\">\n",
              "\n",
              "<svg xmlns=\"http://www.w3.org/2000/svg\" height=\"24px\"viewBox=\"0 0 24 24\"\n",
              "     width=\"24px\">\n",
              "    <g>\n",
              "        <path d=\"M19 3H5c-1.1 0-2 .9-2 2v14c0 1.1.9 2 2 2h14c1.1 0 2-.9 2-2V5c0-1.1-.9-2-2-2zM9 17H7v-7h2v7zm4 0h-2V7h2v10zm4 0h-2v-4h2v4z\"/>\n",
              "    </g>\n",
              "</svg>\n",
              "  </button>\n",
              "\n",
              "<style>\n",
              "  .colab-df-quickchart {\n",
              "      --bg-color: #E8F0FE;\n",
              "      --fill-color: #1967D2;\n",
              "      --hover-bg-color: #E2EBFA;\n",
              "      --hover-fill-color: #174EA6;\n",
              "      --disabled-fill-color: #AAA;\n",
              "      --disabled-bg-color: #DDD;\n",
              "  }\n",
              "\n",
              "  [theme=dark] .colab-df-quickchart {\n",
              "      --bg-color: #3B4455;\n",
              "      --fill-color: #D2E3FC;\n",
              "      --hover-bg-color: #434B5C;\n",
              "      --hover-fill-color: #FFFFFF;\n",
              "      --disabled-bg-color: #3B4455;\n",
              "      --disabled-fill-color: #666;\n",
              "  }\n",
              "\n",
              "  .colab-df-quickchart {\n",
              "    background-color: var(--bg-color);\n",
              "    border: none;\n",
              "    border-radius: 50%;\n",
              "    cursor: pointer;\n",
              "    display: none;\n",
              "    fill: var(--fill-color);\n",
              "    height: 32px;\n",
              "    padding: 0;\n",
              "    width: 32px;\n",
              "  }\n",
              "\n",
              "  .colab-df-quickchart:hover {\n",
              "    background-color: var(--hover-bg-color);\n",
              "    box-shadow: 0 1px 2px rgba(60, 64, 67, 0.3), 0 1px 3px 1px rgba(60, 64, 67, 0.15);\n",
              "    fill: var(--button-hover-fill-color);\n",
              "  }\n",
              "\n",
              "  .colab-df-quickchart-complete:disabled,\n",
              "  .colab-df-quickchart-complete:disabled:hover {\n",
              "    background-color: var(--disabled-bg-color);\n",
              "    fill: var(--disabled-fill-color);\n",
              "    box-shadow: none;\n",
              "  }\n",
              "\n",
              "  .colab-df-spinner {\n",
              "    border: 2px solid var(--fill-color);\n",
              "    border-color: transparent;\n",
              "    border-bottom-color: var(--fill-color);\n",
              "    animation:\n",
              "      spin 1s steps(1) infinite;\n",
              "  }\n",
              "\n",
              "  @keyframes spin {\n",
              "    0% {\n",
              "      border-color: transparent;\n",
              "      border-bottom-color: var(--fill-color);\n",
              "      border-left-color: var(--fill-color);\n",
              "    }\n",
              "    20% {\n",
              "      border-color: transparent;\n",
              "      border-left-color: var(--fill-color);\n",
              "      border-top-color: var(--fill-color);\n",
              "    }\n",
              "    30% {\n",
              "      border-color: transparent;\n",
              "      border-left-color: var(--fill-color);\n",
              "      border-top-color: var(--fill-color);\n",
              "      border-right-color: var(--fill-color);\n",
              "    }\n",
              "    40% {\n",
              "      border-color: transparent;\n",
              "      border-right-color: var(--fill-color);\n",
              "      border-top-color: var(--fill-color);\n",
              "    }\n",
              "    60% {\n",
              "      border-color: transparent;\n",
              "      border-right-color: var(--fill-color);\n",
              "    }\n",
              "    80% {\n",
              "      border-color: transparent;\n",
              "      border-right-color: var(--fill-color);\n",
              "      border-bottom-color: var(--fill-color);\n",
              "    }\n",
              "    90% {\n",
              "      border-color: transparent;\n",
              "      border-bottom-color: var(--fill-color);\n",
              "    }\n",
              "  }\n",
              "</style>\n",
              "\n",
              "  <script>\n",
              "    async function quickchart(key) {\n",
              "      const quickchartButtonEl =\n",
              "        document.querySelector('#' + key + ' button');\n",
              "      quickchartButtonEl.disabled = true;  // To prevent multiple clicks.\n",
              "      quickchartButtonEl.classList.add('colab-df-spinner');\n",
              "      try {\n",
              "        const charts = await google.colab.kernel.invokeFunction(\n",
              "            'suggestCharts', [key], {});\n",
              "      } catch (error) {\n",
              "        console.error('Error during call to suggestCharts:', error);\n",
              "      }\n",
              "      quickchartButtonEl.classList.remove('colab-df-spinner');\n",
              "      quickchartButtonEl.classList.add('colab-df-quickchart-complete');\n",
              "    }\n",
              "    (() => {\n",
              "      let quickchartButtonEl =\n",
              "        document.querySelector('#df-bbd3503c-8fcb-4979-bef4-f1977b0bde7d button');\n",
              "      quickchartButtonEl.style.display =\n",
              "        google.colab.kernel.accessAllowed ? 'block' : 'none';\n",
              "    })();\n",
              "  </script>\n",
              "</div>\n",
              "    </div>\n",
              "  </div>\n"
            ]
          },
          "metadata": {},
          "execution_count": 11
        }
      ],
      "source": [
        "authors.head()"
      ]
    },
    {
      "cell_type": "code",
      "execution_count": null,
      "metadata": {
        "colab": {
          "base_uri": "https://localhost:8080/"
        },
        "id": "cMNOJ7OIfkVY",
        "outputId": "5f9991f4-1680-4134-e363-598bd633a484"
      },
      "outputs": [
        {
          "name": "stdout",
          "output_type": "stream",
          "text": [
            "<class 'pandas.core.frame.DataFrame'>\n",
            "RangeIndex: 351767 entries, 0 to 351766\n",
            "Data columns (total 12 columns):\n",
            " #   Column              Non-Null Count   Dtype  \n",
            "---  ------              --------------   -----  \n",
            " 0   ratings_count       351767 non-null  int64  \n",
            " 1   average_rating      351767 non-null  float64\n",
            " 2   text_reviews_count  351767 non-null  int64  \n",
            " 3   work_ids            351767 non-null  object \n",
            " 4   book_ids            351767 non-null  object \n",
            " 5   works_count         351767 non-null  int64  \n",
            " 6   id                  351767 non-null  int64  \n",
            " 7   name                351767 non-null  object \n",
            " 8   gender              351767 non-null  object \n",
            " 9   image_url           351767 non-null  object \n",
            " 10  about               351767 non-null  object \n",
            " 11  fans_count          351767 non-null  int64  \n",
            "dtypes: float64(1), int64(5), object(6)\n",
            "memory usage: 32.2+ MB\n"
          ]
        }
      ],
      "source": [
        "authors.info()"
      ]
    },
    {
      "cell_type": "code",
      "execution_count": null,
      "metadata": {
        "colab": {
          "base_uri": "https://localhost:8080/"
        },
        "id": "TtQWHkNTGYwD",
        "outputId": "6aa7a0a0-84ad-4f2a-c58a-09fa09674669"
      },
      "outputs": [
        {
          "name": "stdout",
          "output_type": "stream",
          "text": [
            "<class 'pandas.core.frame.DataFrame'>\n",
            "RangeIndex: 199963 entries, 0 to 199962\n",
            "Data columns (total 26 columns):\n",
            " #   Column                     Non-Null Count   Dtype  \n",
            "---  ------                     --------------   -----  \n",
            " 0   id                         199963 non-null  int64  \n",
            " 1   title                      199963 non-null  object \n",
            " 2   authors                    67568 non-null   object \n",
            " 3   author_name                199963 non-null  object \n",
            " 4   author_id                  199963 non-null  int64  \n",
            " 5   work_id                    199963 non-null  int64  \n",
            " 6   isbn                       199963 non-null  object \n",
            " 7   isbn13                     199963 non-null  object \n",
            " 8   asin                       199963 non-null  object \n",
            " 9   language                   199963 non-null  object \n",
            " 10  average_rating             199963 non-null  float64\n",
            " 11  rating_dist                199963 non-null  object \n",
            " 12  ratings_count              199963 non-null  int64  \n",
            " 13  text_reviews_count         199963 non-null  int64  \n",
            " 14  publication_date           199963 non-null  object \n",
            " 15  original_publication_date  199963 non-null  object \n",
            " 16  format                     199963 non-null  object \n",
            " 17  edition_information        199963 non-null  object \n",
            " 18  image_url                  199963 non-null  object \n",
            " 19  publisher                  199963 non-null  object \n",
            " 20  num_pages                  199963 non-null  object \n",
            " 21  series_id                  199963 non-null  object \n",
            " 22  series_name                199963 non-null  object \n",
            " 23  series_position            199963 non-null  object \n",
            " 24  shelves                    199963 non-null  object \n",
            " 25  description                199963 non-null  object \n",
            "dtypes: float64(1), int64(5), object(20)\n",
            "memory usage: 39.7+ MB\n"
          ]
        }
      ],
      "source": [
        "books.info()"
      ]
    },
    {
      "cell_type": "code",
      "execution_count": null,
      "metadata": {
        "colab": {
          "base_uri": "https://localhost:8080/"
        },
        "id": "C9TZLR73f2ci",
        "outputId": "401ba935-093b-43e1-a35c-2e3e76ba3124"
      },
      "outputs": [
        {
          "name": "stdout",
          "output_type": "stream",
          "text": [
            "Books dataframe has 199963  observations and 26\n",
            "Author dataframe has 351767  observations and 12\n"
          ]
        }
      ],
      "source": [
        "print (\"Books dataframe has \" + str(books.shape[0]) + \"  observations and \"  +str(books.shape[1]))\n",
        "print (\"Author dataframe has \" + str(authors.shape[0]) + \"  observations and \" + str(authors.shape[1]))\n",
        "#shape on dataset will give you the number of row shape[0] and the number of colums shape[1]"
      ]
    },
    {
      "cell_type": "code",
      "execution_count": null,
      "metadata": {
        "colab": {
          "base_uri": "https://localhost:8080/"
        },
        "id": "cCOClZefXTbZ",
        "outputId": "b1067d6b-ad1d-423a-957b-c5e091702700"
      },
      "outputs": [
        {
          "name": "stdout",
          "output_type": "stream",
          "text": [
            "Null value percentage for location dataset\n",
            "id                           0.000000\n",
            "title                        0.000000\n",
            "authors                      0.662097\n",
            "author_name                  0.000000\n",
            "author_id                    0.000000\n",
            "work_id                      0.000000\n",
            "isbn                         0.000000\n",
            "isbn13                       0.000000\n",
            "asin                         0.000000\n",
            "language                     0.000000\n",
            "average_rating               0.000000\n",
            "rating_dist                  0.000000\n",
            "ratings_count                0.000000\n",
            "text_reviews_count           0.000000\n",
            "publication_date             0.000000\n",
            "original_publication_date    0.000000\n",
            "format                       0.000000\n",
            "edition_information          0.000000\n",
            "image_url                    0.000000\n",
            "publisher                    0.000000\n",
            "num_pages                    0.000000\n",
            "series_id                    0.000000\n",
            "series_name                  0.000000\n",
            "series_position              0.000000\n",
            "shelves                      0.000000\n",
            "description                  0.000000\n",
            "dtype: float64\n",
            "\n",
            "\n",
            "Null value percentage for location dataset\n",
            "ratings_count         0.0\n",
            "average_rating        0.0\n",
            "text_reviews_count    0.0\n",
            "work_ids              0.0\n",
            "book_ids              0.0\n",
            "works_count           0.0\n",
            "id                    0.0\n",
            "name                  0.0\n",
            "gender                0.0\n",
            "image_url             0.0\n",
            "about                 0.0\n",
            "fans_count            0.0\n",
            "dtype: float64\n"
          ]
        }
      ],
      "source": [
        "print(\"Null value percentage for location dataset\")\n",
        "print(books.isnull().sum()/books.shape[0])\n",
        "print(\"\\n\")\n",
        "print(\"Null value percentage for location dataset\")\n",
        "print(authors.isnull().sum()/authors.shape[0])"
      ]
    },
    {
      "cell_type": "code",
      "execution_count": null,
      "metadata": {
        "id": "zk0rSbpejpQb"
      },
      "outputs": [],
      "source": [
        "colums_books = ['language', 'format', 'num_pages', 'authors']\n",
        "colums_selected = books[colums_books]\n",
        "books_dropna = colums_selected.dropna()\n",
        "books_dropna.describe()"
      ]
    },
    {
      "cell_type": "code",
      "execution_count": null,
      "metadata": {
        "colab": {
          "base_uri": "https://localhost:8080/"
        },
        "id": "kvm6DCLEyfeb",
        "outputId": "57aed172-9703-4446-b39b-7ec1f256f505"
      },
      "outputs": [
        {
          "name": "stdout",
          "output_type": "stream",
          "text": [
            "<class 'pandas.core.frame.DataFrame'>\n",
            "Int64Index: 54344 entries, 0 to 199959\n",
            "Data columns (total 4 columns):\n",
            " #   Column     Non-Null Count  Dtype  \n",
            "---  ------     --------------  -----  \n",
            " 0   language   54344 non-null  object \n",
            " 1   format     54344 non-null  object \n",
            " 2   num_pages  54344 non-null  float64\n",
            " 3   authors    54344 non-null  object \n",
            "dtypes: float64(1), object(3)\n",
            "memory usage: 2.1+ MB\n"
          ]
        }
      ],
      "source": [
        "books_dropna.info()"
      ]
    },
    {
      "cell_type": "code",
      "execution_count": null,
      "metadata": {
        "colab": {
          "base_uri": "https://localhost:8080/",
          "height": 490
        },
        "id": "msV8PMvhx9aN",
        "outputId": "2b2f470e-1589-48a7-877d-44bb81f1a123"
      },
      "outputs": [
        {
          "data": {
            "text/plain": [
              "Text(0, 0.5, 'Frequencies')"
            ]
          },
          "execution_count": 52,
          "metadata": {},
          "output_type": "execute_result"
        },
        {
          "data": {
            "image/png": "[encoded data removed]",
            "text/plain": [
              "<Figure size 640x480 with 1 Axes>"
            ]
          },
          "metadata": {},
          "output_type": "display_data"
        }
      ],
      "source": [
        "plt.subplot(1,2,1)\n",
        "#convert\n",
        "books['num_pages'] = pd.to_numeric(books['num_pages'], errors='coerce')\n",
        "plt.hist(books['num_pages'])\n",
        "plt.title('Books pages')\n",
        "plt.xlabel('Books pages')\n",
        "plt.ylabel('Frequencies')\n"
      ]
    },
    {
      "cell_type": "code",
      "execution_count": null,
      "metadata": {
        "colab": {
          "base_uri": "https://localhost:8080/",
          "height": 600
        },
        "id": "0riJWi4U68ct",
        "outputId": "8faf0028-ec0c-4b3e-e396-037bc73cc81f"
      },
      "outputs": [
        {
          "data": {
            "image/png": "[encoded data removed]",
            "text/plain": [
              "<Figure size 800x600 with 1 Axes>"
            ]
          },
          "metadata": {},
          "output_type": "display_data"
        }
      ],
      "source": [
        "#author_count = books[\"authors\"].value_counts() ci restituiscre il numero di volte che copoiono gli elementi della colonna\n",
        "null_authors = books[\"authors\"].isnull().sum()\n",
        "authors_books = books[\"authors\"].count()\n",
        "plt.figure(figsize=(8, 6))\n",
        "plt.bar([\"Null authors\", \"authors\"], [null_authors, authors_books])\n",
        "plt.ylabel(\"number of authors\")\n",
        "plt.title(\"compare null authors with no null authors\")\n",
        "plt.xticks(rotation=45)\n",
        "plt.show()\n"
      ]
    },
    {
      "cell_type": "code",
      "execution_count": null,
      "metadata": {
        "colab": {
          "base_uri": "https://localhost:8080/",
          "height": 696
        },
        "id": "Jo7yD9h4MwVU",
        "outputId": "60648cf2-4fc6-49d7-cbdf-638f22997279"
      },
      "outputs": [
        {
          "data": {
            "image/png": "[encoded data removed]",
            "text/plain": [
              "<Figure size 900x800 with 1 Axes>"
            ]
          },
          "metadata": {},
          "output_type": "display_data"
        }
      ],
      "source": [
        "\n",
        "language = books[\"language\"].dropna()\n",
        "counts = dict(language.value_counts())\n",
        "languages = list(counts.keys())[1:75]\n",
        "values = list(counts.values())[1:75]\n",
        "\n",
        "plt.figure(figsize=(9, 8))\n",
        "plt.barh(languages, values, color ='lightsteelblue')\n",
        "plt.xlabel('Frequencies')\n",
        "plt.ylabel('languages')\n",
        "plt.show()"
      ]
    },
    {
      "cell_type": "code",
      "source": [
        "plt.figure(figsize=(12,6))\n",
        "plt.subplot(121)\n",
        "plt.boxplot(books['ratings_count'])\n",
        "plt.xlabel(\"\")\n",
        "plt.ylabel(\"ratings_count\")\n",
        "plt.title(\"Box-Plot of rating counts\", size =16)\n",
        "\n",
        "\n",
        "plt.subplot(122)\n",
        "plt.boxplot(books['text_reviews_count'])\n",
        "plt.xlabel(\"\")\n",
        "plt.ylabel(\"number of text reviews count\")\n",
        "plt.title(\"Box-Plot number of text reviews count\", size = 16)\n",
        "\n",
        "\n",
        "\n",
        "plt.show"
      ],
      "metadata": {
        "colab": {
          "base_uri": "https://localhost:8080/",
          "height": 565
        },
        "id": "cyKUqtZRBGyP",
        "outputId": "ec2edd5a-4bd4-45d2-fe3d-6c1506fa3d6c"
      },
      "execution_count": null,
      "outputs": [
        {
          "output_type": "execute_result",
          "data": {
            "text/plain": [
              "<function matplotlib.pyplot.show(close=None, block=None)>"
            ]
          },
          "metadata": {},
          "execution_count": 49
        },
        {
          "output_type": "display_data",
          "data": {
            "text/plain": [
              "<Figure size 1200x600 with 2 Axes>"
            ],
            "image/png": "[encoded data removed]"
          },
          "metadata": {}
        }
      ]
    },
    {
      "cell_type": "markdown",
      "metadata": {
        "id": "soY8z0gGH2Wx"
      },
      "source": [
        "AUTHORS"
      ]
    },
    {
      "cell_type": "code",
      "execution_count": null,
      "metadata": {
        "colab": {
          "base_uri": "https://localhost:8080/",
          "height": 300
        },
        "id": "n9sKxcnBBjVt",
        "outputId": "181dab14-0764-41a3-bfe0-4f2fb526f0e0"
      },
      "outputs": [
        {
          "data": {
            "text/html": [
              "\n",
              "  <div id=\"df-5e1a5772-6a55-4930-a9df-01a1df764043\" class=\"colab-df-container\">\n",
              "    <div>\n",
              "<style scoped>\n",
              "    .dataframe tbody tr th:only-of-type {\n",
              "        vertical-align: middle;\n",
              "    }\n",
              "\n",
              "    .dataframe tbody tr th {\n",
              "        vertical-align: top;\n",
              "    }\n",
              "\n",
              "    .dataframe thead th {\n",
              "        text-align: right;\n",
              "    }\n",
              "</style>\n",
              "<table border=\"1\" class=\"dataframe\">\n",
              "  <thead>\n",
              "    <tr style=\"text-align: right;\">\n",
              "      <th></th>\n",
              "      <th>average_rating</th>\n",
              "      <th>text_reviews_count</th>\n",
              "      <th>fans_count</th>\n",
              "      <th>ratings_count</th>\n",
              "    </tr>\n",
              "  </thead>\n",
              "  <tbody>\n",
              "    <tr>\n",
              "      <th>count</th>\n",
              "      <td>351767.000000</td>\n",
              "      <td>351767.000000</td>\n",
              "      <td>351767.000000</td>\n",
              "      <td>3.517670e+05</td>\n",
              "    </tr>\n",
              "    <tr>\n",
              "      <th>mean</th>\n",
              "      <td>3.651194</td>\n",
              "      <td>330.993243</td>\n",
              "      <td>111.615731</td>\n",
              "      <td>4.770586e+03</td>\n",
              "    </tr>\n",
              "    <tr>\n",
              "      <th>std</th>\n",
              "      <td>1.211482</td>\n",
              "      <td>3857.539191</td>\n",
              "      <td>2661.018139</td>\n",
              "      <td>9.769395e+04</td>\n",
              "    </tr>\n",
              "    <tr>\n",
              "      <th>min</th>\n",
              "      <td>-31.000000</td>\n",
              "      <td>0.000000</td>\n",
              "      <td>-33.000000</td>\n",
              "      <td>-4.100000e+01</td>\n",
              "    </tr>\n",
              "    <tr>\n",
              "      <th>25%</th>\n",
              "      <td>3.600000</td>\n",
              "      <td>1.000000</td>\n",
              "      <td>1.000000</td>\n",
              "      <td>6.000000e+00</td>\n",
              "    </tr>\n",
              "    <tr>\n",
              "      <th>50%</th>\n",
              "      <td>3.950000</td>\n",
              "      <td>8.000000</td>\n",
              "      <td>4.000000</td>\n",
              "      <td>3.900000e+01</td>\n",
              "    </tr>\n",
              "    <tr>\n",
              "      <th>75%</th>\n",
              "      <td>4.250000</td>\n",
              "      <td>53.000000</td>\n",
              "      <td>20.000000</td>\n",
              "      <td>3.100000e+02</td>\n",
              "    </tr>\n",
              "    <tr>\n",
              "      <th>max</th>\n",
              "      <td>5.000000</td>\n",
              "      <td>608956.000000</td>\n",
              "      <td>766035.000000</td>\n",
              "      <td>2.700375e+07</td>\n",
              "    </tr>\n",
              "  </tbody>\n",
              "</table>\n",
              "</div>\n",
              "    <div class=\"colab-df-buttons\">\n",
              "\n",
              "  <div class=\"colab-df-container\">\n",
              "    <button class=\"colab-df-convert\" onclick=\"convertToInteractive('df-5e1a5772-6a55-4930-a9df-01a1df764043')\"\n",
              "            title=\"Convert this dataframe to an interactive table.\"\n",
              "            style=\"display:none;\">\n",
              "\n",
              "  <svg xmlns=\"http://www.w3.org/2000/svg\" height=\"24px\" viewBox=\"0 -960 960 960\">\n",
              "    <path d=\"M120-120v-720h720v720H120Zm60-500h600v-160H180v160Zm220 220h160v-160H400v160Zm0 220h160v-160H400v160ZM180-400h160v-160H180v160Zm440 0h160v-160H620v160ZM180-180h160v-160H180v160Zm440 0h160v-160H620v160Z\"/>\n",
              "  </svg>\n",
              "    </button>\n",
              "\n",
              "  <style>\n",
              "    .colab-df-container {\n",
              "      display:flex;\n",
              "      gap: 12px;\n",
              "    }\n",
              "\n",
              "    .colab-df-convert {\n",
              "      background-color: #E8F0FE;\n",
              "      border: none;\n",
              "      border-radius: 50%;\n",
              "      cursor: pointer;\n",
              "      display: none;\n",
              "      fill: #1967D2;\n",
              "      height: 32px;\n",
              "      padding: 0 0 0 0;\n",
              "      width: 32px;\n",
              "    }\n",
              "\n",
              "    .colab-df-convert:hover {\n",
              "      background-color: #E2EBFA;\n",
              "      box-shadow: 0px 1px 2px rgba(60, 64, 67, 0.3), 0px 1px 3px 1px rgba(60, 64, 67, 0.15);\n",
              "      fill: #174EA6;\n",
              "    }\n",
              "\n",
              "    .colab-df-buttons div {\n",
              "      margin-bottom: 4px;\n",
              "    }\n",
              "\n",
              "    [theme=dark] .colab-df-convert {\n",
              "      background-color: #3B4455;\n",
              "      fill: #D2E3FC;\n",
              "    }\n",
              "\n",
              "    [theme=dark] .colab-df-convert:hover {\n",
              "      background-color: #434B5C;\n",
              "      box-shadow: 0px 1px 3px 1px rgba(0, 0, 0, 0.15);\n",
              "      filter: drop-shadow(0px 1px 2px rgba(0, 0, 0, 0.3));\n",
              "      fill: #FFFFFF;\n",
              "    }\n",
              "  </style>\n",
              "\n",
              "    <script>\n",
              "      const buttonEl =\n",
              "        document.querySelector('#df-5e1a5772-6a55-4930-a9df-01a1df764043 button.colab-df-convert');\n",
              "      buttonEl.style.display =\n",
              "        google.colab.kernel.accessAllowed ? 'block' : 'none';\n",
              "\n",
              "      async function convertToInteractive(key) {\n",
              "        const element = document.querySelector('#df-5e1a5772-6a55-4930-a9df-01a1df764043');\n",
              "        const dataTable =\n",
              "          await google.colab.kernel.invokeFunction('convertToInteractive',\n",
              "                                                    [key], {});\n",
              "        if (!dataTable) return;\n",
              "\n",
              "        const docLinkHtml = 'Like what you see? Visit the ' +\n",
              "          '<a target=\"_blank\" href=https://colab.research.google.com/notebooks/data_table.ipynb>data table notebook</a>'\n",
              "          + ' to learn more about interactive tables.';\n",
              "        element.innerHTML = '';\n",
              "        dataTable['output_type'] = 'display_data';\n",
              "        await google.colab.output.renderOutput(dataTable, element);\n",
              "        const docLink = document.createElement('div');\n",
              "        docLink.innerHTML = docLinkHtml;\n",
              "        element.appendChild(docLink);\n",
              "      }\n",
              "    </script>\n",
              "  </div>\n",
              "\n",
              "\n",
              "<div id=\"df-4779ede9-4d7b-4857-adae-015a5a63df4e\">\n",
              "  <button class=\"colab-df-quickchart\" onclick=\"quickchart('df-4779ede9-4d7b-4857-adae-015a5a63df4e')\"\n",
              "            title=\"Suggest charts.\"\n",
              "            style=\"display:none;\">\n",
              "\n",
              "<svg xmlns=\"http://www.w3.org/2000/svg\" height=\"24px\"viewBox=\"0 0 24 24\"\n",
              "     width=\"24px\">\n",
              "    <g>\n",
              "        <path d=\"M19 3H5c-1.1 0-2 .9-2 2v14c0 1.1.9 2 2 2h14c1.1 0 2-.9 2-2V5c0-1.1-.9-2-2-2zM9 17H7v-7h2v7zm4 0h-2V7h2v10zm4 0h-2v-4h2v4z\"/>\n",
              "    </g>\n",
              "</svg>\n",
              "  </button>\n",
              "\n",
              "<style>\n",
              "  .colab-df-quickchart {\n",
              "      --bg-color: #E8F0FE;\n",
              "      --fill-color: #1967D2;\n",
              "      --hover-bg-color: #E2EBFA;\n",
              "      --hover-fill-color: #174EA6;\n",
              "      --disabled-fill-color: #AAA;\n",
              "      --disabled-bg-color: #DDD;\n",
              "  }\n",
              "\n",
              "  [theme=dark] .colab-df-quickchart {\n",
              "      --bg-color: #3B4455;\n",
              "      --fill-color: #D2E3FC;\n",
              "      --hover-bg-color: #434B5C;\n",
              "      --hover-fill-color: #FFFFFF;\n",
              "      --disabled-bg-color: #3B4455;\n",
              "      --disabled-fill-color: #666;\n",
              "  }\n",
              "\n",
              "  .colab-df-quickchart {\n",
              "    background-color: var(--bg-color);\n",
              "    border: none;\n",
              "    border-radius: 50%;\n",
              "    cursor: pointer;\n",
              "    display: none;\n",
              "    fill: var(--fill-color);\n",
              "    height: 32px;\n",
              "    padding: 0;\n",
              "    width: 32px;\n",
              "  }\n",
              "\n",
              "  .colab-df-quickchart:hover {\n",
              "    background-color: var(--hover-bg-color);\n",
              "    box-shadow: 0 1px 2px rgba(60, 64, 67, 0.3), 0 1px 3px 1px rgba(60, 64, 67, 0.15);\n",
              "    fill: var(--button-hover-fill-color);\n",
              "  }\n",
              "\n",
              "  .colab-df-quickchart-complete:disabled,\n",
              "  .colab-df-quickchart-complete:disabled:hover {\n",
              "    background-color: var(--disabled-bg-color);\n",
              "    fill: var(--disabled-fill-color);\n",
              "    box-shadow: none;\n",
              "  }\n",
              "\n",
              "  .colab-df-spinner {\n",
              "    border: 2px solid var(--fill-color);\n",
              "    border-color: transparent;\n",
              "    border-bottom-color: var(--fill-color);\n",
              "    animation:\n",
              "      spin 1s steps(1) infinite;\n",
              "  }\n",
              "\n",
              "  @keyframes spin {\n",
              "    0% {\n",
              "      border-color: transparent;\n",
              "      border-bottom-color: var(--fill-color);\n",
              "      border-left-color: var(--fill-color);\n",
              "    }\n",
              "    20% {\n",
              "      border-color: transparent;\n",
              "      border-left-color: var(--fill-color);\n",
              "      border-top-color: var(--fill-color);\n",
              "    }\n",
              "    30% {\n",
              "      border-color: transparent;\n",
              "      border-left-color: var(--fill-color);\n",
              "      border-top-color: var(--fill-color);\n",
              "      border-right-color: var(--fill-color);\n",
              "    }\n",
              "    40% {\n",
              "      border-color: transparent;\n",
              "      border-right-color: var(--fill-color);\n",
              "      border-top-color: var(--fill-color);\n",
              "    }\n",
              "    60% {\n",
              "      border-color: transparent;\n",
              "      border-right-color: var(--fill-color);\n",
              "    }\n",
              "    80% {\n",
              "      border-color: transparent;\n",
              "      border-right-color: var(--fill-color);\n",
              "      border-bottom-color: var(--fill-color);\n",
              "    }\n",
              "    90% {\n",
              "      border-color: transparent;\n",
              "      border-bottom-color: var(--fill-color);\n",
              "    }\n",
              "  }\n",
              "</style>\n",
              "\n",
              "  <script>\n",
              "    async function quickchart(key) {\n",
              "      const quickchartButtonEl =\n",
              "        document.querySelector('#' + key + ' button');\n",
              "      quickchartButtonEl.disabled = true;  // To prevent multiple clicks.\n",
              "      quickchartButtonEl.classList.add('colab-df-spinner');\n",
              "      try {\n",
              "        const charts = await google.colab.kernel.invokeFunction(\n",
              "            'suggestCharts', [key], {});\n",
              "      } catch (error) {\n",
              "        console.error('Error during call to suggestCharts:', error);\n",
              "      }\n",
              "      quickchartButtonEl.classList.remove('colab-df-spinner');\n",
              "      quickchartButtonEl.classList.add('colab-df-quickchart-complete');\n",
              "    }\n",
              "    (() => {\n",
              "      let quickchartButtonEl =\n",
              "        document.querySelector('#df-4779ede9-4d7b-4857-adae-015a5a63df4e button');\n",
              "      quickchartButtonEl.style.display =\n",
              "        google.colab.kernel.accessAllowed ? 'block' : 'none';\n",
              "    })();\n",
              "  </script>\n",
              "</div>\n",
              "    </div>\n",
              "  </div>\n"
            ],
            "text/plain": [
              "       average_rating  text_reviews_count     fans_count  ratings_count\n",
              "count   351767.000000       351767.000000  351767.000000   3.517670e+05\n",
              "mean         3.651194          330.993243     111.615731   4.770586e+03\n",
              "std          1.211482         3857.539191    2661.018139   9.769395e+04\n",
              "min        -31.000000            0.000000     -33.000000  -4.100000e+01\n",
              "25%          3.600000            1.000000       1.000000   6.000000e+00\n",
              "50%          3.950000            8.000000       4.000000   3.900000e+01\n",
              "75%          4.250000           53.000000      20.000000   3.100000e+02\n",
              "max          5.000000       608956.000000  766035.000000   2.700375e+07"
            ]
          },
          "execution_count": 67,
          "metadata": {},
          "output_type": "execute_result"
        }
      ],
      "source": [
        "colums_authors = ['average_rating', 'text_reviews_count', 'fans_count', 'ratings_count']\n",
        "authors_colums_selected = authors[colums_authors]\n",
        "authors_colums_selected.describe()"
      ]
    },
    {
      "cell_type": "code",
      "execution_count": null,
      "metadata": {
        "colab": {
          "base_uri": "https://localhost:8080/",
          "height": 490
        },
        "id": "QbBRorveKioQ",
        "outputId": "08dfa4bd-37ed-4890-ee17-c631b915fb9d"
      },
      "outputs": [
        {
          "data": {
            "text/plain": [
              "Text(0, 0.5, 'Frequencies')"
            ]
          },
          "execution_count": 68,
          "metadata": {},
          "output_type": "execute_result"
        },
        {
          "data": {
            "image/png": "[encoded data removed]",
            "text/plain": [
              "<Figure size 640x480 with 2 Axes>"
            ]
          },
          "metadata": {},
          "output_type": "display_data"
        }
      ],
      "source": [
        "plt.subplot(1, 2, 1)\n",
        "plt.boxplot(authors_colums_selected['average_rating'], showfliers= False)\n",
        "plt.title('Number of average_rating')\n",
        "plt.xlabel('Number of average_rating')\n",
        "plt.ylabel('Frequencies')\n",
        "\n",
        "plt.subplot(1, 2, 2)\n",
        "plt.boxplot(authors_colums_selected['ratings_count'], showfliers= False)\n",
        "plt.title('Number of ratings_count')\n",
        "plt.xlabel('Number of ratings_count')\n",
        "plt.ylabel('Frequencies')\n",
        "\n"
      ]
    },
    {
      "cell_type": "code",
      "execution_count": null,
      "metadata": {
        "colab": {
          "base_uri": "https://localhost:8080/",
          "height": 490
        },
        "id": "fNJOyUG7SMJh",
        "outputId": "8fe51d35-f78a-4573-d95c-7a03dc70591d"
      },
      "outputs": [
        {
          "data": {
            "text/plain": [
              "Text(0, 0.5, 'Frequencies')"
            ]
          },
          "execution_count": 69,
          "metadata": {},
          "output_type": "execute_result"
        },
        {
          "data": {
            "image/png": "[encoded data removed]",
            "text/plain": [
              "<Figure size 640x480 with 2 Axes>"
            ]
          },
          "metadata": {},
          "output_type": "display_data"
        }
      ],
      "source": [
        "plt.subplot(1, 2, 1)\n",
        "plt.boxplot(authors_colums_selected['text_reviews_count'], showfliers= False)\n",
        "plt.title('Number of text_reviews_count')\n",
        "plt.xlabel('Number of text_reviews_count')\n",
        "plt.ylabel('Frequencies')\n",
        "\n",
        "plt.subplot(1, 2, 2)\n",
        "plt.boxplot(authors_colums_selected['fans_count'], showfliers= False)\n",
        "plt.title('Number of fans_count')\n",
        "plt.xlabel('Number of fans_count')\n",
        "plt.ylabel('Frequencies')\n"
      ]
    },
    {
      "cell_type": "code",
      "source": [
        "ratings_outlier = authors.ratings_count[authors.ratings_count < authors.ratings_count.quantile(.9)]\n",
        "text_reviews_outlier = authors.text_reviews_count[authors.text_reviews_count < authors.text_reviews_count.quantile(0.9)]\n"
      ],
      "metadata": {
        "id": "UNJdR_T_BPvC"
      },
      "execution_count": null,
      "outputs": []
    },
    {
      "cell_type": "code",
      "source": [
        "plt.figure(figsize=(12,6))\n",
        "plt.subplot(121)\n",
        "sns.distplot(ratings_outlier, hist=True, kde=True,\n",
        "             bins=int(180/5), color = 'lightblue',\n",
        "             hist_kws={'edgecolor':'lightblue'},\n",
        "             kde_kws={'linewidth': 4}).set(title='Distribution of \\n number of ratings count  per text reviews')\n",
        "plt.subplot(122)\n",
        "sns.distplot(text_reviews_outlier, hist=True, kde=True,\n",
        "             bins=int(180/5), color = 'green',\n",
        "             hist_kws={'edgecolor':'green'},\n",
        "             kde_kws={'linewidth': 4}).set(title='Distribution of \\n number of text reviews per ratings count')\n",
        "plt.show()"
      ],
      "metadata": {
        "colab": {
          "base_uri": "https://localhost:8080/",
          "height": 978
        },
        "id": "m_dk5i-LBO0k",
        "outputId": "29cfda48-18aa-418d-8c37-824c31fee554"
      },
      "execution_count": null,
      "outputs": [
        {
          "output_type": "stream",
          "name": "stderr",
          "text": [
            "<ipython-input-51-bcb4779259d1>:3: UserWarning: \n",
            "\n",
            "`distplot` is a deprecated function and will be removed in seaborn v0.14.0.\n",
            "\n",
            "Please adapt your code to use either `displot` (a figure-level function with\n",
            "similar flexibility) or `histplot` (an axes-level function for histograms).\n",
            "\n",
            "For a guide to updating your code to use the new functions, please see\n",
            "https://gist.github.com/mwaskom/de44147ed2974457ad6372750bbe5751\n",
            "\n",
            "  sns.distplot(ratings_outlier, hist=True, kde=True,\n",
            "<ipython-input-51-bcb4779259d1>:8: UserWarning: \n",
            "\n",
            "`distplot` is a deprecated function and will be removed in seaborn v0.14.0.\n",
            "\n",
            "Please adapt your code to use either `displot` (a figure-level function with\n",
            "similar flexibility) or `histplot` (an axes-level function for histograms).\n",
            "\n",
            "For a guide to updating your code to use the new functions, please see\n",
            "https://gist.github.com/mwaskom/de44147ed2974457ad6372750bbe5751\n",
            "\n",
            "  sns.distplot(text_reviews_outlier, hist=True, kde=True,\n"
          ]
        },
        {
          "output_type": "display_data",
          "data": {
            "text/plain": [
              "<Figure size 1200x600 with 2 Axes>"
            ],
            "image/png": "[encoded data removed]"
          },
          "metadata": {}
        }
      ]
    },
    {
      "cell_type": "markdown",
      "metadata": {
        "id": "KsvAl0jCTQLN"
      },
      "source": [
        "**[RQ2]**"
      ]
    },
    {
      "cell_type": "code",
      "execution_count": null,
      "metadata": {
        "id": "EHq7zqsWV25E"
      },
      "outputs": [],
      "source": [
        "books = read_only_columns(path_books_dataset_laura, ['language', 'average_rating', 'num_pages', 'authors', 'average_rating', 'ratings_count'] )"
      ]
    },
    {
      "cell_type": "code",
      "execution_count": null,
      "metadata": {
        "id": "Im7aq7yEfWs4"
      },
      "outputs": [],
      "source": [
        "authors = pd.read_json(path_authors_dataset_laura, lines=True)"
      ]
    },
    {
      "cell_type": "markdown",
      "metadata": {
        "id": "jK2CVzNITY8H"
      },
      "source": [
        "*   Plot the number of books for each author in descending order.\n",
        "\n",
        "\n",
        "\n",
        "\n",
        "\n",
        "\n"
      ]
    },
    {
      "cell_type": "code",
      "execution_count": null,
      "metadata": {
        "colab": {
          "base_uri": "https://localhost:8080/",
          "height": 1000
        },
        "id": "qtoQtLHZTljd",
        "outputId": "30ab11a2-5dac-4026-8c0d-1cf68bac63bc"
      },
      "outputs": [
        {
          "data": {
            "text/html": [
              "\n",
              "  <div id=\"df-32a8e6ee-d791-4e43-8c6c-e6b7ae5909fc\" class=\"colab-df-container\">\n",
              "    <div>\n",
              "<style scoped>\n",
              "    .dataframe tbody tr th:only-of-type {\n",
              "        vertical-align: middle;\n",
              "    }\n",
              "\n",
              "    .dataframe tbody tr th {\n",
              "        vertical-align: top;\n",
              "    }\n",
              "\n",
              "    .dataframe thead th {\n",
              "        text-align: right;\n",
              "    }\n",
              "</style>\n",
              "<table border=\"1\" class=\"dataframe\">\n",
              "  <thead>\n",
              "    <tr style=\"text-align: right;\">\n",
              "      <th></th>\n",
              "      <th>ratings_count</th>\n",
              "      <th>average_rating</th>\n",
              "      <th>text_reviews_count</th>\n",
              "      <th>work_ids</th>\n",
              "      <th>book_ids</th>\n",
              "      <th>works_count</th>\n",
              "      <th>id</th>\n",
              "      <th>name</th>\n",
              "      <th>gender</th>\n",
              "      <th>image_url</th>\n",
              "      <th>about</th>\n",
              "      <th>fans_count</th>\n",
              "    </tr>\n",
              "  </thead>\n",
              "  <tbody>\n",
              "    <tr>\n",
              "      <th>83322</th>\n",
              "      <td>115710</td>\n",
              "      <td>4.07</td>\n",
              "      <td>9411</td>\n",
              "      <td>[45100209, 3628, 1507439, 85644185, 24676995, ...</td>\n",
              "      <td>[25357793, 530270, 1515734, 54883522, 17673542...</td>\n",
              "      <td>1775176</td>\n",
              "      <td>1000834</td>\n",
              "      <td>NOT A BOOK</td>\n",
              "      <td></td>\n",
              "      <td>https://s.gr-assets.com/assets/nophoto/user/u_...</td>\n",
              "      <td>This profile was created to segregate those it...</td>\n",
              "      <td>4504</td>\n",
              "    </tr>\n",
              "    <tr>\n",
              "      <th>213945</th>\n",
              "      <td>8510</td>\n",
              "      <td>4.02</td>\n",
              "      <td>527</td>\n",
              "      <td>[21723362, 22939358, 22945924, 22579311, 22982...</td>\n",
              "      <td>[15971714, 16706030, 16712573, 16392251, 16739...</td>\n",
              "      <td>186086</td>\n",
              "      <td>5823409</td>\n",
              "      <td>Jesse Russell</td>\n",
              "      <td>male</td>\n",
              "      <td>https://s.gr-assets.com/assets/nophoto/user/m_...</td>\n",
              "      <td>Bookvika Publishing, VSD, Book on Demand Ltd —...</td>\n",
              "      <td>164</td>\n",
              "    </tr>\n",
              "    <tr>\n",
              "      <th>155912</th>\n",
              "      <td>8896</td>\n",
              "      <td>4.03</td>\n",
              "      <td>603</td>\n",
              "      <td>[45374727, 42340520, 64602098, 26803594, 64492...</td>\n",
              "      <td>[25573859, 22795625, 41384870, 18855820, 41284...</td>\n",
              "      <td>186047</td>\n",
              "      <td>3393273</td>\n",
              "      <td>Ronald Cohn</td>\n",
              "      <td>male</td>\n",
              "      <td>https://s.gr-assets.com/assets/nophoto/user/m_...</td>\n",
              "      <td>Bookvika Publishing, VSD, Book on Demand Ltd —...</td>\n",
              "      <td>31</td>\n",
              "    </tr>\n",
              "    <tr>\n",
              "      <th>198315</th>\n",
              "      <td>1434041</td>\n",
              "      <td>4.15</td>\n",
              "      <td>78830</td>\n",
              "      <td>[6405906, 2139868, 3802528, 19119100, 859375, ...</td>\n",
              "      <td>[1923820, 323355, 19351, 280111, 93101, 646462...</td>\n",
              "      <td>182675</td>\n",
              "      <td>5158478</td>\n",
              "      <td>Anonymous</td>\n",
              "      <td></td>\n",
              "      <td>https://s.gr-assets.com/assets/nophoto/user/u_...</td>\n",
              "      <td>Books can be attributed to \"Anonymous\" for sev...</td>\n",
              "      <td>2456</td>\n",
              "    </tr>\n",
              "    <tr>\n",
              "      <th>187134</th>\n",
              "      <td>431204</td>\n",
              "      <td>3.58</td>\n",
              "      <td>18883</td>\n",
              "      <td>[189503, 2954048, 15068023, 477, 370900, 11453...</td>\n",
              "      <td>[52357, 3049, 23613, 73419, 381112, 18261, 100...</td>\n",
              "      <td>163434</td>\n",
              "      <td>4699102</td>\n",
              "      <td>Unknown</td>\n",
              "      <td></td>\n",
              "      <td>https://s.gr-assets.com/assets/nophoto/user/u_...</td>\n",
              "      <td>Books can be attributed to \"Unknown\" when the ...</td>\n",
              "      <td>1067</td>\n",
              "    </tr>\n",
              "    <tr>\n",
              "      <th>...</th>\n",
              "      <td>...</td>\n",
              "      <td>...</td>\n",
              "      <td>...</td>\n",
              "      <td>...</td>\n",
              "      <td>...</td>\n",
              "      <td>...</td>\n",
              "      <td>...</td>\n",
              "      <td>...</td>\n",
              "      <td>...</td>\n",
              "      <td>...</td>\n",
              "      <td>...</td>\n",
              "      <td>...</td>\n",
              "    </tr>\n",
              "    <tr>\n",
              "      <th>225259</th>\n",
              "      <td>2</td>\n",
              "      <td>4.50</td>\n",
              "      <td>2</td>\n",
              "      <td>[21540712]</td>\n",
              "      <td>[15814300]</td>\n",
              "      <td>1</td>\n",
              "      <td>6464608</td>\n",
              "      <td>James D. Roumeliotis</td>\n",
              "      <td>male</td>\n",
              "      <td>https://images.gr-assets.com/authors/134962322...</td>\n",
              "      <td>James, multilingual and multicultural is a lon...</td>\n",
              "      <td>1</td>\n",
              "    </tr>\n",
              "    <tr>\n",
              "      <th>351766</th>\n",
              "      <td>1</td>\n",
              "      <td>5.00</td>\n",
              "      <td>0</td>\n",
              "      <td>[49933850]</td>\n",
              "      <td>[29597374]</td>\n",
              "      <td>1</td>\n",
              "      <td>16777164</td>\n",
              "      <td>James           Ross</td>\n",
              "      <td></td>\n",
              "      <td>https://s.gr-assets.com/assets/nophoto/user/u_...</td>\n",
              "      <td>&lt;i&gt;Librarian Note: There is more than one auth...</td>\n",
              "      <td>0</td>\n",
              "    </tr>\n",
              "    <tr>\n",
              "      <th>123922</th>\n",
              "      <td>0</td>\n",
              "      <td>0.00</td>\n",
              "      <td>0</td>\n",
              "      <td>[]</td>\n",
              "      <td>[]</td>\n",
              "      <td>0</td>\n",
              "      <td>17146018</td>\n",
              "      <td>Kamryn Hart</td>\n",
              "      <td>female</td>\n",
              "      <td>https://images.gr-assets.com/authors/154145249...</td>\n",
              "      <td>Kamryn Hart (also known as &lt;a href=\"https://ww...</td>\n",
              "      <td>59</td>\n",
              "    </tr>\n",
              "    <tr>\n",
              "      <th>57720</th>\n",
              "      <td>0</td>\n",
              "      <td>0.00</td>\n",
              "      <td>0</td>\n",
              "      <td>[]</td>\n",
              "      <td>[]</td>\n",
              "      <td>0</td>\n",
              "      <td>495244</td>\n",
              "      <td>L. Adams Beck</td>\n",
              "      <td>female</td>\n",
              "      <td>https://images.gr-assets.com/authors/156919099...</td>\n",
              "      <td>Elizabeth Louisa \"Lily\" Moresby was born on la...</td>\n",
              "      <td>3</td>\n",
              "    </tr>\n",
              "    <tr>\n",
              "      <th>43449</th>\n",
              "      <td>0</td>\n",
              "      <td>0.00</td>\n",
              "      <td>0</td>\n",
              "      <td>[]</td>\n",
              "      <td>[]</td>\n",
              "      <td>0</td>\n",
              "      <td>304399</td>\n",
              "      <td>W.H. James Weale</td>\n",
              "      <td>male</td>\n",
              "      <td>https://s.gr-assets.com/assets/nophoto/user/m_...</td>\n",
              "      <td>William Henry James Weale (8 March 1832 – 26 A...</td>\n",
              "      <td>0</td>\n",
              "    </tr>\n",
              "  </tbody>\n",
              "</table>\n",
              "<p>351767 rows × 12 columns</p>\n",
              "</div>\n",
              "    <div class=\"colab-df-buttons\">\n",
              "\n",
              "  <div class=\"colab-df-container\">\n",
              "    <button class=\"colab-df-convert\" onclick=\"convertToInteractive('df-32a8e6ee-d791-4e43-8c6c-e6b7ae5909fc')\"\n",
              "            title=\"Convert this dataframe to an interactive table.\"\n",
              "            style=\"display:none;\">\n",
              "\n",
              "  <svg xmlns=\"http://www.w3.org/2000/svg\" height=\"24px\" viewBox=\"0 -960 960 960\">\n",
              "    <path d=\"M120-120v-720h720v720H120Zm60-500h600v-160H180v160Zm220 220h160v-160H400v160Zm0 220h160v-160H400v160ZM180-400h160v-160H180v160Zm440 0h160v-160H620v160ZM180-180h160v-160H180v160Zm440 0h160v-160H620v160Z\"/>\n",
              "  </svg>\n",
              "    </button>\n",
              "\n",
              "  <style>\n",
              "    .colab-df-container {\n",
              "      display:flex;\n",
              "      gap: 12px;\n",
              "    }\n",
              "\n",
              "    .colab-df-convert {\n",
              "      background-color: #E8F0FE;\n",
              "      border: none;\n",
              "      border-radius: 50%;\n",
              "      cursor: pointer;\n",
              "      display: none;\n",
              "      fill: #1967D2;\n",
              "      height: 32px;\n",
              "      padding: 0 0 0 0;\n",
              "      width: 32px;\n",
              "    }\n",
              "\n",
              "    .colab-df-convert:hover {\n",
              "      background-color: #E2EBFA;\n",
              "      box-shadow: 0px 1px 2px rgba(60, 64, 67, 0.3), 0px 1px 3px 1px rgba(60, 64, 67, 0.15);\n",
              "      fill: #174EA6;\n",
              "    }\n",
              "\n",
              "    .colab-df-buttons div {\n",
              "      margin-bottom: 4px;\n",
              "    }\n",
              "\n",
              "    [theme=dark] .colab-df-convert {\n",
              "      background-color: #3B4455;\n",
              "      fill: #D2E3FC;\n",
              "    }\n",
              "\n",
              "    [theme=dark] .colab-df-convert:hover {\n",
              "      background-color: #434B5C;\n",
              "      box-shadow: 0px 1px 3px 1px rgba(0, 0, 0, 0.15);\n",
              "      filter: drop-shadow(0px 1px 2px rgba(0, 0, 0, 0.3));\n",
              "      fill: #FFFFFF;\n",
              "    }\n",
              "  </style>\n",
              "\n",
              "    <script>\n",
              "      const buttonEl =\n",
              "        document.querySelector('#df-32a8e6ee-d791-4e43-8c6c-e6b7ae5909fc button.colab-df-convert');\n",
              "      buttonEl.style.display =\n",
              "        google.colab.kernel.accessAllowed ? 'block' : 'none';\n",
              "\n",
              "      async function convertToInteractive(key) {\n",
              "        const element = document.querySelector('#df-32a8e6ee-d791-4e43-8c6c-e6b7ae5909fc');\n",
              "        const dataTable =\n",
              "          await google.colab.kernel.invokeFunction('convertToInteractive',\n",
              "                                                    [key], {});\n",
              "        if (!dataTable) return;\n",
              "\n",
              "        const docLinkHtml = 'Like what you see? Visit the ' +\n",
              "          '<a target=\"_blank\" href=https://colab.research.google.com/notebooks/data_table.ipynb>data table notebook</a>'\n",
              "          + ' to learn more about interactive tables.';\n",
              "        element.innerHTML = '';\n",
              "        dataTable['output_type'] = 'display_data';\n",
              "        await google.colab.output.renderOutput(dataTable, element);\n",
              "        const docLink = document.createElement('div');\n",
              "        docLink.innerHTML = docLinkHtml;\n",
              "        element.appendChild(docLink);\n",
              "      }\n",
              "    </script>\n",
              "  </div>\n",
              "\n",
              "\n",
              "<div id=\"df-a913cec0-7373-4e10-b089-0bdbea9d7648\">\n",
              "  <button class=\"colab-df-quickchart\" onclick=\"quickchart('df-a913cec0-7373-4e10-b089-0bdbea9d7648')\"\n",
              "            title=\"Suggest charts.\"\n",
              "            style=\"display:none;\">\n",
              "\n",
              "<svg xmlns=\"http://www.w3.org/2000/svg\" height=\"24px\"viewBox=\"0 0 24 24\"\n",
              "     width=\"24px\">\n",
              "    <g>\n",
              "        <path d=\"M19 3H5c-1.1 0-2 .9-2 2v14c0 1.1.9 2 2 2h14c1.1 0 2-.9 2-2V5c0-1.1-.9-2-2-2zM9 17H7v-7h2v7zm4 0h-2V7h2v10zm4 0h-2v-4h2v4z\"/>\n",
              "    </g>\n",
              "</svg>\n",
              "  </button>\n",
              "\n",
              "<style>\n",
              "  .colab-df-quickchart {\n",
              "      --bg-color: #E8F0FE;\n",
              "      --fill-color: #1967D2;\n",
              "      --hover-bg-color: #E2EBFA;\n",
              "      --hover-fill-color: #174EA6;\n",
              "      --disabled-fill-color: #AAA;\n",
              "      --disabled-bg-color: #DDD;\n",
              "  }\n",
              "\n",
              "  [theme=dark] .colab-df-quickchart {\n",
              "      --bg-color: #3B4455;\n",
              "      --fill-color: #D2E3FC;\n",
              "      --hover-bg-color: #434B5C;\n",
              "      --hover-fill-color: #FFFFFF;\n",
              "      --disabled-bg-color: #3B4455;\n",
              "      --disabled-fill-color: #666;\n",
              "  }\n",
              "\n",
              "  .colab-df-quickchart {\n",
              "    background-color: var(--bg-color);\n",
              "    border: none;\n",
              "    border-radius: 50%;\n",
              "    cursor: pointer;\n",
              "    display: none;\n",
              "    fill: var(--fill-color);\n",
              "    height: 32px;\n",
              "    padding: 0;\n",
              "    width: 32px;\n",
              "  }\n",
              "\n",
              "  .colab-df-quickchart:hover {\n",
              "    background-color: var(--hover-bg-color);\n",
              "    box-shadow: 0 1px 2px rgba(60, 64, 67, 0.3), 0 1px 3px 1px rgba(60, 64, 67, 0.15);\n",
              "    fill: var(--button-hover-fill-color);\n",
              "  }\n",
              "\n",
              "  .colab-df-quickchart-complete:disabled,\n",
              "  .colab-df-quickchart-complete:disabled:hover {\n",
              "    background-color: var(--disabled-bg-color);\n",
              "    fill: var(--disabled-fill-color);\n",
              "    box-shadow: none;\n",
              "  }\n",
              "\n",
              "  .colab-df-spinner {\n",
              "    border: 2px solid var(--fill-color);\n",
              "    border-color: transparent;\n",
              "    border-bottom-color: var(--fill-color);\n",
              "    animation:\n",
              "      spin 1s steps(1) infinite;\n",
              "  }\n",
              "\n",
              "  @keyframes spin {\n",
              "    0% {\n",
              "      border-color: transparent;\n",
              "      border-bottom-color: var(--fill-color);\n",
              "      border-left-color: var(--fill-color);\n",
              "    }\n",
              "    20% {\n",
              "      border-color: transparent;\n",
              "      border-left-color: var(--fill-color);\n",
              "      border-top-color: var(--fill-color);\n",
              "    }\n",
              "    30% {\n",
              "      border-color: transparent;\n",
              "      border-left-color: var(--fill-color);\n",
              "      border-top-color: var(--fill-color);\n",
              "      border-right-color: var(--fill-color);\n",
              "    }\n",
              "    40% {\n",
              "      border-color: transparent;\n",
              "      border-right-color: var(--fill-color);\n",
              "      border-top-color: var(--fill-color);\n",
              "    }\n",
              "    60% {\n",
              "      border-color: transparent;\n",
              "      border-right-color: var(--fill-color);\n",
              "    }\n",
              "    80% {\n",
              "      border-color: transparent;\n",
              "      border-right-color: var(--fill-color);\n",
              "      border-bottom-color: var(--fill-color);\n",
              "    }\n",
              "    90% {\n",
              "      border-color: transparent;\n",
              "      border-bottom-color: var(--fill-color);\n",
              "    }\n",
              "  }\n",
              "</style>\n",
              "\n",
              "  <script>\n",
              "    async function quickchart(key) {\n",
              "      const quickchartButtonEl =\n",
              "        document.querySelector('#' + key + ' button');\n",
              "      quickchartButtonEl.disabled = true;  // To prevent multiple clicks.\n",
              "      quickchartButtonEl.classList.add('colab-df-spinner');\n",
              "      try {\n",
              "        const charts = await google.colab.kernel.invokeFunction(\n",
              "            'suggestCharts', [key], {});\n",
              "      } catch (error) {\n",
              "        console.error('Error during call to suggestCharts:', error);\n",
              "      }\n",
              "      quickchartButtonEl.classList.remove('colab-df-spinner');\n",
              "      quickchartButtonEl.classList.add('colab-df-quickchart-complete');\n",
              "    }\n",
              "    (() => {\n",
              "      let quickchartButtonEl =\n",
              "        document.querySelector('#df-a913cec0-7373-4e10-b089-0bdbea9d7648 button');\n",
              "      quickchartButtonEl.style.display =\n",
              "        google.colab.kernel.accessAllowed ? 'block' : 'none';\n",
              "    })();\n",
              "  </script>\n",
              "</div>\n",
              "    </div>\n",
              "  </div>\n"
            ],
            "text/plain": [
              "        ratings_count  average_rating  text_reviews_count  \\\n",
              "83322          115710            4.07                9411   \n",
              "213945           8510            4.02                 527   \n",
              "155912           8896            4.03                 603   \n",
              "198315        1434041            4.15               78830   \n",
              "187134         431204            3.58               18883   \n",
              "...               ...             ...                 ...   \n",
              "225259              2            4.50                   2   \n",
              "351766              1            5.00                   0   \n",
              "123922              0            0.00                   0   \n",
              "57720               0            0.00                   0   \n",
              "43449               0            0.00                   0   \n",
              "\n",
              "                                                 work_ids  \\\n",
              "83322   [45100209, 3628, 1507439, 85644185, 24676995, ...   \n",
              "213945  [21723362, 22939358, 22945924, 22579311, 22982...   \n",
              "155912  [45374727, 42340520, 64602098, 26803594, 64492...   \n",
              "198315  [6405906, 2139868, 3802528, 19119100, 859375, ...   \n",
              "187134  [189503, 2954048, 15068023, 477, 370900, 11453...   \n",
              "...                                                   ...   \n",
              "225259                                         [21540712]   \n",
              "351766                                         [49933850]   \n",
              "123922                                                 []   \n",
              "57720                                                  []   \n",
              "43449                                                  []   \n",
              "\n",
              "                                                 book_ids  works_count  \\\n",
              "83322   [25357793, 530270, 1515734, 54883522, 17673542...      1775176   \n",
              "213945  [15971714, 16706030, 16712573, 16392251, 16739...       186086   \n",
              "155912  [25573859, 22795625, 41384870, 18855820, 41284...       186047   \n",
              "198315  [1923820, 323355, 19351, 280111, 93101, 646462...       182675   \n",
              "187134  [52357, 3049, 23613, 73419, 381112, 18261, 100...       163434   \n",
              "...                                                   ...          ...   \n",
              "225259                                         [15814300]            1   \n",
              "351766                                         [29597374]            1   \n",
              "123922                                                 []            0   \n",
              "57720                                                  []            0   \n",
              "43449                                                  []            0   \n",
              "\n",
              "              id                  name  gender  \\\n",
              "83322    1000834            NOT A BOOK           \n",
              "213945   5823409         Jesse Russell    male   \n",
              "155912   3393273           Ronald Cohn    male   \n",
              "198315   5158478             Anonymous           \n",
              "187134   4699102               Unknown           \n",
              "...          ...                   ...     ...   \n",
              "225259   6464608  James D. Roumeliotis    male   \n",
              "351766  16777164  James           Ross           \n",
              "123922  17146018           Kamryn Hart  female   \n",
              "57720     495244         L. Adams Beck  female   \n",
              "43449     304399      W.H. James Weale    male   \n",
              "\n",
              "                                                image_url  \\\n",
              "83322   https://s.gr-assets.com/assets/nophoto/user/u_...   \n",
              "213945  https://s.gr-assets.com/assets/nophoto/user/m_...   \n",
              "155912  https://s.gr-assets.com/assets/nophoto/user/m_...   \n",
              "198315  https://s.gr-assets.com/assets/nophoto/user/u_...   \n",
              "187134  https://s.gr-assets.com/assets/nophoto/user/u_...   \n",
              "...                                                   ...   \n",
              "225259  https://images.gr-assets.com/authors/134962322...   \n",
              "351766  https://s.gr-assets.com/assets/nophoto/user/u_...   \n",
              "123922  https://images.gr-assets.com/authors/154145249...   \n",
              "57720   https://images.gr-assets.com/authors/156919099...   \n",
              "43449   https://s.gr-assets.com/assets/nophoto/user/m_...   \n",
              "\n",
              "                                                    about  fans_count  \n",
              "83322   This profile was created to segregate those it...        4504  \n",
              "213945  Bookvika Publishing, VSD, Book on Demand Ltd —...         164  \n",
              "155912  Bookvika Publishing, VSD, Book on Demand Ltd —...          31  \n",
              "198315  Books can be attributed to \"Anonymous\" for sev...        2456  \n",
              "187134  Books can be attributed to \"Unknown\" when the ...        1067  \n",
              "...                                                   ...         ...  \n",
              "225259  James, multilingual and multicultural is a lon...           1  \n",
              "351766  <i>Librarian Note: There is more than one auth...           0  \n",
              "123922  Kamryn Hart (also known as <a href=\"https://ww...          59  \n",
              "57720   Elizabeth Louisa \"Lily\" Moresby was born on la...           3  \n",
              "43449   William Henry James Weale (8 March 1832 – 26 A...           0  \n",
              "\n",
              "[351767 rows x 12 columns]"
            ]
          },
          "execution_count": 5,
          "metadata": {},
          "output_type": "execute_result"
        }
      ],
      "source": [
        "authors.sort_values(by='works_count', ascending=False)"
      ]
    },
    {
      "cell_type": "markdown",
      "metadata": {
        "id": "EdZTHj-5XeOH"
      },
      "source": [
        "*   Which book has the highest number of reviews?"
      ]
    },
    {
      "cell_type": "code",
      "execution_count": null,
      "metadata": {
        "colab": {
          "base_uri": "https://localhost:8080/",
          "height": 1000
        },
        "id": "iNoVqYyoUWHr",
        "outputId": "473d35d4-3c09-41ba-cca4-1ca36efc41fc"
      },
      "outputs": [
        {
          "data": {
            "text/html": [
              "\n",
              "  <div id=\"df-b470b28c-9cc5-4d61-8cbe-ad1c21a4c31d\" class=\"colab-df-container\">\n",
              "    <div>\n",
              "<style scoped>\n",
              "    .dataframe tbody tr th:only-of-type {\n",
              "        vertical-align: middle;\n",
              "    }\n",
              "\n",
              "    .dataframe tbody tr th {\n",
              "        vertical-align: top;\n",
              "    }\n",
              "\n",
              "    .dataframe thead th {\n",
              "        text-align: right;\n",
              "    }\n",
              "</style>\n",
              "<table border=\"1\" class=\"dataframe\">\n",
              "  <thead>\n",
              "    <tr style=\"text-align: right;\">\n",
              "      <th></th>\n",
              "      <th>id</th>\n",
              "      <th>title</th>\n",
              "      <th>authors</th>\n",
              "      <th>author_name</th>\n",
              "      <th>author_id</th>\n",
              "      <th>work_id</th>\n",
              "      <th>isbn</th>\n",
              "      <th>isbn13</th>\n",
              "      <th>asin</th>\n",
              "      <th>language</th>\n",
              "      <th>...</th>\n",
              "      <th>format</th>\n",
              "      <th>edition_information</th>\n",
              "      <th>image_url</th>\n",
              "      <th>publisher</th>\n",
              "      <th>num_pages</th>\n",
              "      <th>series_id</th>\n",
              "      <th>series_name</th>\n",
              "      <th>series_position</th>\n",
              "      <th>shelves</th>\n",
              "      <th>description</th>\n",
              "    </tr>\n",
              "  </thead>\n",
              "  <tbody>\n",
              "    <tr>\n",
              "      <th>1</th>\n",
              "      <td>3</td>\n",
              "      <td>Harry Potter and the Sorcerer's Stone (Harry P...</td>\n",
              "      <td>[{'id': '1077326', 'name': 'J.K. Rowling', 'ro...</td>\n",
              "      <td>J.K. Rowling</td>\n",
              "      <td>1077326</td>\n",
              "      <td>4640799</td>\n",
              "      <td></td>\n",
              "      <td></td>\n",
              "      <td></td>\n",
              "      <td>eng</td>\n",
              "      <td>...</td>\n",
              "      <td>Hardcover</td>\n",
              "      <td>Library Edition</td>\n",
              "      <td>https://i.gr-assets.com/images/S/compressed.ph...</td>\n",
              "      <td>Scholastic Inc</td>\n",
              "      <td>309</td>\n",
              "      <td>45175</td>\n",
              "      <td>Harry Potter</td>\n",
              "      <td>1</td>\n",
              "      <td>[{'name': 'fantasy', 'count': 63540}, {'name':...</td>\n",
              "      <td>Harry Potter's life is miserable. His parents ...</td>\n",
              "    </tr>\n",
              "    <tr>\n",
              "      <th>2089</th>\n",
              "      <td>3357</td>\n",
              "      <td>Harry Potter Y La Piedra Filosofal (Harry Pott...</td>\n",
              "      <td>None</td>\n",
              "      <td>J.K. Rowling</td>\n",
              "      <td>1077326</td>\n",
              "      <td>4640799</td>\n",
              "      <td>0613359607</td>\n",
              "      <td>9780613359603</td>\n",
              "      <td></td>\n",
              "      <td>spa</td>\n",
              "      <td>...</td>\n",
              "      <td>Library Binding</td>\n",
              "      <td></td>\n",
              "      <td>https://i.gr-assets.com/images/S/compressed.ph...</td>\n",
              "      <td>Turtleback Books</td>\n",
              "      <td>254</td>\n",
              "      <td>45175</td>\n",
              "      <td>Harry Potter</td>\n",
              "      <td>1</td>\n",
              "      <td>[{'name': 'fantasy', 'count': 63540}, {'name':...</td>\n",
              "      <td>Harry es húerfano de padre y madre y vive con ...</td>\n",
              "    </tr>\n",
              "    <tr>\n",
              "      <th>2653</th>\n",
              "      <td>4255</td>\n",
              "      <td>Harry Potter and the Philosopher's Stone</td>\n",
              "      <td>None</td>\n",
              "      <td>J.K. Rowling</td>\n",
              "      <td>1077326</td>\n",
              "      <td>4640799</td>\n",
              "      <td></td>\n",
              "      <td></td>\n",
              "      <td></td>\n",
              "      <td>eng</td>\n",
              "      <td>...</td>\n",
              "      <td>Hardcover</td>\n",
              "      <td>UK Edition</td>\n",
              "      <td>https://i.gr-assets.com/images/S/compressed.ph...</td>\n",
              "      <td>Bloomsbury Publishing PLC</td>\n",
              "      <td>223</td>\n",
              "      <td>45175</td>\n",
              "      <td>Harry Potter</td>\n",
              "      <td>1</td>\n",
              "      <td>[{'name': 'fantasy', 'count': 63540}, {'name':...</td>\n",
              "      <td>When a letter arrives for unhappy but ordinary...</td>\n",
              "    </tr>\n",
              "    <tr>\n",
              "      <th>2088</th>\n",
              "      <td>3356</td>\n",
              "      <td>Harry Potter y la piedra filosofal (Harry Pott...</td>\n",
              "      <td>None</td>\n",
              "      <td>J.K. Rowling</td>\n",
              "      <td>1077326</td>\n",
              "      <td>4640799</td>\n",
              "      <td>0320037827</td>\n",
              "      <td>9780320037825</td>\n",
              "      <td></td>\n",
              "      <td>spa</td>\n",
              "      <td>...</td>\n",
              "      <td></td>\n",
              "      <td></td>\n",
              "      <td>https://i.gr-assets.com/images/S/compressed.ph...</td>\n",
              "      <td></td>\n",
              "      <td></td>\n",
              "      <td>45175</td>\n",
              "      <td>Harry Potter</td>\n",
              "      <td>1</td>\n",
              "      <td>[{'name': 'fantasy', 'count': 63540}, {'name':...</td>\n",
              "      <td>Harry Potter se ha quedado huérfano y vive en ...</td>\n",
              "    </tr>\n",
              "    <tr>\n",
              "      <th>30999</th>\n",
              "      <td>49800</td>\n",
              "      <td>Harrius Potter et Philosophi Lapis</td>\n",
              "      <td>[{'id': '1077326', 'name': 'J.K. Rowling', 'ro...</td>\n",
              "      <td>J.K. Rowling</td>\n",
              "      <td>1077326</td>\n",
              "      <td>4640799</td>\n",
              "      <td>0747561966</td>\n",
              "      <td>9780747561965</td>\n",
              "      <td></td>\n",
              "      <td>lat</td>\n",
              "      <td>...</td>\n",
              "      <td>Hardcover</td>\n",
              "      <td>First Edition</td>\n",
              "      <td>https://s.gr-assets.com/assets/nophoto/book/11...</td>\n",
              "      <td>Bloomsbury</td>\n",
              "      <td>249</td>\n",
              "      <td>45175</td>\n",
              "      <td>Harry Potter</td>\n",
              "      <td>1</td>\n",
              "      <td>[{'name': 'fantasy', 'count': 63505}, {'name':...</td>\n",
              "      <td>Harrius Potter et Philosophi Lapis Caput Primu...</td>\n",
              "    </tr>\n",
              "    <tr>\n",
              "      <th>...</th>\n",
              "      <td>...</td>\n",
              "      <td>...</td>\n",
              "      <td>...</td>\n",
              "      <td>...</td>\n",
              "      <td>...</td>\n",
              "      <td>...</td>\n",
              "      <td>...</td>\n",
              "      <td>...</td>\n",
              "      <td>...</td>\n",
              "      <td>...</td>\n",
              "      <td>...</td>\n",
              "      <td>...</td>\n",
              "      <td>...</td>\n",
              "      <td>...</td>\n",
              "      <td>...</td>\n",
              "      <td>...</td>\n",
              "      <td>...</td>\n",
              "      <td>...</td>\n",
              "      <td>...</td>\n",
              "      <td>...</td>\n",
              "      <td>...</td>\n",
              "    </tr>\n",
              "    <tr>\n",
              "      <th>120507</th>\n",
              "      <td>225712</td>\n",
              "      <td>NOT A BOOK: Read Write Inc.: Set 2 Purple: Col...</td>\n",
              "      <td>None</td>\n",
              "      <td>NOT A BOOK</td>\n",
              "      <td>1000834</td>\n",
              "      <td>42596896</td>\n",
              "      <td>0198460015</td>\n",
              "      <td>9780198460015</td>\n",
              "      <td></td>\n",
              "      <td></td>\n",
              "      <td>...</td>\n",
              "      <td>Unknown Binding</td>\n",
              "      <td></td>\n",
              "      <td>https://s.gr-assets.com/assets/nophoto/book/11...</td>\n",
              "      <td>Not Avail</td>\n",
              "      <td>12</td>\n",
              "      <td></td>\n",
              "      <td></td>\n",
              "      <td></td>\n",
              "      <td>[]</td>\n",
              "      <td>The language used in the Storybooks is natural...</td>\n",
              "    </tr>\n",
              "    <tr>\n",
              "      <th>112412</th>\n",
              "      <td>207832</td>\n",
              "      <td>The Holmes-Sheehan Correspondence: The Letters...</td>\n",
              "      <td>None</td>\n",
              "      <td>Oliver Wendell Holmes Jr.</td>\n",
              "      <td>432185</td>\n",
              "      <td>201157</td>\n",
              "      <td>0823215253</td>\n",
              "      <td>9780823215256</td>\n",
              "      <td></td>\n",
              "      <td></td>\n",
              "      <td>...</td>\n",
              "      <td>Hardcover</td>\n",
              "      <td></td>\n",
              "      <td>https://s.gr-assets.com/assets/nophoto/book/11...</td>\n",
              "      <td>Fordham University Press</td>\n",
              "      <td>96</td>\n",
              "      <td></td>\n",
              "      <td></td>\n",
              "      <td></td>\n",
              "      <td>[{'name': 'to-read', 'count': 3}]</td>\n",
              "      <td>Oliver Wendell Holmes, Jr., distinguished Amer...</td>\n",
              "    </tr>\n",
              "    <tr>\n",
              "      <th>63392</th>\n",
              "      <td>106845</td>\n",
              "      <td>Paranoid, or So They Say</td>\n",
              "      <td>None</td>\n",
              "      <td>Alex   Robinson</td>\n",
              "      <td>3367778</td>\n",
              "      <td>102984</td>\n",
              "      <td>1585001716</td>\n",
              "      <td>9781585001712</td>\n",
              "      <td></td>\n",
              "      <td></td>\n",
              "      <td>...</td>\n",
              "      <td>Paperback</td>\n",
              "      <td></td>\n",
              "      <td>https://s.gr-assets.com/assets/nophoto/book/11...</td>\n",
              "      <td>Authorhouse</td>\n",
              "      <td>120</td>\n",
              "      <td></td>\n",
              "      <td></td>\n",
              "      <td></td>\n",
              "      <td>[]</td>\n",
              "      <td></td>\n",
              "    </tr>\n",
              "    <tr>\n",
              "      <th>112411</th>\n",
              "      <td>207830</td>\n",
              "      <td>Foundations of Power: John Marshall, 1801-1815...</td>\n",
              "      <td>None</td>\n",
              "      <td>George Lee Haskins</td>\n",
              "      <td>121607</td>\n",
              "      <td>201155</td>\n",
              "      <td>0025413600</td>\n",
              "      <td>9780025413603</td>\n",
              "      <td></td>\n",
              "      <td></td>\n",
              "      <td>...</td>\n",
              "      <td>Hardcover</td>\n",
              "      <td></td>\n",
              "      <td>https://s.gr-assets.com/assets/nophoto/book/11...</td>\n",
              "      <td>MacMillan Publishing Company</td>\n",
              "      <td></td>\n",
              "      <td>76054</td>\n",
              "      <td>Oliver Wendell Holmes Devise History of the Su...</td>\n",
              "      <td>2</td>\n",
              "      <td>[{'name': 'to-read', 'count': 5}]</td>\n",
              "      <td></td>\n",
              "    </tr>\n",
              "    <tr>\n",
              "      <th>40162</th>\n",
              "      <td>65348</td>\n",
              "      <td>Selected Poems, 1980-1996</td>\n",
              "      <td>None</td>\n",
              "      <td>Penelope Shuttle</td>\n",
              "      <td>36917</td>\n",
              "      <td>63397</td>\n",
              "      <td>0192880764</td>\n",
              "      <td>9780192880765</td>\n",
              "      <td></td>\n",
              "      <td></td>\n",
              "      <td>...</td>\n",
              "      <td>Paperback</td>\n",
              "      <td></td>\n",
              "      <td>https://s.gr-assets.com/assets/nophoto/book/11...</td>\n",
              "      <td>Oxford University Press, USA</td>\n",
              "      <td>120</td>\n",
              "      <td></td>\n",
              "      <td></td>\n",
              "      <td></td>\n",
              "      <td>[{'name': 'to-read', 'count': 3}]</td>\n",
              "      <td>&lt;div&gt;\\n  &lt;div&gt;This is a selection from Penelop...</td>\n",
              "    </tr>\n",
              "  </tbody>\n",
              "</table>\n",
              "<p>199963 rows × 26 columns</p>\n",
              "</div>\n",
              "    <div class=\"colab-df-buttons\">\n",
              "\n",
              "  <div class=\"colab-df-container\">\n",
              "    <button class=\"colab-df-convert\" onclick=\"convertToInteractive('df-b470b28c-9cc5-4d61-8cbe-ad1c21a4c31d')\"\n",
              "            title=\"Convert this dataframe to an interactive table.\"\n",
              "            style=\"display:none;\">\n",
              "\n",
              "  <svg xmlns=\"http://www.w3.org/2000/svg\" height=\"24px\" viewBox=\"0 -960 960 960\">\n",
              "    <path d=\"M120-120v-720h720v720H120Zm60-500h600v-160H180v160Zm220 220h160v-160H400v160Zm0 220h160v-160H400v160ZM180-400h160v-160H180v160Zm440 0h160v-160H620v160ZM180-180h160v-160H180v160Zm440 0h160v-160H620v160Z\"/>\n",
              "  </svg>\n",
              "    </button>\n",
              "\n",
              "  <style>\n",
              "    .colab-df-container {\n",
              "      display:flex;\n",
              "      gap: 12px;\n",
              "    }\n",
              "\n",
              "    .colab-df-convert {\n",
              "      background-color: #E8F0FE;\n",
              "      border: none;\n",
              "      border-radius: 50%;\n",
              "      cursor: pointer;\n",
              "      display: none;\n",
              "      fill: #1967D2;\n",
              "      height: 32px;\n",
              "      padding: 0 0 0 0;\n",
              "      width: 32px;\n",
              "    }\n",
              "\n",
              "    .colab-df-convert:hover {\n",
              "      background-color: #E2EBFA;\n",
              "      box-shadow: 0px 1px 2px rgba(60, 64, 67, 0.3), 0px 1px 3px 1px rgba(60, 64, 67, 0.15);\n",
              "      fill: #174EA6;\n",
              "    }\n",
              "\n",
              "    .colab-df-buttons div {\n",
              "      margin-bottom: 4px;\n",
              "    }\n",
              "\n",
              "    [theme=dark] .colab-df-convert {\n",
              "      background-color: #3B4455;\n",
              "      fill: #D2E3FC;\n",
              "    }\n",
              "\n",
              "    [theme=dark] .colab-df-convert:hover {\n",
              "      background-color: #434B5C;\n",
              "      box-shadow: 0px 1px 3px 1px rgba(0, 0, 0, 0.15);\n",
              "      filter: drop-shadow(0px 1px 2px rgba(0, 0, 0, 0.3));\n",
              "      fill: #FFFFFF;\n",
              "    }\n",
              "  </style>\n",
              "\n",
              "    <script>\n",
              "      const buttonEl =\n",
              "        document.querySelector('#df-b470b28c-9cc5-4d61-8cbe-ad1c21a4c31d button.colab-df-convert');\n",
              "      buttonEl.style.display =\n",
              "        google.colab.kernel.accessAllowed ? 'block' : 'none';\n",
              "\n",
              "      async function convertToInteractive(key) {\n",
              "        const element = document.querySelector('#df-b470b28c-9cc5-4d61-8cbe-ad1c21a4c31d');\n",
              "        const dataTable =\n",
              "          await google.colab.kernel.invokeFunction('convertToInteractive',\n",
              "                                                    [key], {});\n",
              "        if (!dataTable) return;\n",
              "\n",
              "        const docLinkHtml = 'Like what you see? Visit the ' +\n",
              "          '<a target=\"_blank\" href=https://colab.research.google.com/notebooks/data_table.ipynb>data table notebook</a>'\n",
              "          + ' to learn more about interactive tables.';\n",
              "        element.innerHTML = '';\n",
              "        dataTable['output_type'] = 'display_data';\n",
              "        await google.colab.output.renderOutput(dataTable, element);\n",
              "        const docLink = document.createElement('div');\n",
              "        docLink.innerHTML = docLinkHtml;\n",
              "        element.appendChild(docLink);\n",
              "      }\n",
              "    </script>\n",
              "  </div>\n",
              "\n",
              "\n",
              "<div id=\"df-f291cc9f-deee-4ea9-bcad-ccdfe9373b8c\">\n",
              "  <button class=\"colab-df-quickchart\" onclick=\"quickchart('df-f291cc9f-deee-4ea9-bcad-ccdfe9373b8c')\"\n",
              "            title=\"Suggest charts.\"\n",
              "            style=\"display:none;\">\n",
              "\n",
              "<svg xmlns=\"http://www.w3.org/2000/svg\" height=\"24px\"viewBox=\"0 0 24 24\"\n",
              "     width=\"24px\">\n",
              "    <g>\n",
              "        <path d=\"M19 3H5c-1.1 0-2 .9-2 2v14c0 1.1.9 2 2 2h14c1.1 0 2-.9 2-2V5c0-1.1-.9-2-2-2zM9 17H7v-7h2v7zm4 0h-2V7h2v10zm4 0h-2v-4h2v4z\"/>\n",
              "    </g>\n",
              "</svg>\n",
              "  </button>\n",
              "\n",
              "<style>\n",
              "  .colab-df-quickchart {\n",
              "      --bg-color: #E8F0FE;\n",
              "      --fill-color: #1967D2;\n",
              "      --hover-bg-color: #E2EBFA;\n",
              "      --hover-fill-color: #174EA6;\n",
              "      --disabled-fill-color: #AAA;\n",
              "      --disabled-bg-color: #DDD;\n",
              "  }\n",
              "\n",
              "  [theme=dark] .colab-df-quickchart {\n",
              "      --bg-color: #3B4455;\n",
              "      --fill-color: #D2E3FC;\n",
              "      --hover-bg-color: #434B5C;\n",
              "      --hover-fill-color: #FFFFFF;\n",
              "      --disabled-bg-color: #3B4455;\n",
              "      --disabled-fill-color: #666;\n",
              "  }\n",
              "\n",
              "  .colab-df-quickchart {\n",
              "    background-color: var(--bg-color);\n",
              "    border: none;\n",
              "    border-radius: 50%;\n",
              "    cursor: pointer;\n",
              "    display: none;\n",
              "    fill: var(--fill-color);\n",
              "    height: 32px;\n",
              "    padding: 0;\n",
              "    width: 32px;\n",
              "  }\n",
              "\n",
              "  .colab-df-quickchart:hover {\n",
              "    background-color: var(--hover-bg-color);\n",
              "    box-shadow: 0 1px 2px rgba(60, 64, 67, 0.3), 0 1px 3px 1px rgba(60, 64, 67, 0.15);\n",
              "    fill: var(--button-hover-fill-color);\n",
              "  }\n",
              "\n",
              "  .colab-df-quickchart-complete:disabled,\n",
              "  .colab-df-quickchart-complete:disabled:hover {\n",
              "    background-color: var(--disabled-bg-color);\n",
              "    fill: var(--disabled-fill-color);\n",
              "    box-shadow: none;\n",
              "  }\n",
              "\n",
              "  .colab-df-spinner {\n",
              "    border: 2px solid var(--fill-color);\n",
              "    border-color: transparent;\n",
              "    border-bottom-color: var(--fill-color);\n",
              "    animation:\n",
              "      spin 1s steps(1) infinite;\n",
              "  }\n",
              "\n",
              "  @keyframes spin {\n",
              "    0% {\n",
              "      border-color: transparent;\n",
              "      border-bottom-color: var(--fill-color);\n",
              "      border-left-color: var(--fill-color);\n",
              "    }\n",
              "    20% {\n",
              "      border-color: transparent;\n",
              "      border-left-color: var(--fill-color);\n",
              "      border-top-color: var(--fill-color);\n",
              "    }\n",
              "    30% {\n",
              "      border-color: transparent;\n",
              "      border-left-color: var(--fill-color);\n",
              "      border-top-color: var(--fill-color);\n",
              "      border-right-color: var(--fill-color);\n",
              "    }\n",
              "    40% {\n",
              "      border-color: transparent;\n",
              "      border-right-color: var(--fill-color);\n",
              "      border-top-color: var(--fill-color);\n",
              "    }\n",
              "    60% {\n",
              "      border-color: transparent;\n",
              "      border-right-color: var(--fill-color);\n",
              "    }\n",
              "    80% {\n",
              "      border-color: transparent;\n",
              "      border-right-color: var(--fill-color);\n",
              "      border-bottom-color: var(--fill-color);\n",
              "    }\n",
              "    90% {\n",
              "      border-color: transparent;\n",
              "      border-bottom-color: var(--fill-color);\n",
              "    }\n",
              "  }\n",
              "</style>\n",
              "\n",
              "  <script>\n",
              "    async function quickchart(key) {\n",
              "      const quickchartButtonEl =\n",
              "        document.querySelector('#' + key + ' button');\n",
              "      quickchartButtonEl.disabled = true;  // To prevent multiple clicks.\n",
              "      quickchartButtonEl.classList.add('colab-df-spinner');\n",
              "      try {\n",
              "        const charts = await google.colab.kernel.invokeFunction(\n",
              "            'suggestCharts', [key], {});\n",
              "      } catch (error) {\n",
              "        console.error('Error during call to suggestCharts:', error);\n",
              "      }\n",
              "      quickchartButtonEl.classList.remove('colab-df-spinner');\n",
              "      quickchartButtonEl.classList.add('colab-df-quickchart-complete');\n",
              "    }\n",
              "    (() => {\n",
              "      let quickchartButtonEl =\n",
              "        document.querySelector('#df-f291cc9f-deee-4ea9-bcad-ccdfe9373b8c button');\n",
              "      quickchartButtonEl.style.display =\n",
              "        google.colab.kernel.accessAllowed ? 'block' : 'none';\n",
              "    })();\n",
              "  </script>\n",
              "</div>\n",
              "    </div>\n",
              "  </div>\n"
            ],
            "text/plain": [
              "            id                                              title  \\\n",
              "1            3  Harry Potter and the Sorcerer's Stone (Harry P...   \n",
              "2089      3357  Harry Potter Y La Piedra Filosofal (Harry Pott...   \n",
              "2653      4255           Harry Potter and the Philosopher's Stone   \n",
              "2088      3356  Harry Potter y la piedra filosofal (Harry Pott...   \n",
              "30999    49800                 Harrius Potter et Philosophi Lapis   \n",
              "...        ...                                                ...   \n",
              "120507  225712  NOT A BOOK: Read Write Inc.: Set 2 Purple: Col...   \n",
              "112412  207832  The Holmes-Sheehan Correspondence: The Letters...   \n",
              "63392   106845                           Paranoid, or So They Say   \n",
              "112411  207830  Foundations of Power: John Marshall, 1801-1815...   \n",
              "40162    65348                          Selected Poems, 1980-1996   \n",
              "\n",
              "                                                  authors  \\\n",
              "1       [{'id': '1077326', 'name': 'J.K. Rowling', 'ro...   \n",
              "2089                                                 None   \n",
              "2653                                                 None   \n",
              "2088                                                 None   \n",
              "30999   [{'id': '1077326', 'name': 'J.K. Rowling', 'ro...   \n",
              "...                                                   ...   \n",
              "120507                                               None   \n",
              "112412                                               None   \n",
              "63392                                                None   \n",
              "112411                                               None   \n",
              "40162                                                None   \n",
              "\n",
              "                      author_name  author_id   work_id        isbn  \\\n",
              "1                    J.K. Rowling    1077326   4640799               \n",
              "2089                 J.K. Rowling    1077326   4640799  0613359607   \n",
              "2653                 J.K. Rowling    1077326   4640799               \n",
              "2088                 J.K. Rowling    1077326   4640799  0320037827   \n",
              "30999                J.K. Rowling    1077326   4640799  0747561966   \n",
              "...                           ...        ...       ...         ...   \n",
              "120507                 NOT A BOOK    1000834  42596896  0198460015   \n",
              "112412  Oliver Wendell Holmes Jr.     432185    201157  0823215253   \n",
              "63392             Alex   Robinson    3367778    102984  1585001716   \n",
              "112411         George Lee Haskins     121607    201155  0025413600   \n",
              "40162            Penelope Shuttle      36917     63397  0192880764   \n",
              "\n",
              "               isbn13 asin language  ...           format edition_information  \\\n",
              "1                               eng  ...        Hardcover     Library Edition   \n",
              "2089    9780613359603           spa  ...  Library Binding                       \n",
              "2653                            eng  ...        Hardcover          UK Edition   \n",
              "2088    9780320037825           spa  ...                                        \n",
              "30999   9780747561965           lat  ...        Hardcover       First Edition   \n",
              "...               ...  ...      ...  ...              ...                 ...   \n",
              "120507  9780198460015                ...  Unknown Binding                       \n",
              "112412  9780823215256                ...        Hardcover                       \n",
              "63392   9781585001712                ...        Paperback                       \n",
              "112411  9780025413603                ...        Hardcover                       \n",
              "40162   9780192880765                ...        Paperback                       \n",
              "\n",
              "                                                image_url  \\\n",
              "1       https://i.gr-assets.com/images/S/compressed.ph...   \n",
              "2089    https://i.gr-assets.com/images/S/compressed.ph...   \n",
              "2653    https://i.gr-assets.com/images/S/compressed.ph...   \n",
              "2088    https://i.gr-assets.com/images/S/compressed.ph...   \n",
              "30999   https://s.gr-assets.com/assets/nophoto/book/11...   \n",
              "...                                                   ...   \n",
              "120507  https://s.gr-assets.com/assets/nophoto/book/11...   \n",
              "112412  https://s.gr-assets.com/assets/nophoto/book/11...   \n",
              "63392   https://s.gr-assets.com/assets/nophoto/book/11...   \n",
              "112411  https://s.gr-assets.com/assets/nophoto/book/11...   \n",
              "40162   https://s.gr-assets.com/assets/nophoto/book/11...   \n",
              "\n",
              "                           publisher num_pages series_id  \\\n",
              "1                     Scholastic Inc       309     45175   \n",
              "2089                Turtleback Books       254     45175   \n",
              "2653       Bloomsbury Publishing PLC       223     45175   \n",
              "2088                                               45175   \n",
              "30999                     Bloomsbury       249     45175   \n",
              "...                              ...       ...       ...   \n",
              "120507                     Not Avail        12             \n",
              "112412      Fordham University Press        96             \n",
              "63392                    Authorhouse       120             \n",
              "112411  MacMillan Publishing Company               76054   \n",
              "40162   Oxford University Press, USA       120             \n",
              "\n",
              "                                              series_name series_position  \\\n",
              "1                                            Harry Potter               1   \n",
              "2089                                         Harry Potter               1   \n",
              "2653                                         Harry Potter               1   \n",
              "2088                                         Harry Potter               1   \n",
              "30999                                        Harry Potter               1   \n",
              "...                                                   ...             ...   \n",
              "120507                                                                      \n",
              "112412                                                                      \n",
              "63392                                                                       \n",
              "112411  Oliver Wendell Holmes Devise History of the Su...               2   \n",
              "40162                                                                       \n",
              "\n",
              "                                                  shelves  \\\n",
              "1       [{'name': 'fantasy', 'count': 63540}, {'name':...   \n",
              "2089    [{'name': 'fantasy', 'count': 63540}, {'name':...   \n",
              "2653    [{'name': 'fantasy', 'count': 63540}, {'name':...   \n",
              "2088    [{'name': 'fantasy', 'count': 63540}, {'name':...   \n",
              "30999   [{'name': 'fantasy', 'count': 63505}, {'name':...   \n",
              "...                                                   ...   \n",
              "120507                                                 []   \n",
              "112412                  [{'name': 'to-read', 'count': 3}]   \n",
              "63392                                                  []   \n",
              "112411                  [{'name': 'to-read', 'count': 5}]   \n",
              "40162                   [{'name': 'to-read', 'count': 3}]   \n",
              "\n",
              "                                              description  \n",
              "1       Harry Potter's life is miserable. His parents ...  \n",
              "2089    Harry es húerfano de padre y madre y vive con ...  \n",
              "2653    When a letter arrives for unhappy but ordinary...  \n",
              "2088    Harry Potter se ha quedado huérfano y vive en ...  \n",
              "30999   Harrius Potter et Philosophi Lapis Caput Primu...  \n",
              "...                                                   ...  \n",
              "120507  The language used in the Storybooks is natural...  \n",
              "112412  Oliver Wendell Holmes, Jr., distinguished Amer...  \n",
              "63392                                                      \n",
              "112411                                                     \n",
              "40162   <div>\\n  <div>This is a selection from Penelop...  \n",
              "\n",
              "[199963 rows x 26 columns]"
            ]
          },
          "execution_count": 6,
          "metadata": {},
          "output_type": "execute_result"
        }
      ],
      "source": [
        "books.sort_values(by='ratings_count', ascending=False)"
      ]
    },
    {
      "cell_type": "markdown",
      "metadata": {
        "id": "r2shacbUb6Vv"
      },
      "source": [
        "*   Which are the top ten and ten worst books concerning the average score?\n",
        "\n",
        "\n"
      ]
    },
    {
      "cell_type": "code",
      "execution_count": null,
      "metadata": {
        "colab": {
          "base_uri": "https://localhost:8080/",
          "height": 1000
        },
        "id": "Ongyt6WTb6lA",
        "outputId": "2cbec974-8065-44d7-c33e-3c7442688b52"
      },
      "outputs": [
        {
          "data": {
            "text/html": [
              "\n",
              "  <div id=\"df-9242116c-1888-4f42-961b-41c1b75eb106\" class=\"colab-df-container\">\n",
              "    <div>\n",
              "<style scoped>\n",
              "    .dataframe tbody tr th:only-of-type {\n",
              "        vertical-align: middle;\n",
              "    }\n",
              "\n",
              "    .dataframe tbody tr th {\n",
              "        vertical-align: top;\n",
              "    }\n",
              "\n",
              "    .dataframe thead th {\n",
              "        text-align: right;\n",
              "    }\n",
              "</style>\n",
              "<table border=\"1\" class=\"dataframe\">\n",
              "  <thead>\n",
              "    <tr style=\"text-align: right;\">\n",
              "      <th></th>\n",
              "      <th>id</th>\n",
              "      <th>title</th>\n",
              "      <th>authors</th>\n",
              "      <th>author_name</th>\n",
              "      <th>author_id</th>\n",
              "      <th>work_id</th>\n",
              "      <th>isbn</th>\n",
              "      <th>isbn13</th>\n",
              "      <th>asin</th>\n",
              "      <th>language</th>\n",
              "      <th>...</th>\n",
              "      <th>format</th>\n",
              "      <th>edition_information</th>\n",
              "      <th>image_url</th>\n",
              "      <th>publisher</th>\n",
              "      <th>num_pages</th>\n",
              "      <th>series_id</th>\n",
              "      <th>series_name</th>\n",
              "      <th>series_position</th>\n",
              "      <th>shelves</th>\n",
              "      <th>description</th>\n",
              "    </tr>\n",
              "  </thead>\n",
              "  <tbody>\n",
              "    <tr>\n",
              "      <th>177503</th>\n",
              "      <td>354766</td>\n",
              "      <td>Jan's Rainbow: Stories of Hope; How Those We H...</td>\n",
              "      <td>None</td>\n",
              "      <td>Lindsay Collier</td>\n",
              "      <td>203382</td>\n",
              "      <td>344955</td>\n",
              "      <td>1553694120</td>\n",
              "      <td>9781553694120</td>\n",
              "      <td></td>\n",
              "      <td></td>\n",
              "      <td>...</td>\n",
              "      <td>Paperback</td>\n",
              "      <td></td>\n",
              "      <td>https://s.gr-assets.com/assets/nophoto/book/11...</td>\n",
              "      <td>Trafford Publishing</td>\n",
              "      <td>181</td>\n",
              "      <td></td>\n",
              "      <td></td>\n",
              "      <td></td>\n",
              "      <td>[]</td>\n",
              "      <td>The anchor story for this book centers on the ...</td>\n",
              "    </tr>\n",
              "    <tr>\n",
              "      <th>136399</th>\n",
              "      <td>261611</td>\n",
              "      <td>Everybody Wants to Go to Heaven: Six Steps to ...</td>\n",
              "      <td>[{'id': '53088', 'name': 'Patrick McDonnell', ...</td>\n",
              "      <td>Patrick McDonnell</td>\n",
              "      <td>53088</td>\n",
              "      <td>253575</td>\n",
              "      <td>0972226206</td>\n",
              "      <td>9780972226202</td>\n",
              "      <td></td>\n",
              "      <td></td>\n",
              "      <td>...</td>\n",
              "      <td>Hardcover</td>\n",
              "      <td></td>\n",
              "      <td>https://s.gr-assets.com/assets/nophoto/book/11...</td>\n",
              "      <td>Sunrise Publishing Company (IL)</td>\n",
              "      <td>267</td>\n",
              "      <td></td>\n",
              "      <td></td>\n",
              "      <td></td>\n",
              "      <td>[{'name': 'to-read', 'count': 6}]</td>\n",
              "      <td></td>\n",
              "    </tr>\n",
              "    <tr>\n",
              "      <th>185617</th>\n",
              "      <td>373152</td>\n",
              "      <td>Airship Aerodynamics: Technical Manual</td>\n",
              "      <td>None</td>\n",
              "      <td>U.S. Department of War</td>\n",
              "      <td>4091154</td>\n",
              "      <td>363069</td>\n",
              "      <td>1410206149</td>\n",
              "      <td>9781410206145</td>\n",
              "      <td></td>\n",
              "      <td></td>\n",
              "      <td>...</td>\n",
              "      <td></td>\n",
              "      <td></td>\n",
              "      <td>https://s.gr-assets.com/assets/nophoto/book/11...</td>\n",
              "      <td></td>\n",
              "      <td></td>\n",
              "      <td></td>\n",
              "      <td></td>\n",
              "      <td></td>\n",
              "      <td>[{'name': 'to-read', 'count': 7}, {'name': 'cu...</td>\n",
              "      <td></td>\n",
              "    </tr>\n",
              "    <tr>\n",
              "      <th>2694</th>\n",
              "      <td>4316</td>\n",
              "      <td>The Travels of the Prophet Ibrahim (Quran Stor...</td>\n",
              "      <td>[{'id': '2978', 'name': 'Saniyasnain Khan', 'r...</td>\n",
              "      <td>Saniyasnain Khan</td>\n",
              "      <td>2978</td>\n",
              "      <td>7987</td>\n",
              "      <td>8178980088</td>\n",
              "      <td>9788178980089</td>\n",
              "      <td></td>\n",
              "      <td>en-US</td>\n",
              "      <td>...</td>\n",
              "      <td></td>\n",
              "      <td></td>\n",
              "      <td>https://i.gr-assets.com/images/S/compressed.ph...</td>\n",
              "      <td></td>\n",
              "      <td></td>\n",
              "      <td>88052</td>\n",
              "      <td>Quran Stories For Little Hearts</td>\n",
              "      <td></td>\n",
              "      <td>[{'name': 'to-read', 'count': 14}]</td>\n",
              "      <td></td>\n",
              "    </tr>\n",
              "    <tr>\n",
              "      <th>136320</th>\n",
              "      <td>261412</td>\n",
              "      <td>The Collected Works Of Samuel Taylor Coleridge...</td>\n",
              "      <td>None</td>\n",
              "      <td>Samuel Taylor Coleridge</td>\n",
              "      <td>11525</td>\n",
              "      <td>253379</td>\n",
              "      <td>0691099545</td>\n",
              "      <td>9780691099545</td>\n",
              "      <td></td>\n",
              "      <td></td>\n",
              "      <td>...</td>\n",
              "      <td>Hardcover</td>\n",
              "      <td></td>\n",
              "      <td>https://s.gr-assets.com/assets/nophoto/book/11...</td>\n",
              "      <td>Princeton University Press</td>\n",
              "      <td></td>\n",
              "      <td></td>\n",
              "      <td></td>\n",
              "      <td></td>\n",
              "      <td>[{'name': 'to-read', 'count': 4}]</td>\n",
              "      <td>&lt;br /&gt;In his introduction to this edition of C...</td>\n",
              "    </tr>\n",
              "    <tr>\n",
              "      <th>101723</th>\n",
              "      <td>183868</td>\n",
              "      <td>Tale of the Missing Head</td>\n",
              "      <td>None</td>\n",
              "      <td>Caroline Leavitt</td>\n",
              "      <td>133325</td>\n",
              "      <td>25642522</td>\n",
              "      <td>0613103106</td>\n",
              "      <td>9780613103107</td>\n",
              "      <td></td>\n",
              "      <td></td>\n",
              "      <td>...</td>\n",
              "      <td>Hardcover</td>\n",
              "      <td></td>\n",
              "      <td>https://s.gr-assets.com/assets/nophoto/book/11...</td>\n",
              "      <td>Turtleback Books</td>\n",
              "      <td></td>\n",
              "      <td></td>\n",
              "      <td></td>\n",
              "      <td></td>\n",
              "      <td>[{'name': 'to-read', 'count': 9}]</td>\n",
              "      <td>Wishbone and Sam investigate the disappearance...</td>\n",
              "    </tr>\n",
              "    <tr>\n",
              "      <th>136319</th>\n",
              "      <td>261410</td>\n",
              "      <td>Sir Henry Irving: A Victorian Actor and His World</td>\n",
              "      <td>None</td>\n",
              "      <td>Jeffrey Richards</td>\n",
              "      <td>18142</td>\n",
              "      <td>253377</td>\n",
              "      <td>1852855916</td>\n",
              "      <td>9781852855918</td>\n",
              "      <td></td>\n",
              "      <td></td>\n",
              "      <td>...</td>\n",
              "      <td>Paperback</td>\n",
              "      <td></td>\n",
              "      <td>https://s.gr-assets.com/assets/nophoto/book/11...</td>\n",
              "      <td>Bloomsbury Academic</td>\n",
              "      <td>508</td>\n",
              "      <td></td>\n",
              "      <td></td>\n",
              "      <td></td>\n",
              "      <td>[{'name': 'to-read', 'count': 6}]</td>\n",
              "      <td>Sir Henry Irving was the greatest actor of the...</td>\n",
              "    </tr>\n",
              "    <tr>\n",
              "      <th>101782</th>\n",
              "      <td>184017</td>\n",
              "      <td>Mad About The Boy: The Life And Times Of Boy G...</td>\n",
              "      <td>None</td>\n",
              "      <td>Anton Gill</td>\n",
              "      <td>62114</td>\n",
              "      <td>177844</td>\n",
              "      <td>003003003X</td>\n",
              "      <td>9780030030031</td>\n",
              "      <td></td>\n",
              "      <td></td>\n",
              "      <td>...</td>\n",
              "      <td>Unknown Binding</td>\n",
              "      <td></td>\n",
              "      <td>https://s.gr-assets.com/assets/nophoto/book/11...</td>\n",
              "      <td>Holt McDougal</td>\n",
              "      <td></td>\n",
              "      <td></td>\n",
              "      <td></td>\n",
              "      <td></td>\n",
              "      <td>[{'name': 'to-read', 'count': 2}]</td>\n",
              "      <td></td>\n",
              "    </tr>\n",
              "    <tr>\n",
              "      <th>185535</th>\n",
              "      <td>372926</td>\n",
              "      <td>Public Speaking: A Guide for the Engaged Commu...</td>\n",
              "      <td>[{'id': '212650', 'name': 'Paul E. Nelson', 'r...</td>\n",
              "      <td>Paul E. Nelson</td>\n",
              "      <td>212650</td>\n",
              "      <td>362843</td>\n",
              "      <td>0073112623</td>\n",
              "      <td>9780073112626</td>\n",
              "      <td></td>\n",
              "      <td></td>\n",
              "      <td>...</td>\n",
              "      <td></td>\n",
              "      <td></td>\n",
              "      <td>https://s.gr-assets.com/assets/nophoto/book/11...</td>\n",
              "      <td></td>\n",
              "      <td></td>\n",
              "      <td></td>\n",
              "      <td></td>\n",
              "      <td></td>\n",
              "      <td>[{'name': 'to-read', 'count': 3}]</td>\n",
              "      <td>This is a new, brief, economical text that str...</td>\n",
              "    </tr>\n",
              "    <tr>\n",
              "      <th>185534</th>\n",
              "      <td>372925</td>\n",
              "      <td>Public Speaking with Student CD-ROM and PowerWeb</td>\n",
              "      <td>[{'id': '212650', 'name': 'Paul E. Nelson', 'r...</td>\n",
              "      <td>Paul E. Nelson</td>\n",
              "      <td>212650</td>\n",
              "      <td>362843</td>\n",
              "      <td>0073212776</td>\n",
              "      <td>9780073212777</td>\n",
              "      <td></td>\n",
              "      <td></td>\n",
              "      <td>...</td>\n",
              "      <td></td>\n",
              "      <td></td>\n",
              "      <td>https://s.gr-assets.com/assets/nophoto/book/11...</td>\n",
              "      <td></td>\n",
              "      <td></td>\n",
              "      <td></td>\n",
              "      <td></td>\n",
              "      <td></td>\n",
              "      <td>[{'name': 'to-read', 'count': 3}]</td>\n",
              "      <td></td>\n",
              "    </tr>\n",
              "  </tbody>\n",
              "</table>\n",
              "<p>10 rows × 26 columns</p>\n",
              "</div>\n",
              "    <div class=\"colab-df-buttons\">\n",
              "\n",
              "  <div class=\"colab-df-container\">\n",
              "    <button class=\"colab-df-convert\" onclick=\"convertToInteractive('df-9242116c-1888-4f42-961b-41c1b75eb106')\"\n",
              "            title=\"Convert this dataframe to an interactive table.\"\n",
              "            style=\"display:none;\">\n",
              "\n",
              "  <svg xmlns=\"http://www.w3.org/2000/svg\" height=\"24px\" viewBox=\"0 -960 960 960\">\n",
              "    <path d=\"M120-120v-720h720v720H120Zm60-500h600v-160H180v160Zm220 220h160v-160H400v160Zm0 220h160v-160H400v160ZM180-400h160v-160H180v160Zm440 0h160v-160H620v160ZM180-180h160v-160H180v160Zm440 0h160v-160H620v160Z\"/>\n",
              "  </svg>\n",
              "    </button>\n",
              "\n",
              "  <style>\n",
              "    .colab-df-container {\n",
              "      display:flex;\n",
              "      gap: 12px;\n",
              "    }\n",
              "\n",
              "    .colab-df-convert {\n",
              "      background-color: #E8F0FE;\n",
              "      border: none;\n",
              "      border-radius: 50%;\n",
              "      cursor: pointer;\n",
              "      display: none;\n",
              "      fill: #1967D2;\n",
              "      height: 32px;\n",
              "      padding: 0 0 0 0;\n",
              "      width: 32px;\n",
              "    }\n",
              "\n",
              "    .colab-df-convert:hover {\n",
              "      background-color: #E2EBFA;\n",
              "      box-shadow: 0px 1px 2px rgba(60, 64, 67, 0.3), 0px 1px 3px 1px rgba(60, 64, 67, 0.15);\n",
              "      fill: #174EA6;\n",
              "    }\n",
              "\n",
              "    .colab-df-buttons div {\n",
              "      margin-bottom: 4px;\n",
              "    }\n",
              "\n",
              "    [theme=dark] .colab-df-convert {\n",
              "      background-color: #3B4455;\n",
              "      fill: #D2E3FC;\n",
              "    }\n",
              "\n",
              "    [theme=dark] .colab-df-convert:hover {\n",
              "      background-color: #434B5C;\n",
              "      box-shadow: 0px 1px 3px 1px rgba(0, 0, 0, 0.15);\n",
              "      filter: drop-shadow(0px 1px 2px rgba(0, 0, 0, 0.3));\n",
              "      fill: #FFFFFF;\n",
              "    }\n",
              "  </style>\n",
              "\n",
              "    <script>\n",
              "      const buttonEl =\n",
              "        document.querySelector('#df-9242116c-1888-4f42-961b-41c1b75eb106 button.colab-df-convert');\n",
              "      buttonEl.style.display =\n",
              "        google.colab.kernel.accessAllowed ? 'block' : 'none';\n",
              "\n",
              "      async function convertToInteractive(key) {\n",
              "        const element = document.querySelector('#df-9242116c-1888-4f42-961b-41c1b75eb106');\n",
              "        const dataTable =\n",
              "          await google.colab.kernel.invokeFunction('convertToInteractive',\n",
              "                                                    [key], {});\n",
              "        if (!dataTable) return;\n",
              "\n",
              "        const docLinkHtml = 'Like what you see? Visit the ' +\n",
              "          '<a target=\"_blank\" href=https://colab.research.google.com/notebooks/data_table.ipynb>data table notebook</a>'\n",
              "          + ' to learn more about interactive tables.';\n",
              "        element.innerHTML = '';\n",
              "        dataTable['output_type'] = 'display_data';\n",
              "        await google.colab.output.renderOutput(dataTable, element);\n",
              "        const docLink = document.createElement('div');\n",
              "        docLink.innerHTML = docLinkHtml;\n",
              "        element.appendChild(docLink);\n",
              "      }\n",
              "    </script>\n",
              "  </div>\n",
              "\n",
              "\n",
              "<div id=\"df-5dd8de6a-069c-4c71-a5f7-74929706f30e\">\n",
              "  <button class=\"colab-df-quickchart\" onclick=\"quickchart('df-5dd8de6a-069c-4c71-a5f7-74929706f30e')\"\n",
              "            title=\"Suggest charts.\"\n",
              "            style=\"display:none;\">\n",
              "\n",
              "<svg xmlns=\"http://www.w3.org/2000/svg\" height=\"24px\"viewBox=\"0 0 24 24\"\n",
              "     width=\"24px\">\n",
              "    <g>\n",
              "        <path d=\"M19 3H5c-1.1 0-2 .9-2 2v14c0 1.1.9 2 2 2h14c1.1 0 2-.9 2-2V5c0-1.1-.9-2-2-2zM9 17H7v-7h2v7zm4 0h-2V7h2v10zm4 0h-2v-4h2v4z\"/>\n",
              "    </g>\n",
              "</svg>\n",
              "  </button>\n",
              "\n",
              "<style>\n",
              "  .colab-df-quickchart {\n",
              "      --bg-color: #E8F0FE;\n",
              "      --fill-color: #1967D2;\n",
              "      --hover-bg-color: #E2EBFA;\n",
              "      --hover-fill-color: #174EA6;\n",
              "      --disabled-fill-color: #AAA;\n",
              "      --disabled-bg-color: #DDD;\n",
              "  }\n",
              "\n",
              "  [theme=dark] .colab-df-quickchart {\n",
              "      --bg-color: #3B4455;\n",
              "      --fill-color: #D2E3FC;\n",
              "      --hover-bg-color: #434B5C;\n",
              "      --hover-fill-color: #FFFFFF;\n",
              "      --disabled-bg-color: #3B4455;\n",
              "      --disabled-fill-color: #666;\n",
              "  }\n",
              "\n",
              "  .colab-df-quickchart {\n",
              "    background-color: var(--bg-color);\n",
              "    border: none;\n",
              "    border-radius: 50%;\n",
              "    cursor: pointer;\n",
              "    display: none;\n",
              "    fill: var(--fill-color);\n",
              "    height: 32px;\n",
              "    padding: 0;\n",
              "    width: 32px;\n",
              "  }\n",
              "\n",
              "  .colab-df-quickchart:hover {\n",
              "    background-color: var(--hover-bg-color);\n",
              "    box-shadow: 0 1px 2px rgba(60, 64, 67, 0.3), 0 1px 3px 1px rgba(60, 64, 67, 0.15);\n",
              "    fill: var(--button-hover-fill-color);\n",
              "  }\n",
              "\n",
              "  .colab-df-quickchart-complete:disabled,\n",
              "  .colab-df-quickchart-complete:disabled:hover {\n",
              "    background-color: var(--disabled-bg-color);\n",
              "    fill: var(--disabled-fill-color);\n",
              "    box-shadow: none;\n",
              "  }\n",
              "\n",
              "  .colab-df-spinner {\n",
              "    border: 2px solid var(--fill-color);\n",
              "    border-color: transparent;\n",
              "    border-bottom-color: var(--fill-color);\n",
              "    animation:\n",
              "      spin 1s steps(1) infinite;\n",
              "  }\n",
              "\n",
              "  @keyframes spin {\n",
              "    0% {\n",
              "      border-color: transparent;\n",
              "      border-bottom-color: var(--fill-color);\n",
              "      border-left-color: var(--fill-color);\n",
              "    }\n",
              "    20% {\n",
              "      border-color: transparent;\n",
              "      border-left-color: var(--fill-color);\n",
              "      border-top-color: var(--fill-color);\n",
              "    }\n",
              "    30% {\n",
              "      border-color: transparent;\n",
              "      border-left-color: var(--fill-color);\n",
              "      border-top-color: var(--fill-color);\n",
              "      border-right-color: var(--fill-color);\n",
              "    }\n",
              "    40% {\n",
              "      border-color: transparent;\n",
              "      border-right-color: var(--fill-color);\n",
              "      border-top-color: var(--fill-color);\n",
              "    }\n",
              "    60% {\n",
              "      border-color: transparent;\n",
              "      border-right-color: var(--fill-color);\n",
              "    }\n",
              "    80% {\n",
              "      border-color: transparent;\n",
              "      border-right-color: var(--fill-color);\n",
              "      border-bottom-color: var(--fill-color);\n",
              "    }\n",
              "    90% {\n",
              "      border-color: transparent;\n",
              "      border-bottom-color: var(--fill-color);\n",
              "    }\n",
              "  }\n",
              "</style>\n",
              "\n",
              "  <script>\n",
              "    async function quickchart(key) {\n",
              "      const quickchartButtonEl =\n",
              "        document.querySelector('#' + key + ' button');\n",
              "      quickchartButtonEl.disabled = true;  // To prevent multiple clicks.\n",
              "      quickchartButtonEl.classList.add('colab-df-spinner');\n",
              "      try {\n",
              "        const charts = await google.colab.kernel.invokeFunction(\n",
              "            'suggestCharts', [key], {});\n",
              "      } catch (error) {\n",
              "        console.error('Error during call to suggestCharts:', error);\n",
              "      }\n",
              "      quickchartButtonEl.classList.remove('colab-df-spinner');\n",
              "      quickchartButtonEl.classList.add('colab-df-quickchart-complete');\n",
              "    }\n",
              "    (() => {\n",
              "      let quickchartButtonEl =\n",
              "        document.querySelector('#df-5dd8de6a-069c-4c71-a5f7-74929706f30e button');\n",
              "      quickchartButtonEl.style.display =\n",
              "        google.colab.kernel.accessAllowed ? 'block' : 'none';\n",
              "    })();\n",
              "  </script>\n",
              "</div>\n",
              "    </div>\n",
              "  </div>\n"
            ],
            "text/plain": [
              "            id                                              title  \\\n",
              "177503  354766  Jan's Rainbow: Stories of Hope; How Those We H...   \n",
              "136399  261611  Everybody Wants to Go to Heaven: Six Steps to ...   \n",
              "185617  373152             Airship Aerodynamics: Technical Manual   \n",
              "2694      4316  The Travels of the Prophet Ibrahim (Quran Stor...   \n",
              "136320  261412  The Collected Works Of Samuel Taylor Coleridge...   \n",
              "101723  183868                           Tale of the Missing Head   \n",
              "136319  261410  Sir Henry Irving: A Victorian Actor and His World   \n",
              "101782  184017  Mad About The Boy: The Life And Times Of Boy G...   \n",
              "185535  372926  Public Speaking: A Guide for the Engaged Commu...   \n",
              "185534  372925   Public Speaking with Student CD-ROM and PowerWeb   \n",
              "\n",
              "                                                  authors  \\\n",
              "177503                                               None   \n",
              "136399  [{'id': '53088', 'name': 'Patrick McDonnell', ...   \n",
              "185617                                               None   \n",
              "2694    [{'id': '2978', 'name': 'Saniyasnain Khan', 'r...   \n",
              "136320                                               None   \n",
              "101723                                               None   \n",
              "136319                                               None   \n",
              "101782                                               None   \n",
              "185535  [{'id': '212650', 'name': 'Paul E. Nelson', 'r...   \n",
              "185534  [{'id': '212650', 'name': 'Paul E. Nelson', 'r...   \n",
              "\n",
              "                    author_name  author_id   work_id        isbn  \\\n",
              "177503          Lindsay Collier     203382    344955  1553694120   \n",
              "136399        Patrick McDonnell      53088    253575  0972226206   \n",
              "185617   U.S. Department of War    4091154    363069  1410206149   \n",
              "2694           Saniyasnain Khan       2978      7987  8178980088   \n",
              "136320  Samuel Taylor Coleridge      11525    253379  0691099545   \n",
              "101723         Caroline Leavitt     133325  25642522  0613103106   \n",
              "136319         Jeffrey Richards      18142    253377  1852855916   \n",
              "101782               Anton Gill      62114    177844  003003003X   \n",
              "185535           Paul E. Nelson     212650    362843  0073112623   \n",
              "185534           Paul E. Nelson     212650    362843  0073212776   \n",
              "\n",
              "               isbn13 asin language  ...           format edition_information  \\\n",
              "177503  9781553694120                ...        Paperback                       \n",
              "136399  9780972226202                ...        Hardcover                       \n",
              "185617  9781410206145                ...                                        \n",
              "2694    9788178980089         en-US  ...                                        \n",
              "136320  9780691099545                ...        Hardcover                       \n",
              "101723  9780613103107                ...        Hardcover                       \n",
              "136319  9781852855918                ...        Paperback                       \n",
              "101782  9780030030031                ...  Unknown Binding                       \n",
              "185535  9780073112626                ...                                        \n",
              "185534  9780073212777                ...                                        \n",
              "\n",
              "                                                image_url  \\\n",
              "177503  https://s.gr-assets.com/assets/nophoto/book/11...   \n",
              "136399  https://s.gr-assets.com/assets/nophoto/book/11...   \n",
              "185617  https://s.gr-assets.com/assets/nophoto/book/11...   \n",
              "2694    https://i.gr-assets.com/images/S/compressed.ph...   \n",
              "136320  https://s.gr-assets.com/assets/nophoto/book/11...   \n",
              "101723  https://s.gr-assets.com/assets/nophoto/book/11...   \n",
              "136319  https://s.gr-assets.com/assets/nophoto/book/11...   \n",
              "101782  https://s.gr-assets.com/assets/nophoto/book/11...   \n",
              "185535  https://s.gr-assets.com/assets/nophoto/book/11...   \n",
              "185534  https://s.gr-assets.com/assets/nophoto/book/11...   \n",
              "\n",
              "                              publisher num_pages series_id  \\\n",
              "177503              Trafford Publishing       181             \n",
              "136399  Sunrise Publishing Company (IL)       267             \n",
              "185617                                                        \n",
              "2694                                                  88052   \n",
              "136320       Princeton University Press                       \n",
              "101723                 Turtleback Books                       \n",
              "136319              Bloomsbury Academic       508             \n",
              "101782                    Holt McDougal                       \n",
              "185535                                                        \n",
              "185534                                                        \n",
              "\n",
              "                            series_name series_position  \\\n",
              "177503                                                    \n",
              "136399                                                    \n",
              "185617                                                    \n",
              "2694    Quran Stories For Little Hearts                   \n",
              "136320                                                    \n",
              "101723                                                    \n",
              "136319                                                    \n",
              "101782                                                    \n",
              "185535                                                    \n",
              "185534                                                    \n",
              "\n",
              "                                                  shelves  \\\n",
              "177503                                                 []   \n",
              "136399                  [{'name': 'to-read', 'count': 6}]   \n",
              "185617  [{'name': 'to-read', 'count': 7}, {'name': 'cu...   \n",
              "2694                   [{'name': 'to-read', 'count': 14}]   \n",
              "136320                  [{'name': 'to-read', 'count': 4}]   \n",
              "101723                  [{'name': 'to-read', 'count': 9}]   \n",
              "136319                  [{'name': 'to-read', 'count': 6}]   \n",
              "101782                  [{'name': 'to-read', 'count': 2}]   \n",
              "185535                  [{'name': 'to-read', 'count': 3}]   \n",
              "185534                  [{'name': 'to-read', 'count': 3}]   \n",
              "\n",
              "                                              description  \n",
              "177503  The anchor story for this book centers on the ...  \n",
              "136399                                                     \n",
              "185617                                                     \n",
              "2694                                                       \n",
              "136320  <br />In his introduction to this edition of C...  \n",
              "101723  Wishbone and Sam investigate the disappearance...  \n",
              "136319  Sir Henry Irving was the greatest actor of the...  \n",
              "101782                                                     \n",
              "185535  This is a new, brief, economical text that str...  \n",
              "185534                                                     \n",
              "\n",
              "[10 rows x 26 columns]"
            ]
          },
          "execution_count": 7,
          "metadata": {},
          "output_type": "execute_result"
        }
      ],
      "source": [
        "books.sort_values(by='average_rating', ascending=False)[0:10]"
      ]
    },
    {
      "cell_type": "markdown",
      "metadata": {
        "id": "xIgpPBUyg8NR"
      },
      "source": [
        "*   Explore the different languages in the book’s dataset, providing a proper chart summarizing how these languages are distributed throughout our virtual library."
      ]
    },
    {
      "cell_type": "code",
      "execution_count": null,
      "metadata": {
        "id": "8yBfmuPahBks"
      },
      "outputs": [],
      "source": [
        "len = books[books['language'].str.strip() != '']\n",
        "language_counts = len['language'].value_counts()"
      ]
    },
    {
      "cell_type": "code",
      "execution_count": null,
      "metadata": {
        "colab": {
          "base_uri": "https://localhost:8080/"
        },
        "id": "b2LDhURCj5ql",
        "outputId": "69556b54-a380-48df-ed98-19d2f1291486"
      },
      "outputs": [
        {
          "name": "stdout",
          "output_type": "stream",
          "text": [
            "eng      57525\n",
            "en-US     6963\n",
            "spa       5041\n",
            "ger       2884\n",
            "fre       2822\n",
            "         ...  \n",
            "ira          1\n",
            "mun          1\n",
            "ale          1\n",
            "gla          1\n",
            "fro          1\n",
            "Name: language, Length: 74, dtype: int64\n"
          ]
        }
      ],
      "source": [
        "print(language_counts)"
      ]
    },
    {
      "cell_type": "code",
      "execution_count": null,
      "metadata": {
        "colab": {
          "base_uri": "https://localhost:8080/"
        },
        "id": "jld3FkFKjdaE",
        "outputId": "129a2eb5-76d6-480d-aaa0-892dd090c9e5"
      },
      "outputs": [
        {
          "data": {
            "text/plain": [
              "         119962\n",
              "eng       57525\n",
              "en-US      6963\n",
              "spa        5041\n",
              "ger        2884\n",
              "          ...  \n",
              "mun           1\n",
              "vie           1\n",
              "epo           1\n",
              "ira           1\n",
              "fro           1\n",
              "Name: language, Length: 75, dtype: int64"
            ]
          },
          "execution_count": 18,
          "metadata": {},
          "output_type": "execute_result"
        }
      ],
      "source": [
        "books['language'].value_counts()"
      ]
    },
    {
      "cell_type": "markdown",
      "metadata": {
        "id": "pEtg1lyLKLIw"
      },
      "source": []
    },
    {
      "cell_type": "code",
      "execution_count": null,
      "metadata": {
        "colab": {
          "base_uri": "https://localhost:8080/"
        },
        "id": "4mURdMSyKLaS",
        "outputId": "3cc8ae0b-1cd4-4b6a-e9a3-96bb1cd52f87"
      },
      "outputs": [
        {
          "data": {
            "text/plain": [
              "         119962\n",
              "eng       57525\n",
              "en-US      6963\n",
              "spa        5041\n",
              "ger        2884\n",
              "          ...  \n",
              "mun           1\n",
              "vie           1\n",
              "epo           1\n",
              "ira           1\n",
              "fro           1\n",
              "Name: language, Length: 75, dtype: int64"
            ]
          },
          "execution_count": 6,
          "metadata": {},
          "output_type": "execute_result"
        }
      ],
      "source": [
        "books['language'].value_counts()"
      ]
    },
    {
      "cell_type": "code",
      "execution_count": null,
      "metadata": {
        "colab": {
          "base_uri": "https://localhost:8080/",
          "height": 675
        },
        "id": "7Egdu-2PiOv-",
        "outputId": "d1c58a1a-d2b2-40fa-a0cf-54a0b4d717f8"
      },
      "outputs": [
        {
          "data": {
            "image/png": "[encoded data removed]",
            "text/plain": [
              "<Figure size 800x800 with 1 Axes>"
            ]
          },
          "metadata": {},
          "output_type": "display_data"
        }
      ],
      "source": [
        "plt.figure(figsize=(8, 8))\n",
        "plt.pie(language_counts, labels=language_counts.index, autopct='%1.1f%%', startangle=140)\n",
        "plt.title('Distribution of Languages in the Virtual Library')\n",
        "\n",
        "plt.show()"
      ]
    },
    {
      "cell_type": "code",
      "execution_count": null,
      "metadata": {
        "colab": {
          "base_uri": "https://localhost:8080/",
          "height": 607
        },
        "id": "FCN8AdLoi0sY",
        "outputId": "a15c90e6-80e2-4626-91e8-05e3216fc758"
      },
      "outputs": [
        {
          "data": {
            "image/png": "[encoded data removed]",
            "text/plain": [
              "<Figure size 1000x600 with 1 Axes>"
            ]
          },
          "metadata": {},
          "output_type": "display_data"
        }
      ],
      "source": [
        "plt.figure(figsize=(10, 6))\n",
        "language_counts.plot(kind='bar')\n",
        "plt.xlabel('Language')\n",
        "plt.ylabel('Number of Books')\n",
        "plt.title('Distribution of Languages in the Virtual Library')\n",
        "\n",
        "plt.xticks(rotation=90)  # Rotate language labels for better readability\n",
        "plt.tight_layout()  # Ensure labels fit within the figure\n",
        "\n",
        "plt.show()"
      ]
    },
    {
      "cell_type": "markdown",
      "metadata": {
        "id": "lBo4S3SkjC4b"
      },
      "source": [
        "qua servirebbe ovviamente fare il cleaning dil dataset perche la prima lingua sono i libri che non hanno lingua"
      ]
    },
    {
      "cell_type": "code",
      "execution_count": null,
      "metadata": {
        "colab": {
          "base_uri": "https://localhost:8080/"
        },
        "id": "VxlqteOD1Lpy",
        "outputId": "4eb05675-952f-4e76-ecaa-ae30b281c449"
      },
      "outputs": [
        {
          "data": {
            "text/plain": [
              "0         870\n",
              "1         309\n",
              "2         352\n",
              "3         435\n",
              "4         734\n",
              "         ... \n",
              "199958    419\n",
              "199959    892\n",
              "199960    420\n",
              "199961    352\n",
              "199962    544\n",
              "Name: num_pages, Length: 199963, dtype: object"
            ]
          },
          "execution_count": 12,
          "metadata": {},
          "output_type": "execute_result"
        }
      ],
      "source": [
        "books['num_pages']"
      ]
    },
    {
      "cell_type": "code",
      "execution_count": null,
      "metadata": {
        "colab": {
          "base_uri": "https://localhost:8080/"
        },
        "id": "p5PZrFi_zxK-",
        "outputId": "e8ae74a8-885e-4313-ba4b-4ef8b550de63"
      },
      "outputs": [
        {
          "data": {
            "text/plain": [
              "78351"
            ]
          },
          "execution_count": 16,
          "metadata": {},
          "output_type": "execute_result"
        }
      ],
      "source": [
        "books = books[books['num_pages'] != '']\n",
        "len(books[books['num_pages'].astype(int) > 250])"
      ]
    },
    {
      "cell_type": "code",
      "execution_count": null,
      "metadata": {
        "id": "wdEo7lXz23Hu"
      },
      "outputs": [],
      "source": [
        "countbooks = authors['name'].value_counts()\n",
        "top50 = countbooks.head(50)\n",
        "top50books = authors[authors['name'].isin(top50.index)]"
      ]
    },
    {
      "cell_type": "code",
      "execution_count": null,
      "metadata": {
        "colab": {
          "base_uri": "https://localhost:8080/",
          "height": 564
        },
        "id": "Br2etm5t4NZE",
        "outputId": "b0459b39-144f-4364-98e5-04227efc0557"
      },
      "outputs": [
        {
          "data": {
            "image/png": "[encoded data removed]",
            "text/plain": [
              "<Figure size 1000x600 with 1 Axes>"
            ]
          },
          "metadata": {},
          "output_type": "display_data"
        }
      ],
      "source": [
        "plt.figure(figsize=(10, 6))\n",
        "plt.hist(top50books['fans_count'], bins=20, edgecolor='k')\n",
        "plt.xlabel('Fans Count')\n",
        "plt.ylabel('Number of Authors')\n",
        "plt.title('Distribution of Fans Counts for the 50 Most Prolific Authors')\n",
        "plt.grid(True)\n",
        "\n",
        "plt.show()"
      ]
    },
    {
      "cell_type": "markdown",
      "metadata": {
        "id": "7b-L_TdhHGlR"
      },
      "source": [
        "[RQ3]"
      ]
    },
    {
      "cell_type": "code",
      "source": [
        "books_short = read_only_columns(path_books_dataset_diego, ['publication_date', 'num_pages'])"
      ],
      "metadata": {
        "id": "CSw578fH9C26"
      },
      "execution_count": null,
      "outputs": []
    },
    {
      "cell_type": "code",
      "source": [
        "def abount_books(books, year):\n",
        "  data_output = {}\n",
        "\n",
        "  books_published = books['publication_date']\n",
        "  books_published = books[books['publication_date'] != '3002-08-21 00:00:00']\n",
        "\n",
        "  books_published['publication_date'] = pd.to_datetime(books_published['publication_date'], format='%Y-%m-%d', errors='coerce')\n",
        "\n",
        "  books_published['publication_date_year'] = books_published['publication_date'].dt.year\n",
        "  books_published['publication_date_year'] = books_published['publication_date_year'].replace('', pd.NA)\n",
        "  books_published['publication_date_year'] = books_published['publication_date_year'].fillna(0).astype(int)\n",
        "  books_published['publication_date_month'] = books_published['publication_date'].dt.month\n",
        "  books_published_in_year =  books_published[books_published['publication_date_year'] == int(year)]\n",
        "  number_of_books_published = len(books_published_in_year)\n",
        "  data_output[\"number_of_books_published\"] = number_of_books_published\n",
        "\n",
        "  #sum_total_pages\n",
        "  books_published_in_year['num_pages'] = books_published_in_year['num_pages'].replace('', pd.NA)\n",
        "  books_published_in_year['num_pages'] = books_published_in_year['num_pages'].fillna(0).astype(int)\n",
        "  sum_total_pages = sum(books_published_in_year['num_pages'])\n",
        "  data_output[\"sum_total_pages\"] = sum_total_pages\n",
        "\n",
        "  #The most prolific month of that year.\n",
        "  most_prolific_month =books_published_in_year['publication_date_month'].value_counts().idxmax()\n",
        "  data_output['most_prolific_month'] = most_prolific_month\n",
        "\n",
        "  #The longest book written that year.\n",
        "  longhest_book_year = max(books_published_in_year['num_pages'])\n",
        "  data_output['longhest_book_year'] = longhest_book_year\n",
        "\n",
        "  return data_output"
      ],
      "metadata": {
        "id": "eEo6TILp-Vr6"
      },
      "execution_count": null,
      "outputs": []
    },
    {
      "cell_type": "code",
      "source": [
        "output=  abount_books(books, '2002')\n"
      ],
      "metadata": {
        "colab": {
          "base_uri": "https://localhost:8080/"
        },
        "id": "t1wEK62W7h0v",
        "outputId": "057d1bfa-e801-4412-96ba-342514e0ac84"
      },
      "execution_count": null,
      "outputs": [
        {
          "output_type": "stream",
          "name": "stderr",
          "text": [
            "<ipython-input-37-2907de699bd9>:18: SettingWithCopyWarning: \n",
            "A value is trying to be set on a copy of a slice from a DataFrame.\n",
            "Try using .loc[row_indexer,col_indexer] = value instead\n",
            "\n",
            "See the caveats in the documentation: https://pandas.pydata.org/pandas-docs/stable/user_guide/indexing.html#returning-a-view-versus-a-copy\n",
            "  books_published_in_year['num_pages'] = books_published_in_year['num_pages'].replace('', pd.NA)\n",
            "<ipython-input-37-2907de699bd9>:19: SettingWithCopyWarning: \n",
            "A value is trying to be set on a copy of a slice from a DataFrame.\n",
            "Try using .loc[row_indexer,col_indexer] = value instead\n",
            "\n",
            "See the caveats in the documentation: https://pandas.pydata.org/pandas-docs/stable/user_guide/indexing.html#returning-a-view-versus-a-copy\n",
            "  books_published_in_year['num_pages'] = books_published_in_year['num_pages'].fillna(0).astype(int)\n"
          ]
        }
      ]
    },
    {
      "cell_type": "markdown",
      "source": [
        "RQ3.2"
      ],
      "metadata": {
        "id": "xiDjkbMSXg07"
      }
    },
    {
      "cell_type": "code",
      "source": [
        "year_start = int(input())\n",
        "year_end  = int(input())\n",
        "data = {}\n",
        "for y in range(year_start,year_end):\n",
        "   data_output = abount_books(books, str(y))\n",
        "   data[y] = [data_output.values()]\n",
        "df = pd.DataFrame(data)\n",
        "print(df.head(10))\n",
        "print(df.tail(10))"
      ],
      "metadata": {
        "colab": {
          "base_uri": "https://localhost:8080/"
        },
        "id": "_sm788WKXi3x",
        "outputId": "830ea33a-2955-406b-aea0-e035ea1c44b5"
      },
      "execution_count": null,
      "outputs": [
        {
          "output_type": "stream",
          "name": "stdout",
          "text": [
            "2001\n",
            "2002\n",
            "                         2001\n",
            "0  (9160, 2412621, 1.0, 4330)\n",
            "                         2001\n",
            "0  (9160, 2412621, 1.0, 4330)\n"
          ]
        },
        {
          "output_type": "stream",
          "name": "stderr",
          "text": [
            "<ipython-input-37-2907de699bd9>:18: SettingWithCopyWarning: \n",
            "A value is trying to be set on a copy of a slice from a DataFrame.\n",
            "Try using .loc[row_indexer,col_indexer] = value instead\n",
            "\n",
            "See the caveats in the documentation: https://pandas.pydata.org/pandas-docs/stable/user_guide/indexing.html#returning-a-view-versus-a-copy\n",
            "  books_published_in_year['num_pages'] = books_published_in_year['num_pages'].replace('', pd.NA)\n",
            "<ipython-input-37-2907de699bd9>:19: SettingWithCopyWarning: \n",
            "A value is trying to be set on a copy of a slice from a DataFrame.\n",
            "Try using .loc[row_indexer,col_indexer] = value instead\n",
            "\n",
            "See the caveats in the documentation: https://pandas.pydata.org/pandas-docs/stable/user_guide/indexing.html#returning-a-view-versus-a-copy\n",
            "  books_published_in_year['num_pages'] = books_published_in_year['num_pages'].fillna(0).astype(int)\n"
          ]
        }
      ]
    },
    {
      "cell_type": "markdown",
      "source": [
        "RQ3.3"
      ],
      "metadata": {
        "id": "W-woFnZOXHiV"
      }
    },
    {
      "cell_type": "code",
      "source": [
        "data_list = []\n",
        "for year in range(2000, 2005):\n",
        "    data_list.append({'Year': year, **abount_books(books, str(year))})\n",
        "result_df = pd.DataFrame(data_list)\n",
        "print(result_df.head(10))\n",
        "print(result_df.tail(10))"
      ],
      "metadata": {
        "colab": {
          "base_uri": "https://localhost:8080/"
        },
        "id": "4JnKOAt8Wqaz",
        "outputId": "dc644b74-f3d3-4ba7-875a-fb0a9e636953"
      },
      "execution_count": null,
      "outputs": [
        {
          "output_type": "stream",
          "name": "stderr",
          "text": [
            "<ipython-input-42-1489cb05825e>:18: SettingWithCopyWarning: \n",
            "A value is trying to be set on a copy of a slice from a DataFrame.\n",
            "Try using .loc[row_indexer,col_indexer] = value instead\n",
            "\n",
            "See the caveats in the documentation: https://pandas.pydata.org/pandas-docs/stable/user_guide/indexing.html#returning-a-view-versus-a-copy\n",
            "  books_published_in_year['num_pages'] = books_published_in_year['num_pages'].replace('', pd.NA)\n",
            "<ipython-input-42-1489cb05825e>:19: SettingWithCopyWarning: \n",
            "A value is trying to be set on a copy of a slice from a DataFrame.\n",
            "Try using .loc[row_indexer,col_indexer] = value instead\n",
            "\n",
            "See the caveats in the documentation: https://pandas.pydata.org/pandas-docs/stable/user_guide/indexing.html#returning-a-view-versus-a-copy\n",
            "  books_published_in_year['num_pages'] = books_published_in_year['num_pages'].fillna(0).astype(int)\n",
            "<ipython-input-42-1489cb05825e>:18: SettingWithCopyWarning: \n",
            "A value is trying to be set on a copy of a slice from a DataFrame.\n",
            "Try using .loc[row_indexer,col_indexer] = value instead\n",
            "\n",
            "See the caveats in the documentation: https://pandas.pydata.org/pandas-docs/stable/user_guide/indexing.html#returning-a-view-versus-a-copy\n",
            "  books_published_in_year['num_pages'] = books_published_in_year['num_pages'].replace('', pd.NA)\n",
            "<ipython-input-42-1489cb05825e>:19: SettingWithCopyWarning: \n",
            "A value is trying to be set on a copy of a slice from a DataFrame.\n",
            "Try using .loc[row_indexer,col_indexer] = value instead\n",
            "\n",
            "See the caveats in the documentation: https://pandas.pydata.org/pandas-docs/stable/user_guide/indexing.html#returning-a-view-versus-a-copy\n",
            "  books_published_in_year['num_pages'] = books_published_in_year['num_pages'].fillna(0).astype(int)\n",
            "<ipython-input-42-1489cb05825e>:18: SettingWithCopyWarning: \n",
            "A value is trying to be set on a copy of a slice from a DataFrame.\n",
            "Try using .loc[row_indexer,col_indexer] = value instead\n",
            "\n",
            "See the caveats in the documentation: https://pandas.pydata.org/pandas-docs/stable/user_guide/indexing.html#returning-a-view-versus-a-copy\n",
            "  books_published_in_year['num_pages'] = books_published_in_year['num_pages'].replace('', pd.NA)\n",
            "<ipython-input-42-1489cb05825e>:19: SettingWithCopyWarning: \n",
            "A value is trying to be set on a copy of a slice from a DataFrame.\n",
            "Try using .loc[row_indexer,col_indexer] = value instead\n",
            "\n",
            "See the caveats in the documentation: https://pandas.pydata.org/pandas-docs/stable/user_guide/indexing.html#returning-a-view-versus-a-copy\n",
            "  books_published_in_year['num_pages'] = books_published_in_year['num_pages'].fillna(0).astype(int)\n",
            "<ipython-input-42-1489cb05825e>:18: SettingWithCopyWarning: \n",
            "A value is trying to be set on a copy of a slice from a DataFrame.\n",
            "Try using .loc[row_indexer,col_indexer] = value instead\n",
            "\n",
            "See the caveats in the documentation: https://pandas.pydata.org/pandas-docs/stable/user_guide/indexing.html#returning-a-view-versus-a-copy\n",
            "  books_published_in_year['num_pages'] = books_published_in_year['num_pages'].replace('', pd.NA)\n",
            "<ipython-input-42-1489cb05825e>:19: SettingWithCopyWarning: \n",
            "A value is trying to be set on a copy of a slice from a DataFrame.\n",
            "Try using .loc[row_indexer,col_indexer] = value instead\n",
            "\n",
            "See the caveats in the documentation: https://pandas.pydata.org/pandas-docs/stable/user_guide/indexing.html#returning-a-view-versus-a-copy\n",
            "  books_published_in_year['num_pages'] = books_published_in_year['num_pages'].fillna(0).astype(int)\n"
          ]
        },
        {
          "output_type": "stream",
          "name": "stdout",
          "text": [
            "   Year  number_of_books_published  sum_total_pages  most_prolific_month  \\\n",
            "0  2000                       8260          2124461                  1.0   \n",
            "1  2001                       9160          2412621                  1.0   \n",
            "2  2002                      10286          2739470                  1.0   \n",
            "3  2003                      11016          2941521                  1.0   \n",
            "4  2004                      12162          3168284                  1.0   \n",
            "\n",
            "   longhest_book_year  \n",
            "0                5148  \n",
            "1                4330  \n",
            "2                3700  \n",
            "3                5462  \n",
            "4                9998  \n",
            "   Year  number_of_books_published  sum_total_pages  most_prolific_month  \\\n",
            "0  2000                       8260          2124461                  1.0   \n",
            "1  2001                       9160          2412621                  1.0   \n",
            "2  2002                      10286          2739470                  1.0   \n",
            "3  2003                      11016          2941521                  1.0   \n",
            "4  2004                      12162          3168284                  1.0   \n",
            "\n",
            "   longhest_book_year  \n",
            "0                5148  \n",
            "1                4330  \n",
            "2                3700  \n",
            "3                5462  \n",
            "4                9998  \n"
          ]
        },
        {
          "output_type": "stream",
          "name": "stderr",
          "text": [
            "<ipython-input-42-1489cb05825e>:18: SettingWithCopyWarning: \n",
            "A value is trying to be set on a copy of a slice from a DataFrame.\n",
            "Try using .loc[row_indexer,col_indexer] = value instead\n",
            "\n",
            "See the caveats in the documentation: https://pandas.pydata.org/pandas-docs/stable/user_guide/indexing.html#returning-a-view-versus-a-copy\n",
            "  books_published_in_year['num_pages'] = books_published_in_year['num_pages'].replace('', pd.NA)\n",
            "<ipython-input-42-1489cb05825e>:19: SettingWithCopyWarning: \n",
            "A value is trying to be set on a copy of a slice from a DataFrame.\n",
            "Try using .loc[row_indexer,col_indexer] = value instead\n",
            "\n",
            "See the caveats in the documentation: https://pandas.pydata.org/pandas-docs/stable/user_guide/indexing.html#returning-a-view-versus-a-copy\n",
            "  books_published_in_year['num_pages'] = books_published_in_year['num_pages'].fillna(0).astype(int)\n"
          ]
        }
      ]
    },
    {
      "cell_type": "code",
      "execution_count": null,
      "metadata": {
        "colab": {
          "base_uri": "https://localhost:8080/"
        },
        "id": "MaURMt1NwtyA",
        "outputId": "0b127d9e-4cf9-4b32-e0fe-c26fd6a714e9"
      },
      "outputs": [
        {
          "output_type": "execute_result",
          "data": {
            "text/plain": [
              "(11016, nan)"
            ]
          },
          "metadata": {},
          "execution_count": 6
        }
      ],
      "source": [
        "books['newpublication_date'] = books['publication_date'].str.split('-')\n",
        "books['newpublication_date2'] = books['publication_date'].str.split('-')\n",
        "num = pd.to_numeric(books['num_pages'], errors='coerce')\n",
        "def conta(year):\n",
        "  sum=0\n",
        "  num_pages=0\n",
        "  maxx=0\n",
        "  for x in range(len(books.newpublication_date)):\n",
        "    if books.newpublication_date[x][0]==str(year):\n",
        "      sum+=1\n",
        "      num_pages+=num[x]\n",
        "  return sum,num_pages\n",
        "conta(2003)\n",
        "\n",
        "\n",
        "\n"
      ]
    },
    {
      "cell_type": "code",
      "execution_count": null,
      "metadata": {
        "id": "cu_E8gR_qz4g"
      },
      "outputs": [],
      "source": [
        "type(books['publication_date'][0][0])\n",
        "numeric_series = pd.to_numeric(books['num_pages'], errors='coerce')\n"
      ]
    },
    {
      "cell_type": "code",
      "source": [
        "numeric_series"
      ],
      "metadata": {
        "colab": {
          "base_uri": "https://localhost:8080/"
        },
        "id": "6lrPyR96VZTX",
        "outputId": "85be76a7-0e87-4a42-ba7d-a220e18bb495"
      },
      "execution_count": null,
      "outputs": [
        {
          "output_type": "execute_result",
          "data": {
            "text/plain": [
              "0         870.0\n",
              "1         309.0\n",
              "2         352.0\n",
              "3         435.0\n",
              "4         734.0\n",
              "          ...  \n",
              "199958    419.0\n",
              "199959    892.0\n",
              "199960    420.0\n",
              "199961    352.0\n",
              "199962    544.0\n",
              "Name: num_pages, Length: 199963, dtype: float64"
            ]
          },
          "metadata": {},
          "execution_count": 14
        }
      ]
    },
    {
      "cell_type": "code",
      "execution_count": null,
      "metadata": {
        "colab": {
          "base_uri": "https://localhost:8080/"
        },
        "id": "GUW9rLiR4bl5",
        "outputId": "7f7d5b86-2dba-4f1a-a692-a74a48f95f74"
      },
      "outputs": [
        {
          "output_type": "execute_result",
          "data": {
            "text/plain": [
              "1179.0"
            ]
          },
          "metadata": {},
          "execution_count": 15
        }
      ],
      "source": [
        "num[0]+num[1]"
      ]
    },
    {
      "cell_type": "code",
      "execution_count": null,
      "metadata": {
        "colab": {
          "base_uri": "https://localhost:8080/",
          "height": 35
        },
        "id": "_F_bnKLLLfUT",
        "outputId": "6ec7e313-59ee-430c-a44b-594a7da70549"
      },
      "outputs": [
        {
          "output_type": "execute_result",
          "data": {
            "text/plain": [
              "'2'"
            ],
            "application/vnd.google.colaboratory.intrinsic+json": {
              "type": "string"
            }
          },
          "metadata": {},
          "execution_count": 16
        }
      ],
      "source": [
        "books['publication_date'][0][0]"
      ]
    },
    {
      "cell_type": "markdown",
      "metadata": {
        "id": "clowa9Vlcash"
      },
      "source": [
        "Q4"
      ]
    },
    {
      "cell_type": "code",
      "execution_count": null,
      "metadata": {
        "colab": {
          "base_uri": "https://localhost:8080/",
          "height": 875
        },
        "id": "nmzCDY8occAj",
        "outputId": "92a10c78-3b05-4209-d47f-418c940a8142"
      },
      "outputs": [
        {
          "name": "stderr",
          "output_type": "stream",
          "text": [
            "/usr/local/lib/python3.10/dist-packages/IPython/core/pylabtools.py:151: UserWarning: Glyph 23567 (\\N{CJK UNIFIED IDEOGRAPH-5C0F}) missing from current font.\n",
            "  fig.canvas.print_figure(bytes_io, **kw)\n",
            "/usr/local/lib/python3.10/dist-packages/IPython/core/pylabtools.py:151: UserWarning: Glyph 37326 (\\N{CJK UNIFIED IDEOGRAPH-91CE}) missing from current font.\n",
            "  fig.canvas.print_figure(bytes_io, **kw)\n",
            "/usr/local/lib/python3.10/dist-packages/IPython/core/pylabtools.py:151: UserWarning: Glyph 19981 (\\N{CJK UNIFIED IDEOGRAPH-4E0D}) missing from current font.\n",
            "  fig.canvas.print_figure(bytes_io, **kw)\n",
            "/usr/local/lib/python3.10/dist-packages/IPython/core/pylabtools.py:151: UserWarning: Glyph 30001 (\\N{CJK UNIFIED IDEOGRAPH-7531}) missing from current font.\n",
            "  fig.canvas.print_figure(bytes_io, **kw)\n",
            "/usr/local/lib/python3.10/dist-packages/IPython/core/pylabtools.py:151: UserWarning: Glyph 32654 (\\N{CJK UNIFIED IDEOGRAPH-7F8E}) missing from current font.\n",
            "  fig.canvas.print_figure(bytes_io, **kw)\n"
          ]
        },
        {
          "data": {
            "image/png": "[encoded data removed]",
            "text/plain": [
              "<Figure size 900x800 with 1 Axes>"
            ]
          },
          "metadata": {},
          "output_type": "display_data"
        }
      ],
      "source": [
        "author_name =  dict(authors[\"name\"].value_counts())\n",
        "repeted_name = {}\n",
        "for x,y in author_name.items():\n",
        "    if y>= 2:\n",
        "      repeted_name[x] = y\n",
        "\n",
        "name = list(repeted_name.keys())[1:37]\n",
        "values = list(repeted_name.values())[1:37]\n",
        "plt.figure(figsize=(9, 8))\n",
        "plt.barh(name, values, color ='lightsteelblue')\n",
        "plt.xlabel('Frequencies')\n",
        "plt.ylabel('name')\n",
        "plt.show()\n"
      ]
    },
    {
      "cell_type": "markdown",
      "metadata": {
        "id": "DY6CiPRTiw6c"
      },
      "source": [
        "false"
      ]
    },
    {
      "cell_type": "code",
      "execution_count": null,
      "metadata": {
        "id": "6xertLzhivcf"
      },
      "outputs": [],
      "source": [
        "books_short_columns = read_only_columns(path_books_dataset_diego,['author_id', 'id', 'title'])"
      ]
    },
    {
      "cell_type": "code",
      "execution_count": null,
      "metadata": {
        "id": "x4OXeZeTQXfX"
      },
      "outputs": [],
      "source": [
        "authors_short_columns = read_only_columns(path_authors_dataset_diego,['average_rating', 'id', 'name'])"
      ]
    },
    {
      "cell_type": "markdown",
      "metadata": {
        "id": "ZMzrS2bLcrYb"
      },
      "source": [
        "Q4.2"
      ]
    },
    {
      "cell_type": "code",
      "execution_count": null,
      "metadata": {
        "id": "O7j1SyPwm5Ho"
      },
      "outputs": [],
      "source": [
        "def find_books_byId(authors_id, books):\n",
        "  my_dict = {}\n",
        "  count =0\n",
        "  for i in authors_id:\n",
        "    for j in books_short_columns[\"author_id\"]:\n",
        "    #cerca nella colonna author_id nel dataset books\n",
        "      if i == j:\n",
        "        my_dict[i] =  books_short_columns.loc[books_short_columns['author_id'] == i, 'title']\n",
        "\n",
        "  return my_dict\n"
      ]
    },
    {
      "cell_type": "code",
      "execution_count": null,
      "metadata": {
        "id": "oRiDzDOb7L-N"
      },
      "outputs": [],
      "source": [
        "\n",
        "id1 = []\n",
        "for i in range(3):\n",
        "  id1.append(books_short_columns.author_id[random.randint(0, books_short_columns.shape[0])])\n"
      ]
    },
    {
      "cell_type": "code",
      "execution_count": null,
      "metadata": {
        "id": "ECoiRy1YvVV9"
      },
      "outputs": [],
      "source": [
        "#my_dict = find_books_byId(authors['id'], books)\n",
        "\n",
        "def check_test(authors_id, books):\n",
        "  #correct = books[books.author_id == np.float64(authors_id)].shape[0]\n",
        "  test = find_books_byId(authors_id, books_short_columns)\n",
        "  return test"
      ]
    },
    {
      "cell_type": "code",
      "execution_count": null,
      "metadata": {
        "id": "SS1hvu7Pa_kS"
      },
      "outputs": [],
      "source": [
        "test_dict = check_test(id1, books_short_columns)"
      ]
    },
    {
      "cell_type": "markdown",
      "metadata": {
        "id": "c8liiYqZdbwO"
      },
      "source": [
        "Q4.3"
      ]
    },
    {
      "cell_type": "code",
      "execution_count": null,
      "metadata": {
        "id": "0Y2SOrv684w9"
      },
      "outputs": [],
      "source": [
        "def get_longest_book(top_authors, books):\n",
        "  title_books=set()\n",
        "  for i in top_authors['id']:\n",
        "    for j in books['author_id']:\n",
        "      if i == j:\n",
        "        title = (books_short_columns.loc[books_short_columns['author_id'] == i, 'title']).values[0]\n",
        "        title_books.add(title)\n",
        "  return title_books"
      ]
    },
    {
      "cell_type": "code",
      "execution_count": null,
      "metadata": {
        "id": "WfavFig8pGDy"
      },
      "outputs": [],
      "source": [
        "top_authors = authors_short_columns.sort_values('average_rating', ascending=False).head(21)"
      ]
    },
    {
      "cell_type": "code",
      "execution_count": null,
      "metadata": {
        "colab": {
          "base_uri": "https://localhost:8080/",
          "height": 176
        },
        "id": "kzAvSgDfam3Z",
        "outputId": "fcf550e5-b75d-4aee-c3a9-773837382356"
      },
      "outputs": [
        {
          "ename": "NameError",
          "evalue": "ignored",
          "output_type": "error",
          "traceback": [
            "\u001b[0;31m---------------------------------------------------------------------------\u001b[0m",
            "\u001b[0;31mNameError\u001b[0m                                 Traceback (most recent call last)",
            "\u001b[0;32m<ipython-input-7-fb28fdecec0a>\u001b[0m in \u001b[0;36m<cell line: 1>\u001b[0;34m()\u001b[0m\n\u001b[0;32m----> 1\u001b[0;31m \u001b[0mtitle_books\u001b[0m \u001b[0;34m=\u001b[0m \u001b[0mget_longest_book\u001b[0m\u001b[0;34m(\u001b[0m\u001b[0mtop_authors\u001b[0m\u001b[0;34m,\u001b[0m \u001b[0mbooks_short_columns\u001b[0m\u001b[0;34m)\u001b[0m\u001b[0;34m\u001b[0m\u001b[0;34m\u001b[0m\u001b[0m\n\u001b[0m",
            "\u001b[0;31mNameError\u001b[0m: name 'get_longest_book' is not defined"
          ]
        }
      ],
      "source": [
        "title_books = get_longest_book(top_authors, books_short_columns)"
      ]
    },
    {
      "cell_type": "markdown",
      "metadata": {
        "id": "poXnjeyycJva"
      },
      "source": [
        "Titles books are saved in python set, so we know that the first element is the longhest of all set, (ordered by default)"
      ]
    },
    {
      "cell_type": "code",
      "execution_count": null,
      "metadata": {
        "colab": {
          "base_uri": "https://localhost:8080/"
        },
        "id": "vHi-EMAxbB9E",
        "outputId": "4f7224ba-17c5-4072-9917-896cb73cfdc2"
      },
      "outputs": [
        {
          "data": {
            "text/plain": [
              "{'Arkitektڳur ڳa ڳislandi, Leiڎarvڳisir = Architekturfںuhrer Island = Architectural Guide To Iceland',\n",
              " 'Attack Of The Gas Powered Angels',\n",
              " 'Bomb',\n",
              " 'Broken Mirror',\n",
              " 'Educating the Royal Navy: 18th and 19th Century Education for Officers',\n",
              " 'Fantastic Illusions of Life, Love, the Birds, and the Bees',\n",
              " 'Help with the Hard Stuff: Workbooks for Teens with Type I Diabetes and Their Parents',\n",
              " 'History of the postage stamps of the United States of America',\n",
              " 'Initiation (Best Kept Secret)',\n",
              " 'My Mystery Child',\n",
              " 'Readings in child development',\n",
              " 'Sara Rose, Kid Lawyer',\n",
              " 'Strange Loops',\n",
              " 'The Lovable Rogue Mysteries',\n",
              " 'The Migraine Diaries #1: Diagnosis [1981]',\n",
              " 'You Have the Nerve to Call Yourself a Roman Catholic!',\n",
              " 'Übungen für Junge Mathematiker : Teil 4 Gleichungen (Mathematische Schülerbücherei, #87)'}"
            ]
          },
          "execution_count": 85,
          "metadata": {},
          "output_type": "execute_result"
        }
      ],
      "source": [
        "title_books"
      ]
    },
    {
      "cell_type": "code",
      "execution_count": null,
      "metadata": {
        "id": "XZG2JImnWDIB"
      },
      "outputs": [],
      "source": [
        "books_short_columns['max_lung'] = books_short_columns['title'].apply(len)\n",
        "max_book_all_dataset = books_short_columns.loc[books_short_columns['max_lung'].idxmax()]['title']\n"
      ]
    },
    {
      "cell_type": "markdown",
      "metadata": {
        "id": "0hQ0BfKscpAv"
      },
      "source": [
        "Instead the longhest book of dataset is :"
      ]
    },
    {
      "cell_type": "code",
      "execution_count": null,
      "metadata": {
        "colab": {
          "base_uri": "https://localhost:8080/",
          "height": 70
        },
        "id": "gVd2v4j7aZ5K",
        "outputId": "455b5f1a-c187-4f43-960f-b123a5fe632c"
      },
      "outputs": [
        {
          "data": {
            "application/vnd.google.colaboratory.intrinsic+json": {
              "type": "string"
            },
            "text/plain": [
              "'The New England Primer Issued Prior to 1830: A Bibliographical Checklist for the More Easy Attaining the True Knowledge of This Book, Embellished with a Hundred Cuts and Now Revised, Greatly Improved and Arranged in Two Alaphabets; With Preface, Introd...'"
            ]
          },
          "execution_count": 88,
          "metadata": {},
          "output_type": "execute_result"
        }
      ],
      "source": [
        "max_book_all_dataset"
      ]
    },
    {
      "cell_type": "markdown",
      "metadata": {
        "id": "GRXkvIO_c1R_"
      },
      "source": [
        "RQ4.4"
      ]
    },
    {
      "cell_type": "code",
      "execution_count": null,
      "metadata": {
        "id": "DXevCQmaeRQw"
      },
      "outputs": [],
      "source": [
        "books_short_columns['min_lung'] = books_short_columns['title'].apply(len)\n",
        "min_book_all_dataset = books_short_columns.loc[books_short_columns['min_lung'].idxmin()]['title']"
      ]
    },
    {
      "cell_type": "code",
      "execution_count": null,
      "metadata": {
        "colab": {
          "base_uri": "https://localhost:8080/",
          "height": 35
        },
        "id": "FDROso4oes2M",
        "outputId": "7ab4b5a9-c035-47c4-d05f-5b8306dfa6e2"
      },
      "outputs": [
        {
          "data": {
            "application/vnd.google.colaboratory.intrinsic+json": {
              "type": "string"
            },
            "text/plain": [
              "''"
            ]
          },
          "execution_count": 90,
          "metadata": {},
          "output_type": "execute_result"
        }
      ],
      "source": [
        "min_book_all_dataset"
      ]
    },
    {
      "cell_type": "markdown",
      "metadata": {
        "id": "0_vtQ0YnexCC"
      },
      "source": [
        "the shortest books of dataset is an empty string"
      ]
    },
    {
      "cell_type": "markdown",
      "metadata": {
        "id": "2OAvW5MC4a9I"
      },
      "source": [
        "[RQ5]"
      ]
    },
    {
      "cell_type": "code",
      "execution_count": null,
      "metadata": {
        "id": "5fh94Gim7pqy"
      },
      "outputs": [],
      "source": [
        "authors['num_books']=authors['book_ids'].apply(lambda x : len(x))\n",
        "top_ten=authors.sort_values(by=['fans_count','num_books'],ascending=False)[:10]"
      ]
    },
    {
      "cell_type": "code",
      "execution_count": null,
      "metadata": {
        "colab": {
          "base_uri": "https://localhost:8080/",
          "height": 143
        },
        "id": "L59zY3fn80P7",
        "outputId": "2ec06266-125e-463a-d82f-45d33c9f6d3a"
      },
      "outputs": [
        {
          "output_type": "stream",
          "name": "stderr",
          "text": [
            "<ipython-input-5-3c95f3c8a3a3>:3: SettingWithCopyWarning: \n",
            "A value is trying to be set on a copy of a slice from a DataFrame.\n",
            "Try using .loc[row_indexer,col_indexer] = value instead\n",
            "\n",
            "See the caveats in the documentation: https://pandas.pydata.org/pandas-docs/stable/user_guide/indexing.html#returning-a-view-versus-a-copy\n",
            "  authors_series['len_series_name']=authors_series['series_name'].apply(lambda x : len(x))\n"
          ]
        },
        {
          "output_type": "execute_result",
          "data": {
            "text/plain": [
              "'Percy Jackson and the Olympians'"
            ],
            "application/vnd.google.colaboratory.intrinsic+json": {
              "type": "string"
            }
          },
          "metadata": {},
          "execution_count": 5
        }
      ],
      "source": [
        "mergetop_ten=pd.merge(top_ten,books,left_on='id',right_on='author_id',how='inner')\n",
        "authors_series=mergetop_ten[mergetop_ten['series_id'].str.strip() != '']\n",
        "authors_series['len_series_name']=authors_series['series_name'].apply(lambda x : len(x))\n",
        "authors_series['series_name'][authors_series['len_series_name']==max(authors_series['len_series_name'])].iloc[0]\n",
        "#authors_series['series_name'].max()"
      ]
    },
    {
      "cell_type": "code",
      "execution_count": null,
      "metadata": {
        "colab": {
          "base_uri": "https://localhost:8080/",
          "height": 564
        },
        "id": "6rtmWvswpBs-",
        "outputId": "30d744f8-1df3-4957-a9ae-dc68932e804b"
      },
      "outputs": [
        {
          "output_type": "display_data",
          "data": {
            "text/plain": [
              "<Figure size 1000x600 with 1 Axes>"
            ],
            "image/png": "[encoded data removed]"
          },
          "metadata": {}
        }
      ],
      "source": [
        "sum(mergetop_ten['format'].str.split().apply(lambda x : len(x))>1)\n",
        "num_format=mergetop_ten['format'].str.split().apply(lambda x : len(x))\n",
        "\n",
        "\n",
        "plt.figure(figsize=(10, 6))\n",
        "\n",
        "plt.hist(num_format, bins=10, edgecolor='k')\n",
        "plt.xlabel('number format')\n",
        "plt.ylabel('count of format')\n",
        "plt.title('Distribution of number of format')\n",
        "plt.grid(True)\n",
        "\n",
        "plt.show()"
      ]
    },
    {
      "cell_type": "code",
      "execution_count": null,
      "metadata": {
        "colab": {
          "base_uri": "https://localhost:8080/",
          "height": 300
        },
        "id": "m-uUqK-UvH0M",
        "outputId": "438eb297-dab5-427c-cc3a-94f4ab3eff51"
      },
      "outputs": [
        {
          "output_type": "execute_result",
          "data": {
            "text/plain": [
              "       average_rating  text_reviews_count     fans_count  ratings_count\n",
              "count   351767.000000       351767.000000  351767.000000   3.517670e+05\n",
              "mean         3.651194          330.993243     111.615731   4.770586e+03\n",
              "std          1.211482         3857.539191    2661.018139   9.769395e+04\n",
              "min        -31.000000            0.000000     -33.000000  -4.100000e+01\n",
              "25%          3.600000            1.000000       1.000000   6.000000e+00\n",
              "50%          3.950000            8.000000       4.000000   3.900000e+01\n",
              "75%          4.250000           53.000000      20.000000   3.100000e+02\n",
              "max          5.000000       608956.000000  766035.000000   2.700375e+07"
            ],
            "text/html": [
              "\n",
              "  <div id=\"df-6a74e112-278a-40ec-8045-15833fb0bcde\" class=\"colab-df-container\">\n",
              "    <div>\n",
              "<style scoped>\n",
              "    .dataframe tbody tr th:only-of-type {\n",
              "        vertical-align: middle;\n",
              "    }\n",
              "\n",
              "    .dataframe tbody tr th {\n",
              "        vertical-align: top;\n",
              "    }\n",
              "\n",
              "    .dataframe thead th {\n",
              "        text-align: right;\n",
              "    }\n",
              "</style>\n",
              "<table border=\"1\" class=\"dataframe\">\n",
              "  <thead>\n",
              "    <tr style=\"text-align: right;\">\n",
              "      <th></th>\n",
              "      <th>average_rating</th>\n",
              "      <th>text_reviews_count</th>\n",
              "      <th>fans_count</th>\n",
              "      <th>ratings_count</th>\n",
              "    </tr>\n",
              "  </thead>\n",
              "  <tbody>\n",
              "    <tr>\n",
              "      <th>count</th>\n",
              "      <td>351767.000000</td>\n",
              "      <td>351767.000000</td>\n",
              "      <td>351767.000000</td>\n",
              "      <td>3.517670e+05</td>\n",
              "    </tr>\n",
              "    <tr>\n",
              "      <th>mean</th>\n",
              "      <td>3.651194</td>\n",
              "      <td>330.993243</td>\n",
              "      <td>111.615731</td>\n",
              "      <td>4.770586e+03</td>\n",
              "    </tr>\n",
              "    <tr>\n",
              "      <th>std</th>\n",
              "      <td>1.211482</td>\n",
              "      <td>3857.539191</td>\n",
              "      <td>2661.018139</td>\n",
              "      <td>9.769395e+04</td>\n",
              "    </tr>\n",
              "    <tr>\n",
              "      <th>min</th>\n",
              "      <td>-31.000000</td>\n",
              "      <td>0.000000</td>\n",
              "      <td>-33.000000</td>\n",
              "      <td>-4.100000e+01</td>\n",
              "    </tr>\n",
              "    <tr>\n",
              "      <th>25%</th>\n",
              "      <td>3.600000</td>\n",
              "      <td>1.000000</td>\n",
              "      <td>1.000000</td>\n",
              "      <td>6.000000e+00</td>\n",
              "    </tr>\n",
              "    <tr>\n",
              "      <th>50%</th>\n",
              "      <td>3.950000</td>\n",
              "      <td>8.000000</td>\n",
              "      <td>4.000000</td>\n",
              "      <td>3.900000e+01</td>\n",
              "    </tr>\n",
              "    <tr>\n",
              "      <th>75%</th>\n",
              "      <td>4.250000</td>\n",
              "      <td>53.000000</td>\n",
              "      <td>20.000000</td>\n",
              "      <td>3.100000e+02</td>\n",
              "    </tr>\n",
              "    <tr>\n",
              "      <th>max</th>\n",
              "      <td>5.000000</td>\n",
              "      <td>608956.000000</td>\n",
              "      <td>766035.000000</td>\n",
              "      <td>2.700375e+07</td>\n",
              "    </tr>\n",
              "  </tbody>\n",
              "</table>\n",
              "</div>\n",
              "    <div class=\"colab-df-buttons\">\n",
              "\n",
              "  <div class=\"colab-df-container\">\n",
              "    <button class=\"colab-df-convert\" onclick=\"convertToInteractive('df-6a74e112-278a-40ec-8045-15833fb0bcde')\"\n",
              "            title=\"Convert this dataframe to an interactive table.\"\n",
              "            style=\"display:none;\">\n",
              "\n",
              "  <svg xmlns=\"http://www.w3.org/2000/svg\" height=\"24px\" viewBox=\"0 -960 960 960\">\n",
              "    <path d=\"M120-120v-720h720v720H120Zm60-500h600v-160H180v160Zm220 220h160v-160H400v160Zm0 220h160v-160H400v160ZM180-400h160v-160H180v160Zm440 0h160v-160H620v160ZM180-180h160v-160H180v160Zm440 0h160v-160H620v160Z\"/>\n",
              "  </svg>\n",
              "    </button>\n",
              "\n",
              "  <style>\n",
              "    .colab-df-container {\n",
              "      display:flex;\n",
              "      gap: 12px;\n",
              "    }\n",
              "\n",
              "    .colab-df-convert {\n",
              "      background-color: #E8F0FE;\n",
              "      border: none;\n",
              "      border-radius: 50%;\n",
              "      cursor: pointer;\n",
              "      display: none;\n",
              "      fill: #1967D2;\n",
              "      height: 32px;\n",
              "      padding: 0 0 0 0;\n",
              "      width: 32px;\n",
              "    }\n",
              "\n",
              "    .colab-df-convert:hover {\n",
              "      background-color: #E2EBFA;\n",
              "      box-shadow: 0px 1px 2px rgba(60, 64, 67, 0.3), 0px 1px 3px 1px rgba(60, 64, 67, 0.15);\n",
              "      fill: #174EA6;\n",
              "    }\n",
              "\n",
              "    .colab-df-buttons div {\n",
              "      margin-bottom: 4px;\n",
              "    }\n",
              "\n",
              "    [theme=dark] .colab-df-convert {\n",
              "      background-color: #3B4455;\n",
              "      fill: #D2E3FC;\n",
              "    }\n",
              "\n",
              "    [theme=dark] .colab-df-convert:hover {\n",
              "      background-color: #434B5C;\n",
              "      box-shadow: 0px 1px 3px 1px rgba(0, 0, 0, 0.15);\n",
              "      filter: drop-shadow(0px 1px 2px rgba(0, 0, 0, 0.3));\n",
              "      fill: #FFFFFF;\n",
              "    }\n",
              "  </style>\n",
              "\n",
              "    <script>\n",
              "      const buttonEl =\n",
              "        document.querySelector('#df-6a74e112-278a-40ec-8045-15833fb0bcde button.colab-df-convert');\n",
              "      buttonEl.style.display =\n",
              "        google.colab.kernel.accessAllowed ? 'block' : 'none';\n",
              "\n",
              "      async function convertToInteractive(key) {\n",
              "        const element = document.querySelector('#df-6a74e112-278a-40ec-8045-15833fb0bcde');\n",
              "        const dataTable =\n",
              "          await google.colab.kernel.invokeFunction('convertToInteractive',\n",
              "                                                    [key], {});\n",
              "        if (!dataTable) return;\n",
              "\n",
              "        const docLinkHtml = 'Like what you see? Visit the ' +\n",
              "          '<a target=\"_blank\" href=https://colab.research.google.com/notebooks/data_table.ipynb>data table notebook</a>'\n",
              "          + ' to learn more about interactive tables.';\n",
              "        element.innerHTML = '';\n",
              "        dataTable['output_type'] = 'display_data';\n",
              "        await google.colab.output.renderOutput(dataTable, element);\n",
              "        const docLink = document.createElement('div');\n",
              "        docLink.innerHTML = docLinkHtml;\n",
              "        element.appendChild(docLink);\n",
              "      }\n",
              "    </script>\n",
              "  </div>\n",
              "\n",
              "\n",
              "<div id=\"df-354e7980-6df1-4ad9-aa22-a2ad7917d6bd\">\n",
              "  <button class=\"colab-df-quickchart\" onclick=\"quickchart('df-354e7980-6df1-4ad9-aa22-a2ad7917d6bd')\"\n",
              "            title=\"Suggest charts.\"\n",
              "            style=\"display:none;\">\n",
              "\n",
              "<svg xmlns=\"http://www.w3.org/2000/svg\" height=\"24px\"viewBox=\"0 0 24 24\"\n",
              "     width=\"24px\">\n",
              "    <g>\n",
              "        <path d=\"M19 3H5c-1.1 0-2 .9-2 2v14c0 1.1.9 2 2 2h14c1.1 0 2-.9 2-2V5c0-1.1-.9-2-2-2zM9 17H7v-7h2v7zm4 0h-2V7h2v10zm4 0h-2v-4h2v4z\"/>\n",
              "    </g>\n",
              "</svg>\n",
              "  </button>\n",
              "\n",
              "<style>\n",
              "  .colab-df-quickchart {\n",
              "      --bg-color: #E8F0FE;\n",
              "      --fill-color: #1967D2;\n",
              "      --hover-bg-color: #E2EBFA;\n",
              "      --hover-fill-color: #174EA6;\n",
              "      --disabled-fill-color: #AAA;\n",
              "      --disabled-bg-color: #DDD;\n",
              "  }\n",
              "\n",
              "  [theme=dark] .colab-df-quickchart {\n",
              "      --bg-color: #3B4455;\n",
              "      --fill-color: #D2E3FC;\n",
              "      --hover-bg-color: #434B5C;\n",
              "      --hover-fill-color: #FFFFFF;\n",
              "      --disabled-bg-color: #3B4455;\n",
              "      --disabled-fill-color: #666;\n",
              "  }\n",
              "\n",
              "  .colab-df-quickchart {\n",
              "    background-color: var(--bg-color);\n",
              "    border: none;\n",
              "    border-radius: 50%;\n",
              "    cursor: pointer;\n",
              "    display: none;\n",
              "    fill: var(--fill-color);\n",
              "    height: 32px;\n",
              "    padding: 0;\n",
              "    width: 32px;\n",
              "  }\n",
              "\n",
              "  .colab-df-quickchart:hover {\n",
              "    background-color: var(--hover-bg-color);\n",
              "    box-shadow: 0 1px 2px rgba(60, 64, 67, 0.3), 0 1px 3px 1px rgba(60, 64, 67, 0.15);\n",
              "    fill: var(--button-hover-fill-color);\n",
              "  }\n",
              "\n",
              "  .colab-df-quickchart-complete:disabled,\n",
              "  .colab-df-quickchart-complete:disabled:hover {\n",
              "    background-color: var(--disabled-bg-color);\n",
              "    fill: var(--disabled-fill-color);\n",
              "    box-shadow: none;\n",
              "  }\n",
              "\n",
              "  .colab-df-spinner {\n",
              "    border: 2px solid var(--fill-color);\n",
              "    border-color: transparent;\n",
              "    border-bottom-color: var(--fill-color);\n",
              "    animation:\n",
              "      spin 1s steps(1) infinite;\n",
              "  }\n",
              "\n",
              "  @keyframes spin {\n",
              "    0% {\n",
              "      border-color: transparent;\n",
              "      border-bottom-color: var(--fill-color);\n",
              "      border-left-color: var(--fill-color);\n",
              "    }\n",
              "    20% {\n",
              "      border-color: transparent;\n",
              "      border-left-color: var(--fill-color);\n",
              "      border-top-color: var(--fill-color);\n",
              "    }\n",
              "    30% {\n",
              "      border-color: transparent;\n",
              "      border-left-color: var(--fill-color);\n",
              "      border-top-color: var(--fill-color);\n",
              "      border-right-color: var(--fill-color);\n",
              "    }\n",
              "    40% {\n",
              "      border-color: transparent;\n",
              "      border-right-color: var(--fill-color);\n",
              "      border-top-color: var(--fill-color);\n",
              "    }\n",
              "    60% {\n",
              "      border-color: transparent;\n",
              "      border-right-color: var(--fill-color);\n",
              "    }\n",
              "    80% {\n",
              "      border-color: transparent;\n",
              "      border-right-color: var(--fill-color);\n",
              "      border-bottom-color: var(--fill-color);\n",
              "    }\n",
              "    90% {\n",
              "      border-color: transparent;\n",
              "      border-bottom-color: var(--fill-color);\n",
              "    }\n",
              "  }\n",
              "</style>\n",
              "\n",
              "  <script>\n",
              "    async function quickchart(key) {\n",
              "      const quickchartButtonEl =\n",
              "        document.querySelector('#' + key + ' button');\n",
              "      quickchartButtonEl.disabled = true;  // To prevent multiple clicks.\n",
              "      quickchartButtonEl.classList.add('colab-df-spinner');\n",
              "      try {\n",
              "        const charts = await google.colab.kernel.invokeFunction(\n",
              "            'suggestCharts', [key], {});\n",
              "      } catch (error) {\n",
              "        console.error('Error during call to suggestCharts:', error);\n",
              "      }\n",
              "      quickchartButtonEl.classList.remove('colab-df-spinner');\n",
              "      quickchartButtonEl.classList.add('colab-df-quickchart-complete');\n",
              "    }\n",
              "    (() => {\n",
              "      let quickchartButtonEl =\n",
              "        document.querySelector('#df-354e7980-6df1-4ad9-aa22-a2ad7917d6bd button');\n",
              "      quickchartButtonEl.style.display =\n",
              "        google.colab.kernel.accessAllowed ? 'block' : 'none';\n",
              "    })();\n",
              "  </script>\n",
              "</div>\n",
              "    </div>\n",
              "  </div>\n"
            ]
          },
          "metadata": {},
          "execution_count": 7
        }
      ],
      "source": [
        "colums_response_from_readers = ['average_rating', 'text_reviews_count', 'fans_count', 'ratings_count']\n",
        "authors_colums_response_from_readers = authors[colums_response_from_readers]\n",
        "authors_colums_response_from_readers.describe()"
      ]
    },
    {
      "cell_type": "code",
      "source": [
        "authors.groupby(['gender']).iloc['female']"
      ],
      "metadata": {
        "colab": {
          "base_uri": "https://localhost:8080/",
          "height": 304
        },
        "id": "KYG9yiml4AK8",
        "outputId": "44005a08-5b3f-4e9f-e747-af89aac2136c"
      },
      "execution_count": null,
      "outputs": [
        {
          "output_type": "error",
          "ename": "AttributeError",
          "evalue": "ignored",
          "traceback": [
            "\u001b[0;31m---------------------------------------------------------------------------\u001b[0m",
            "\u001b[0;31mAttributeError\u001b[0m                            Traceback (most recent call last)",
            "\u001b[0;32m<ipython-input-9-fa50f04b7157>\u001b[0m in \u001b[0;36m<cell line: 1>\u001b[0;34m()\u001b[0m\n\u001b[0;32m----> 1\u001b[0;31m \u001b[0mauthors\u001b[0m\u001b[0;34m.\u001b[0m\u001b[0mgroupby\u001b[0m\u001b[0;34m(\u001b[0m\u001b[0;34m[\u001b[0m\u001b[0;34m'gender'\u001b[0m\u001b[0;34m]\u001b[0m\u001b[0;34m)\u001b[0m\u001b[0;34m.\u001b[0m\u001b[0mloc\u001b[0m\u001b[0;34m[\u001b[0m\u001b[0;34m'female'\u001b[0m\u001b[0;34m]\u001b[0m\u001b[0;34m\u001b[0m\u001b[0;34m\u001b[0m\u001b[0m\n\u001b[0m",
            "\u001b[0;32m/usr/local/lib/python3.10/dist-packages/pandas/core/groupby/groupby.py\u001b[0m in \u001b[0;36m__getattr__\u001b[0;34m(self, attr)\u001b[0m\n\u001b[1;32m    985\u001b[0m             \u001b[0;32mreturn\u001b[0m \u001b[0mself\u001b[0m\u001b[0;34m[\u001b[0m\u001b[0mattr\u001b[0m\u001b[0;34m]\u001b[0m\u001b[0;34m\u001b[0m\u001b[0;34m\u001b[0m\u001b[0m\n\u001b[1;32m    986\u001b[0m \u001b[0;34m\u001b[0m\u001b[0m\n\u001b[0;32m--> 987\u001b[0;31m         raise AttributeError(\n\u001b[0m\u001b[1;32m    988\u001b[0m             \u001b[0;34mf\"'{type(self).__name__}' object has no attribute '{attr}'\"\u001b[0m\u001b[0;34m\u001b[0m\u001b[0;34m\u001b[0m\u001b[0m\n\u001b[1;32m    989\u001b[0m         )\n",
            "\u001b[0;31mAttributeError\u001b[0m: 'DataFrameGroupBy' object has no attribute 'loc'"
          ]
        }
      ]
    },
    {
      "cell_type": "markdown",
      "source": [
        "RQ 5.4"
      ],
      "metadata": {
        "id": "RsqvyGENwz_2"
      }
    },
    {
      "cell_type": "code",
      "source": [
        "gender= authors['gender'].value_counts()"
      ],
      "metadata": {
        "id": "orx2CsFNxYvP"
      },
      "execution_count": null,
      "outputs": []
    },
    {
      "cell_type": "code",
      "source": [
        "general_stats = authors.agg({\n",
        "    \"fans_count\": \"sum\",\n",
        "    \"average_rating\": \"mean\",\n",
        "    \"text_reviews_count\": \"sum\"\n",
        "})\n",
        "\n",
        "general_stats_groupby = authors.groupby('gender').agg({\n",
        "    \"fans_count\": \"sum\",\n",
        "    \"average_rating\": \"mean\",\n",
        "    \"text_reviews_count\": \"sum\"\n",
        "})\n",
        "\n"
      ],
      "metadata": {
        "id": "7wXbxZ6VDkFL"
      },
      "execution_count": null,
      "outputs": []
    },
    {
      "cell_type": "code",
      "source": [
        "general_stats"
      ],
      "metadata": {
        "id": "DOy-bcMMOLVF",
        "colab": {
          "base_uri": "https://localhost:8080/"
        },
        "outputId": "866abaf2-1817-4df7-ae9f-df8c267e6bbd"
      },
      "execution_count": null,
      "outputs": [
        {
          "output_type": "execute_result",
          "data": {
            "text/plain": [
              "fans_count            3.926273e+07\n",
              "average_rating        3.651194e+00\n",
              "text_reviews_count    1.164325e+08\n",
              "dtype: float64"
            ]
          },
          "metadata": {},
          "execution_count": 48
        }
      ]
    },
    {
      "cell_type": "code",
      "source": [
        "general_stats_groupby"
      ],
      "metadata": {
        "colab": {
          "base_uri": "https://localhost:8080/",
          "height": 455
        },
        "id": "Qqw5ePkBHTK5",
        "outputId": "816061b2-7b87-4061-982c-06e0bf2c3047"
      },
      "execution_count": null,
      "outputs": [
        {
          "output_type": "execute_result",
          "data": {
            "text/plain": [
              "                    fans_count  average_rating  text_reviews_count\n",
              "gender                                                            \n",
              "                       6139338        3.509177            18650927\n",
              "(He/Him)                     6        4.500000                   8\n",
              "-                            2        5.000000                   0\n",
              "AMAB                         1        5.000000                   0\n",
              "Adrogynous                   0        0.000000                   0\n",
              "...                        ...             ...                 ...\n",
              "transmasculine              68        3.816667                  74\n",
              "transsexual female           2        5.000000                   0\n",
              "two-spirit                   1        5.000000                   0\n",
              "void                         5        3.900000                  92\n",
              "wizardess                    0        3.000000                   0\n",
              "\n",
              "[150 rows x 3 columns]"
            ],
            "text/html": [
              "\n",
              "  <div id=\"df-b09c6b47-40e5-4e59-ac09-09d4cc9c8716\" class=\"colab-df-container\">\n",
              "    <div>\n",
              "<style scoped>\n",
              "    .dataframe tbody tr th:only-of-type {\n",
              "        vertical-align: middle;\n",
              "    }\n",
              "\n",
              "    .dataframe tbody tr th {\n",
              "        vertical-align: top;\n",
              "    }\n",
              "\n",
              "    .dataframe thead th {\n",
              "        text-align: right;\n",
              "    }\n",
              "</style>\n",
              "<table border=\"1\" class=\"dataframe\">\n",
              "  <thead>\n",
              "    <tr style=\"text-align: right;\">\n",
              "      <th></th>\n",
              "      <th>fans_count</th>\n",
              "      <th>average_rating</th>\n",
              "      <th>text_reviews_count</th>\n",
              "    </tr>\n",
              "    <tr>\n",
              "      <th>gender</th>\n",
              "      <th></th>\n",
              "      <th></th>\n",
              "      <th></th>\n",
              "    </tr>\n",
              "  </thead>\n",
              "  <tbody>\n",
              "    <tr>\n",
              "      <th></th>\n",
              "      <td>6139338</td>\n",
              "      <td>3.509177</td>\n",
              "      <td>18650927</td>\n",
              "    </tr>\n",
              "    <tr>\n",
              "      <th>(He/Him)</th>\n",
              "      <td>6</td>\n",
              "      <td>4.500000</td>\n",
              "      <td>8</td>\n",
              "    </tr>\n",
              "    <tr>\n",
              "      <th>-</th>\n",
              "      <td>2</td>\n",
              "      <td>5.000000</td>\n",
              "      <td>0</td>\n",
              "    </tr>\n",
              "    <tr>\n",
              "      <th>AMAB</th>\n",
              "      <td>1</td>\n",
              "      <td>5.000000</td>\n",
              "      <td>0</td>\n",
              "    </tr>\n",
              "    <tr>\n",
              "      <th>Adrogynous</th>\n",
              "      <td>0</td>\n",
              "      <td>0.000000</td>\n",
              "      <td>0</td>\n",
              "    </tr>\n",
              "    <tr>\n",
              "      <th>...</th>\n",
              "      <td>...</td>\n",
              "      <td>...</td>\n",
              "      <td>...</td>\n",
              "    </tr>\n",
              "    <tr>\n",
              "      <th>transmasculine</th>\n",
              "      <td>68</td>\n",
              "      <td>3.816667</td>\n",
              "      <td>74</td>\n",
              "    </tr>\n",
              "    <tr>\n",
              "      <th>transsexual female</th>\n",
              "      <td>2</td>\n",
              "      <td>5.000000</td>\n",
              "      <td>0</td>\n",
              "    </tr>\n",
              "    <tr>\n",
              "      <th>two-spirit</th>\n",
              "      <td>1</td>\n",
              "      <td>5.000000</td>\n",
              "      <td>0</td>\n",
              "    </tr>\n",
              "    <tr>\n",
              "      <th>void</th>\n",
              "      <td>5</td>\n",
              "      <td>3.900000</td>\n",
              "      <td>92</td>\n",
              "    </tr>\n",
              "    <tr>\n",
              "      <th>wizardess</th>\n",
              "      <td>0</td>\n",
              "      <td>3.000000</td>\n",
              "      <td>0</td>\n",
              "    </tr>\n",
              "  </tbody>\n",
              "</table>\n",
              "<p>150 rows × 3 columns</p>\n",
              "</div>\n",
              "    <div class=\"colab-df-buttons\">\n",
              "\n",
              "  <div class=\"colab-df-container\">\n",
              "    <button class=\"colab-df-convert\" onclick=\"convertToInteractive('df-b09c6b47-40e5-4e59-ac09-09d4cc9c8716')\"\n",
              "            title=\"Convert this dataframe to an interactive table.\"\n",
              "            style=\"display:none;\">\n",
              "\n",
              "  <svg xmlns=\"http://www.w3.org/2000/svg\" height=\"24px\" viewBox=\"0 -960 960 960\">\n",
              "    <path d=\"M120-120v-720h720v720H120Zm60-500h600v-160H180v160Zm220 220h160v-160H400v160Zm0 220h160v-160H400v160ZM180-400h160v-160H180v160Zm440 0h160v-160H620v160ZM180-180h160v-160H180v160Zm440 0h160v-160H620v160Z\"/>\n",
              "  </svg>\n",
              "    </button>\n",
              "\n",
              "  <style>\n",
              "    .colab-df-container {\n",
              "      display:flex;\n",
              "      gap: 12px;\n",
              "    }\n",
              "\n",
              "    .colab-df-convert {\n",
              "      background-color: #E8F0FE;\n",
              "      border: none;\n",
              "      border-radius: 50%;\n",
              "      cursor: pointer;\n",
              "      display: none;\n",
              "      fill: #1967D2;\n",
              "      height: 32px;\n",
              "      padding: 0 0 0 0;\n",
              "      width: 32px;\n",
              "    }\n",
              "\n",
              "    .colab-df-convert:hover {\n",
              "      background-color: #E2EBFA;\n",
              "      box-shadow: 0px 1px 2px rgba(60, 64, 67, 0.3), 0px 1px 3px 1px rgba(60, 64, 67, 0.15);\n",
              "      fill: #174EA6;\n",
              "    }\n",
              "\n",
              "    .colab-df-buttons div {\n",
              "      margin-bottom: 4px;\n",
              "    }\n",
              "\n",
              "    [theme=dark] .colab-df-convert {\n",
              "      background-color: #3B4455;\n",
              "      fill: #D2E3FC;\n",
              "    }\n",
              "\n",
              "    [theme=dark] .colab-df-convert:hover {\n",
              "      background-color: #434B5C;\n",
              "      box-shadow: 0px 1px 3px 1px rgba(0, 0, 0, 0.15);\n",
              "      filter: drop-shadow(0px 1px 2px rgba(0, 0, 0, 0.3));\n",
              "      fill: #FFFFFF;\n",
              "    }\n",
              "  </style>\n",
              "\n",
              "    <script>\n",
              "      const buttonEl =\n",
              "        document.querySelector('#df-b09c6b47-40e5-4e59-ac09-09d4cc9c8716 button.colab-df-convert');\n",
              "      buttonEl.style.display =\n",
              "        google.colab.kernel.accessAllowed ? 'block' : 'none';\n",
              "\n",
              "      async function convertToInteractive(key) {\n",
              "        const element = document.querySelector('#df-b09c6b47-40e5-4e59-ac09-09d4cc9c8716');\n",
              "        const dataTable =\n",
              "          await google.colab.kernel.invokeFunction('convertToInteractive',\n",
              "                                                    [key], {});\n",
              "        if (!dataTable) return;\n",
              "\n",
              "        const docLinkHtml = 'Like what you see? Visit the ' +\n",
              "          '<a target=\"_blank\" href=https://colab.research.google.com/notebooks/data_table.ipynb>data table notebook</a>'\n",
              "          + ' to learn more about interactive tables.';\n",
              "        element.innerHTML = '';\n",
              "        dataTable['output_type'] = 'display_data';\n",
              "        await google.colab.output.renderOutput(dataTable, element);\n",
              "        const docLink = document.createElement('div');\n",
              "        docLink.innerHTML = docLinkHtml;\n",
              "        element.appendChild(docLink);\n",
              "      }\n",
              "    </script>\n",
              "  </div>\n",
              "\n",
              "\n",
              "<div id=\"df-2ef67fbc-574a-4636-89b7-075793a59577\">\n",
              "  <button class=\"colab-df-quickchart\" onclick=\"quickchart('df-2ef67fbc-574a-4636-89b7-075793a59577')\"\n",
              "            title=\"Suggest charts.\"\n",
              "            style=\"display:none;\">\n",
              "\n",
              "<svg xmlns=\"http://www.w3.org/2000/svg\" height=\"24px\"viewBox=\"0 0 24 24\"\n",
              "     width=\"24px\">\n",
              "    <g>\n",
              "        <path d=\"M19 3H5c-1.1 0-2 .9-2 2v14c0 1.1.9 2 2 2h14c1.1 0 2-.9 2-2V5c0-1.1-.9-2-2-2zM9 17H7v-7h2v7zm4 0h-2V7h2v10zm4 0h-2v-4h2v4z\"/>\n",
              "    </g>\n",
              "</svg>\n",
              "  </button>\n",
              "\n",
              "<style>\n",
              "  .colab-df-quickchart {\n",
              "      --bg-color: #E8F0FE;\n",
              "      --fill-color: #1967D2;\n",
              "      --hover-bg-color: #E2EBFA;\n",
              "      --hover-fill-color: #174EA6;\n",
              "      --disabled-fill-color: #AAA;\n",
              "      --disabled-bg-color: #DDD;\n",
              "  }\n",
              "\n",
              "  [theme=dark] .colab-df-quickchart {\n",
              "      --bg-color: #3B4455;\n",
              "      --fill-color: #D2E3FC;\n",
              "      --hover-bg-color: #434B5C;\n",
              "      --hover-fill-color: #FFFFFF;\n",
              "      --disabled-bg-color: #3B4455;\n",
              "      --disabled-fill-color: #666;\n",
              "  }\n",
              "\n",
              "  .colab-df-quickchart {\n",
              "    background-color: var(--bg-color);\n",
              "    border: none;\n",
              "    border-radius: 50%;\n",
              "    cursor: pointer;\n",
              "    display: none;\n",
              "    fill: var(--fill-color);\n",
              "    height: 32px;\n",
              "    padding: 0;\n",
              "    width: 32px;\n",
              "  }\n",
              "\n",
              "  .colab-df-quickchart:hover {\n",
              "    background-color: var(--hover-bg-color);\n",
              "    box-shadow: 0 1px 2px rgba(60, 64, 67, 0.3), 0 1px 3px 1px rgba(60, 64, 67, 0.15);\n",
              "    fill: var(--button-hover-fill-color);\n",
              "  }\n",
              "\n",
              "  .colab-df-quickchart-complete:disabled,\n",
              "  .colab-df-quickchart-complete:disabled:hover {\n",
              "    background-color: var(--disabled-bg-color);\n",
              "    fill: var(--disabled-fill-color);\n",
              "    box-shadow: none;\n",
              "  }\n",
              "\n",
              "  .colab-df-spinner {\n",
              "    border: 2px solid var(--fill-color);\n",
              "    border-color: transparent;\n",
              "    border-bottom-color: var(--fill-color);\n",
              "    animation:\n",
              "      spin 1s steps(1) infinite;\n",
              "  }\n",
              "\n",
              "  @keyframes spin {\n",
              "    0% {\n",
              "      border-color: transparent;\n",
              "      border-bottom-color: var(--fill-color);\n",
              "      border-left-color: var(--fill-color);\n",
              "    }\n",
              "    20% {\n",
              "      border-color: transparent;\n",
              "      border-left-color: var(--fill-color);\n",
              "      border-top-color: var(--fill-color);\n",
              "    }\n",
              "    30% {\n",
              "      border-color: transparent;\n",
              "      border-left-color: var(--fill-color);\n",
              "      border-top-color: var(--fill-color);\n",
              "      border-right-color: var(--fill-color);\n",
              "    }\n",
              "    40% {\n",
              "      border-color: transparent;\n",
              "      border-right-color: var(--fill-color);\n",
              "      border-top-color: var(--fill-color);\n",
              "    }\n",
              "    60% {\n",
              "      border-color: transparent;\n",
              "      border-right-color: var(--fill-color);\n",
              "    }\n",
              "    80% {\n",
              "      border-color: transparent;\n",
              "      border-right-color: var(--fill-color);\n",
              "      border-bottom-color: var(--fill-color);\n",
              "    }\n",
              "    90% {\n",
              "      border-color: transparent;\n",
              "      border-bottom-color: var(--fill-color);\n",
              "    }\n",
              "  }\n",
              "</style>\n",
              "\n",
              "  <script>\n",
              "    async function quickchart(key) {\n",
              "      const quickchartButtonEl =\n",
              "        document.querySelector('#' + key + ' button');\n",
              "      quickchartButtonEl.disabled = true;  // To prevent multiple clicks.\n",
              "      quickchartButtonEl.classList.add('colab-df-spinner');\n",
              "      try {\n",
              "        const charts = await google.colab.kernel.invokeFunction(\n",
              "            'suggestCharts', [key], {});\n",
              "      } catch (error) {\n",
              "        console.error('Error during call to suggestCharts:', error);\n",
              "      }\n",
              "      quickchartButtonEl.classList.remove('colab-df-spinner');\n",
              "      quickchartButtonEl.classList.add('colab-df-quickchart-complete');\n",
              "    }\n",
              "    (() => {\n",
              "      let quickchartButtonEl =\n",
              "        document.querySelector('#df-2ef67fbc-574a-4636-89b7-075793a59577 button');\n",
              "      quickchartButtonEl.style.display =\n",
              "        google.colab.kernel.accessAllowed ? 'block' : 'none';\n",
              "    })();\n",
              "  </script>\n",
              "</div>\n",
              "    </div>\n",
              "  </div>\n"
            ]
          },
          "metadata": {},
          "execution_count": 46
        }
      ]
    },
    {
      "cell_type": "markdown",
      "source": [
        "for this point all genders were considered, alternatively the two main genders could be kept (male and female) while all the others were put under another label for example other"
      ],
      "metadata": {
        "id": "A4Af1rxJls7D"
      }
    },
    {
      "cell_type": "markdown",
      "metadata": {
        "id": "hanycMFK2UzF"
      },
      "source": [
        "[RQ6]"
      ]
    },
    {
      "cell_type": "markdown",
      "source": [
        "1.Provide the average time gap between two subsequent publications for a series of books and those not belonging to a series. What do you expect to see, and what is the actual answer to this question?"
      ],
      "metadata": {
        "id": "KjJ3xzteQnMQ"
      }
    },
    {
      "cell_type": "code",
      "source": [
        "books_short = read_only_columns(path_books_dataset_diego, [\"author_id\", \"original_publication_date\", \"series_id\", \"work_id\"])\n",
        "authors_short = read_only_columns(path_authors_dataset_diego, ['id','book_ids','fans_count','name'])"
      ],
      "metadata": {
        "id": "wKE4OWnoPmbC"
      },
      "execution_count": null,
      "outputs": []
    },
    {
      "cell_type": "markdown",
      "source": [
        "get top 10 authors"
      ],
      "metadata": {
        "id": "Ln9ca3jyS0ql"
      }
    },
    {
      "cell_type": "code",
      "execution_count": null,
      "metadata": {
        "id": "HI1mVPu524JT"
      },
      "outputs": [],
      "source": [
        "authors['num_books']=authors['book_ids'].apply(lambda x : len(x))\n",
        "top_ten = authors.sort_values(by=['fans_count','num_books'],ascending=False)[:10]"
      ]
    },
    {
      "cell_type": "code",
      "source": [
        "books['newpublication_date'] = books['original_publication_date'].str.split('-')\n",
        "mergetop_ten=pd.merge(top_ten,books,left_on='id',right_on='author_id',how='inner')"
      ],
      "metadata": {
        "id": "ZdrPyyuDDitP"
      },
      "execution_count": null,
      "outputs": []
    },
    {
      "cell_type": "markdown",
      "source": [
        "[QS] 6.1"
      ],
      "metadata": {
        "id": "7zlvhoBqS3LJ"
      }
    },
    {
      "cell_type": "code",
      "source": [
        "mergetop_ten = mergetop_ten[(mergetop_ten['original_publication_date'] >= '1678-01-01') & (mergetop_ten['original_publication_date'] <= '2262-04-11')]\n"
      ],
      "metadata": {
        "id": "gYao2E4tPtBJ"
      },
      "execution_count": null,
      "outputs": []
    },
    {
      "cell_type": "code",
      "source": [
        "mergetop_ten[\"original_publication_date\"] = pd.to_datetime(mergetop_ten['original_publication_date'])\n"
      ],
      "metadata": {
        "id": "ut1vteFCPtet"
      },
      "execution_count": null,
      "outputs": []
    },
    {
      "cell_type": "code",
      "source": [
        "mergetop_ten = mergetop_ten.sort_values(by=['series_id', 'original_publication_date'])\n"
      ],
      "metadata": {
        "id": "W29dR1flPwbj"
      },
      "execution_count": null,
      "outputs": []
    },
    {
      "cell_type": "code",
      "source": [
        "mergetop_ten = mergetop_ten.drop_duplicates(subset = ['work_id'])\n"
      ],
      "metadata": {
        "id": "n_D4KDpZPzmq"
      },
      "execution_count": null,
      "outputs": []
    },
    {
      "cell_type": "code",
      "source": [
        "mergetop_ten['time_diff'] = mergetop_ten.groupby('series_id')['original_publication_date'].diff().dt.days\n",
        "mergetop_ten = mergetop_ten.dropna()\n",
        "mean_mergetop_ten = mergetop_ten.groupby('name')['time_diff'].mean()\n"
      ],
      "metadata": {
        "id": "PKJ_RHPvP1rc"
      },
      "execution_count": null,
      "outputs": []
    },
    {
      "cell_type": "markdown",
      "source": [
        "we got the evarage day of pubblication of each authorsù\n"
      ],
      "metadata": {
        "id": "2uK3p3iIkQEH"
      }
    },
    {
      "cell_type": "code",
      "source": [
        "\n",
        "def extract_year(date):\n",
        "    if len(date) == 3:  # Full date format [YYYY, MM, DD]\n",
        "        if len(date[0]) == 4:\n",
        "            return date[0]\n",
        "        else: return None\n",
        "    elif len(date) == 2:  # Year and month format [YYYY, MM]\n",
        "        return date[0]\n",
        "    elif len(date) == 1:  # Year format [YYYY]\n",
        "        if len(date[0]) == 4:\n",
        "            return date[0]\n",
        "        else: return None\n",
        "    else:\n",
        "        return None  # Handle other formats if necessary\n",
        "\n",
        "# Apply the custom function to create a new 'Year' column\n",
        "mergetop_ten['newpublication_date'] = mergetop_ten['newpublication_date'].apply(extract_year)"
      ],
      "metadata": {
        "id": "---TFJqCj3Zs"
      },
      "execution_count": 71,
      "outputs": []
    },
    {
      "cell_type": "code",
      "source": [
        "mergetop_ten['newpublication_date'] = pd.to_numeric(mergetop_ten['newpublication_date'], errors='coerce').astype('Int64')\n",
        "mergetop_ten_series = mergetop_ten.sort_values(by=['series_id', 'newpublication_date'])\n",
        "mergetop_ten_series = mergetop_ten_series.drop_duplicates(subset = ['work_id'])\n",
        "mergetop_ten_series = mergetop_ten_series.dropna()"
      ],
      "metadata": {
        "id": "oISXs5EvGEqm"
      },
      "execution_count": 72,
      "outputs": []
    },
    {
      "cell_type": "code",
      "source": [
        "mergetop_ten_series['time_diff'] = mergetop_ten_series.groupby('series_id')['newpublication_date'].diff()\n",
        "mergetop_ten_series = mergetop_ten_series.dropna()\n",
        "average_time_diff_by_author = mergetop_ten_series.groupby('name')['time_diff'].mean()"
      ],
      "metadata": {
        "id": "QVACu447GzI8"
      },
      "execution_count": 73,
      "outputs": []
    },
    {
      "cell_type": "code",
      "source": [
        "mergetop_ten_nonseries = mergetop_ten[mergetop_ten['series_id'] == '']\n",
        "mergetop_ten_nonseries = mergetop_ten_nonseries.sort_values(by='newpublication_date')\n",
        "mergetop_ten_nonseries['time_diff'] = mergetop_ten_nonseries['newpublication_date'].diff()\n",
        "average_time_diff_by_author_nonseries = mergetop_ten_nonseries.groupby('name')['time_diff'].mean()"
      ],
      "metadata": {
        "id": "yfiNouTJPDMw"
      },
      "execution_count": 74,
      "outputs": []
    },
    {
      "cell_type": "code",
      "source": [
        "average_time_diff_by_author"
      ],
      "metadata": {
        "id": "y-0VVTgdQPGR",
        "colab": {
          "base_uri": "https://localhost:8080/"
        },
        "outputId": "6f38d727-7fbc-4c25-f7cd-33794e80bd41"
      },
      "execution_count": 75,
      "outputs": [
        {
          "output_type": "execute_result",
          "data": {
            "text/plain": [
              "name\n",
              "Bill  Gates                 0.0\n",
              "Cassandra Clare        0.326923\n",
              "Colleen Hoover         0.818182\n",
              "James Patterson        0.380952\n",
              "John Green             0.166667\n",
              "Mindy Kaling                0.0\n",
              "Neil deGrasse Tyson         0.0\n",
              "Rick Riordan               0.58\n",
              "Stephen King           0.298507\n",
              "Veronica Roth               0.2\n",
              "Name: time_diff, dtype: Float64"
            ]
          },
          "metadata": {},
          "execution_count": 75
        }
      ]
    },
    {
      "cell_type": "code",
      "source": [
        "average_time_diff_by_author_nonseries"
      ],
      "metadata": {
        "id": "sTTwTV6VQQqg",
        "colab": {
          "base_uri": "https://localhost:8080/"
        },
        "outputId": "4c1e3b39-950d-490e-f797-e2f8f0373f7e"
      },
      "execution_count": 76,
      "outputs": [
        {
          "output_type": "execute_result",
          "data": {
            "text/plain": [
              "name\n",
              "Bill  Gates                 0.0\n",
              "Cassandra Clare             0.2\n",
              "Colleen Hoover         0.333333\n",
              "James Patterson         0.04878\n",
              "John Green                 0.25\n",
              "Mindy Kaling                0.0\n",
              "Neil deGrasse Tyson       0.125\n",
              "Rick Riordan                0.0\n",
              "Stephen King           0.154639\n",
              "Veronica Roth               0.0\n",
              "Name: time_diff, dtype: Float64"
            ]
          },
          "metadata": {},
          "execution_count": 76
        }
      ]
    },
    {
      "cell_type": "markdown",
      "source": [
        "Difference between average time difference between the publication of books that are in a series and books that are not is"
      ],
      "metadata": {
        "id": "-6snLEXNQT-p"
      }
    },
    {
      "cell_type": "markdown",
      "source": [
        "[RQ7]"
      ],
      "metadata": {
        "id": "2PotiKcu_3-e"
      }
    },
    {
      "cell_type": "markdown",
      "source": [
        "RQ 7.1\n"
      ],
      "metadata": {
        "id": "03cqM8l5exgB"
      }
    },
    {
      "cell_type": "code",
      "source": [
        "\n",
        "books['stars>4']=(books['average_rating']>4)*books['ratings_count']\n",
        "books_grouped=books.groupby('work_id')\n",
        "number_reviews=books_grouped['ratings_count'].sum()\n",
        "reviews_greater=books_grouped['stars>4'].sum()\n",
        "percentage_greater=reviews_greater/number_reviews\n",
        "probability=(percentage_greater>0.3).mean()\n",
        "probability\n",
        "\n"
      ],
      "metadata": {
        "colab": {
          "base_uri": "https://localhost:8080/"
        },
        "id": "9N37EPGx_7t7",
        "outputId": "c62bb962-7faf-4698-f49f-a316b0734ed1"
      },
      "execution_count": null,
      "outputs": [
        {
          "output_type": "execute_result",
          "data": {
            "text/plain": [
              "0.3994325905786394"
            ]
          },
          "metadata": {},
          "execution_count": 92
        }
      ]
    },
    {
      "cell_type": "markdown",
      "source": [
        "The probability that a book has over 30% of the ratings above 4 is equal to 0.3994325905786394"
      ],
      "metadata": {
        "id": "fr7HxZDiBAd4"
      }
    },
    {
      "cell_type": "markdown",
      "source": [
        "RQ 7.2\n"
      ],
      "metadata": {
        "id": "RF3ugB0coLDS"
      }
    },
    {
      "cell_type": "code",
      "source": [
        "\n",
        "\n",
        "books_clean=books.drop_duplicates(subset=['work_id'])\n",
        "\n",
        "books_clean['original_publication_date'] = pd.to_datetime(books_clean['original_publication_date'], format='%Y-%m-%d', errors='coerce')\n",
        "\n",
        "books_clean['original_publication_date'] = books_clean['original_publication_date'].replace('', np.nan)\n",
        "books_clean = books_clean.dropna(subset=['original_publication_date'])\n",
        "\n",
        "curr2_cleansort = books_clean.sort_values(by='original_publication_date', ascending=True)\n",
        "\n",
        "\n",
        "curr2_cleansort['date_difference'] = (curr2_cleansort.groupby('author_name')['original_publication_date'].diff() / np.timedelta64(1, 'D')).clip(upper=730)\n",
        "probability_book_withintwoyears = 1 - (curr2_cleansort['date_difference'].isna().sum() / len(curr2_cleansort['date_difference']))\n",
        "probability_book_withintwoyears"
      ],
      "metadata": {
        "id": "DPdYj_k3oN3l",
        "colab": {
          "base_uri": "https://localhost:8080/"
        },
        "outputId": "63d2c7c1-8d71-4f25-f66e-dc3da5385516"
      },
      "execution_count": null,
      "outputs": [
        {
          "output_type": "stream",
          "name": "stderr",
          "text": [
            "<ipython-input-91-6062dacb033c>:3: SettingWithCopyWarning: \n",
            "A value is trying to be set on a copy of a slice from a DataFrame.\n",
            "Try using .loc[row_indexer,col_indexer] = value instead\n",
            "\n",
            "See the caveats in the documentation: https://pandas.pydata.org/pandas-docs/stable/user_guide/indexing.html#returning-a-view-versus-a-copy\n",
            "  books_clean['original_publication_date'] = pd.to_datetime(books_clean['original_publication_date'], format='%Y-%m-%d', errors='coerce')\n",
            "<ipython-input-91-6062dacb033c>:5: SettingWithCopyWarning: \n",
            "A value is trying to be set on a copy of a slice from a DataFrame.\n",
            "Try using .loc[row_indexer,col_indexer] = value instead\n",
            "\n",
            "See the caveats in the documentation: https://pandas.pydata.org/pandas-docs/stable/user_guide/indexing.html#returning-a-view-versus-a-copy\n",
            "  books_clean['original_publication_date'] = books_clean['original_publication_date'].replace('', np.nan)\n"
          ]
        },
        {
          "output_type": "execute_result",
          "data": {
            "text/plain": [
              "0.6814565483476132"
            ]
          },
          "metadata": {},
          "execution_count": 91
        }
      ]
    },
    {
      "cell_type": "markdown",
      "source": [
        "The probability that an author publishes a new book within two years from its last work is equal to 0.6814565483476132."
      ],
      "metadata": {
        "id": "SmRWnBHk_8Q2"
      }
    },
    {
      "cell_type": "markdown",
      "source": [
        "RQ 7.3\n"
      ],
      "metadata": {
        "id": "fe958foelYvw"
      }
    },
    {
      "cell_type": "code",
      "source": [
        "listtitle=[]\n",
        "for x in range(len(list0['books'][0])) :\n",
        "  listtitle.append(list0['books'][0][x]['title'])\n",
        "books['num_pages']=books['num_pages'].replace('',np.nan)\n",
        "books=books.dropna(subset='num_pages')\n",
        "listid=[]\n",
        "for x in range(len(list0['books'][0])) :\n",
        "  listtitle.append(list0['books'][0][x]['book_id'])\n",
        "\n",
        "\n",
        "probX_given_Y=sum(books[books['num_pages']>700]['title'].isin(listtitle))/sum(books['num_pages']>700)\n",
        "probX_given_Y\n"
      ],
      "metadata": {
        "colab": {
          "base_uri": "https://localhost:8080/"
        },
        "id": "by339Ztbla0w",
        "outputId": "4b4c959a-a8b1-4d51-af09-0af9c79d97e2"
      },
      "execution_count": null,
      "outputs": [
        {
          "output_type": "execute_result",
          "data": {
            "text/plain": [
              "0.08360337005832794"
            ]
          },
          "metadata": {},
          "execution_count": 95
        }
      ]
    },
    {
      "cell_type": "markdown",
      "source": [
        "probX_given_Y is the probabilty of a book being included in this list\n",
        "knowing it has more than 700 pages."
      ],
      "metadata": {
        "id": "E_owUBI3nySc"
      }
    },
    {
      "cell_type": "markdown",
      "source": [
        "RQ 7.4\n"
      ],
      "metadata": {
        "id": "2uTFF5REc7WT"
      }
    },
    {
      "cell_type": "code",
      "source": [
        "probX=books['title'].isin(listtitle).mean()\n",
        "probY=(books['num_pages']>700).mean()\n",
        "\n",
        "probX*probY\n",
        "\n",
        "probY\n"
      ],
      "metadata": {
        "colab": {
          "base_uri": "https://localhost:8080/"
        },
        "id": "U1PBDHU9dAow",
        "outputId": "23b0aa4a-0bdf-46a2-e5e9-782ff4f9cb92"
      },
      "execution_count": null,
      "outputs": [
        {
          "output_type": "execute_result",
          "data": {
            "text/plain": [
              "0.03752492072199847"
            ]
          },
          "metadata": {},
          "execution_count": 23
        }
      ]
    },
    {
      "cell_type": "code",
      "source": [
        "probX_Y=sum(books[books['num_pages']>700]['title'].isin(listtitle))/len(books)\n",
        "probX_Y\n",
        "\n"
      ],
      "metadata": {
        "colab": {
          "base_uri": "https://localhost:8080/"
        },
        "id": "-TYKSjkshU25",
        "outputId": "6c7e2977-f926-4691-d65a-7be5fc23a9ed"
      },
      "execution_count": null,
      "outputs": [
        {
          "output_type": "execute_result",
          "data": {
            "text/plain": [
              "0.0023214739687169674"
            ]
          },
          "metadata": {},
          "execution_count": 22
        }
      ]
    },
    {
      "cell_type": "markdown",
      "source": [
        "The events X=’Being Included in The Worst Books of All Time list’ and Y=’Having more than 700 pages’ are not independent because the product of the probabilities of the 2 events probX*probY is different from the probabilty of the intersection of the 2 events probX_Y\n",
        "so for that we can conclude that the 2 events are not independent."
      ],
      "metadata": {
        "id": "4RPQACe1mwhC"
      }
    },
    {
      "cell_type": "markdown",
      "source": [
        "[RQ8]"
      ],
      "metadata": {
        "id": "qmda39YhoQpx"
      }
    },
    {
      "cell_type": "markdown",
      "source": [
        "RQ 8.1"
      ],
      "metadata": {
        "id": "h26K_L6rogCb"
      }
    },
    {
      "cell_type": "code",
      "source": [
        "rating_longbooks=books[books['num_pages']>700]['average_rating']\n",
        "rating_notlongbooks=books[books['num_pages']<700]['average_rating']\n",
        "meanrating_longbooks=rating_longbooks.mean()\n",
        "meanrating_notlongbooks=rating_notlongbooks.mean()\n",
        "ttest_ind(rating_longbooks,rating_notlongbooks,alternative='greater')\n",
        "\n"
      ],
      "metadata": {
        "colab": {
          "base_uri": "https://localhost:8080/"
        },
        "id": "2tR0XmSOojh7",
        "outputId": "7286739d-b6f5-496a-a7b1-9860c2008f01"
      },
      "execution_count": null,
      "outputs": [
        {
          "output_type": "execute_result",
          "data": {
            "text/plain": [
              "TtestResult(statistic=29.638964933865132, pvalue=4.4011844423208166e-192, df=65437.0)"
            ]
          },
          "metadata": {},
          "execution_count": 176
        }
      ]
    },
    {
      "cell_type": "markdown",
      "source": [
        "Since the p_value is equal to 4.4011844423208166e-192 and therefore less than the threshold level of 0.05 we reject the null hypothesis that readers usually rate the longest books as the worst"
      ],
      "metadata": {
        "id": "CKgCtYbm6x2u"
      }
    },
    {
      "cell_type": "markdown",
      "source": [
        "RQ 8.2\n"
      ],
      "metadata": {
        "id": "tIZpVo_A-uED"
      }
    },
    {
      "cell_type": "code",
      "source": [
        "from scipy.stats import ttest_ind\n",
        "books['language']=books['language'].replace('',np.nan)\n",
        "books=books.dropna(subset='language')\n",
        "ratings_eng=books[(books['language']=='en-US') | (books['language']=='eng') | (books['language']=='en-GB') | (books['language']=='en-CA')]['average_rating']\n",
        "ratings_noteng=books[books['language']!='eng']['average_rating']\n",
        "mean_eng=ratings_eng.mean()\n",
        "t_statistic, p_value = ttest_ind(ratings_eng, ratings_noteng)\n",
        "p_value"
      ],
      "metadata": {
        "colab": {
          "base_uri": "https://localhost:8080/"
        },
        "id": "2m7rQ6W0-zZz",
        "outputId": "a2b20e7a-a70f-4f11-e0a9-618cc2f4a6d0"
      },
      "execution_count": null,
      "outputs": [
        {
          "output_type": "execute_result",
          "data": {
            "text/plain": [
              "6.223276978997408e-17"
            ]
          },
          "metadata": {},
          "execution_count": 48
        }
      ]
    },
    {
      "cell_type": "markdown",
      "source": [
        "Since the p_value is equal to 6.223276978997408e-17 and therefore less than the threshold level of 0.05 we reject the null hypothesis that the average rate distribution for English and non-English books are the same"
      ],
      "metadata": {
        "id": "oxDdBDwE6Fec"
      }
    },
    {
      "cell_type": "markdown",
      "source": [
        "RQ 8.3\n"
      ],
      "metadata": {
        "id": "EWmTc0vIRIhY"
      }
    },
    {
      "cell_type": "code",
      "source": [
        "ratings_eng.describe()\n",
        "ratings_noteng.describe()\n",
        "ratings_eng.mode()\n",
        "ratings_noteng.mode()\n",
        "plt.boxplot(ratings_eng)\n",
        "plt.boxplot(ratings_noteng)"
      ],
      "metadata": {
        "colab": {
          "base_uri": "https://localhost:8080/",
          "height": 569
        },
        "id": "vIe6X-VMRK2H",
        "outputId": "7a26d87b-6ab7-4e3e-a343-24586f7a3294"
      },
      "execution_count": null,
      "outputs": [
        {
          "output_type": "execute_result",
          "data": {
            "text/plain": [
              "{'whiskers': [<matplotlib.lines.Line2D at 0x794c2d8acaf0>,\n",
              "  <matplotlib.lines.Line2D at 0x794c2d8ad060>],\n",
              " 'caps': [<matplotlib.lines.Line2D at 0x794c2d8ada50>,\n",
              "  <matplotlib.lines.Line2D at 0x794c2d8adf00>],\n",
              " 'boxes': [<matplotlib.lines.Line2D at 0x794c2d8acbe0>],\n",
              " 'medians': [<matplotlib.lines.Line2D at 0x794c2d8adba0>],\n",
              " 'fliers': [<matplotlib.lines.Line2D at 0x794c2d8ae200>],\n",
              " 'means': []}"
            ]
          },
          "metadata": {},
          "execution_count": 144
        },
        {
          "output_type": "display_data",
          "data": {
            "text/plain": [
              "<Figure size 640x480 with 1 Axes>"
            ],
            "image/png": "[encoded data removed]"
          },
          "metadata": {}
        }
      ]
    },
    {
      "cell_type": "markdown",
      "source": [
        "RQ 8.4\n"
      ],
      "metadata": {
        "id": "X7iX0x_aV6dA"
      }
    },
    {
      "cell_type": "code",
      "source": [
        "from scipy.stats import pearsonr\n",
        "authors=authors[authors['ratings_count']>0]\n",
        "authors=authors[authors['fans_count']>0]\n",
        "correlation, p_value = pearsonr(authors['ratings_count'], authors['fans_count'])\n",
        "correlation\n",
        "\n"
      ],
      "metadata": {
        "colab": {
          "base_uri": "https://localhost:8080/"
        },
        "id": "mMzIogmHV7-r",
        "outputId": "91f3450d-6105-4fba-bcb1-614a05eae158"
      },
      "execution_count": null,
      "outputs": [
        {
          "output_type": "execute_result",
          "data": {
            "text/plain": [
              "0.5805966932178679"
            ]
          },
          "metadata": {},
          "execution_count": 69
        }
      ]
    },
    {
      "cell_type": "markdown",
      "source": [
        "The authors with more fans have more reviews and we can see this from the positive value of the Pearson correlation coefficient 0.5805966932178679 between 'ratings_count' e 'fans_count'. A positive value suggests that as the number of fans increases, the number of ratings tends to increase as well."
      ],
      "metadata": {
        "id": "1VsOef1evBdy"
      }
    },
    {
      "cell_type": "code",
      "source": [
        "authors['rapp_ratingfan']=authors['ratings_count']/authors['fans_count']\n",
        "authors_famous=authors.sort_values('fans_count',ascending=False)[:9000]\n",
        "authors_notfamous=authors.sort_values('fans_count',ascending=False)[9000:]\n",
        "authors_famous['rapp_ratingfan'].mean()\n",
        "authors_notfamous['rapp_ratingfan'].mean()\n",
        "t_statistic, p_value = ttest_ind(authors_notfamous['rapp_ratingfan'], authors_famous['rapp_ratingfan'])\n",
        "p_value\n"
      ],
      "metadata": {
        "colab": {
          "base_uri": "https://localhost:8080/"
        },
        "id": "95keNDIN1l8d",
        "outputId": "edb58e19-0000-47f8-a659-068cd4103926"
      },
      "execution_count": null,
      "outputs": [
        {
          "output_type": "execute_result",
          "data": {
            "text/plain": [
              "0.032770157773054594"
            ]
          },
          "metadata": {},
          "execution_count": 73
        }
      ]
    },
    {
      "cell_type": "markdown",
      "source": [
        "Since the p_value is equal to 0.032770157773054594 and therefore less than the threshold level of 0.05 we reject the null hypothesis that authors with more fans have the same amount of review in % of the others authors and we can see this also because the mean of 'rapp_ratingfan' is 47.098003222063106 instead in the rest of the population is 75.94711800159497 so we can confirm that the fans of the authors with more fans are a bit lazy."
      ],
      "metadata": {
        "id": "SypimrKv3PC_"
      }
    },
    {
      "cell_type": "markdown",
      "source": [
        "RQ 8.5"
      ],
      "metadata": {
        "id": "Ou_argnOrOdk"
      }
    },
    {
      "cell_type": "markdown",
      "source": [
        "Some helpful statistical tests in data analysis and mining are:T-Test,Chi-Square Test,Regression Analysis,Correlation Analysis,Cluster Analysis,Time Series Analysis,Principal Component Analysis (PCA),Logistic Regression and others.\n",
        "\n",
        "\n",
        "*   T-Test is used to compare the means of two groups and determine if there is a significant difference between them.\n",
        "*   Chi-Square Test is used to assess the independence of two categorical variables and determine if they are related or not.\n",
        "\n",
        "\n",
        "*   Regression Analysis is used to establish a relationship between one or more independent variables and a dependent variable.\n",
        "*   Correlation Analysis is used to measure the intensity and direction of a linear relationship between two continuous variables.\n",
        "\n",
        "\n",
        "*   Cluster Analysis is used to group similar data points into clusters based on their characteristics or features.\n",
        "*   Time Series Analysis is used to analyze data points collected over time to identify trends, seasonality, and forecast future values.\n",
        "\n",
        "*   Principal Component Analysis (PCA) is used to reduce the dimensionality of data while retaining important information.\n",
        "*   Logistic Regression is used to model and predict binary outcomes.\n",
        "\n",
        "We can divide the statistical tests in 2 broad categories parametric and nonparametric tests the choice between them depends on the characteristics of the data and the assumptions that you can or want to make. In parametric tests we assume that the data follows a specific probability distribution, often the normal distribution. We have to use this type of statistical test the data meets the assumptions because parametric tests are sensitive to violations of their assumption and if the data doesn't meet the assumptions, the results will be inaccurate. Advantages of parametric test are that: parametric tests are often more powerful, meaning they can detect smaller effects and they provide more precise estimates of population parameters. Nonparametric tests do not make specific assumptions about the underlying data distribution so they are distribution-free tests. An advantage is that they can be used when the underlying data distribution is unknown or hard to determine. Disadvantages are that: nonparametric tests are generally less powerful than parametric tests when the data does meet the assumptions and they might require larger sample sizes to detect the same effects,\n",
        "they provide less precise estimates of population parameters.\n",
        "\n",
        "So to sum up if your data closely follows a known distribution and meets the assumptions of parametric tests, it's generally best to use parametric tests for their greater statistical power. If the data doesn't meet these assumptions, nonparametric tests are more appropriate. Nonparametric tests are also more suitable for small sample sizes because they are robust and do not require the same assumptions as parametric tests and nonparametric tests  are also preferred when dealing with outliers or skewed data because they are less affected by extreme values.\n",
        "\n",
        "\n",
        "\n",
        "\n",
        "\n",
        "\n",
        "\n",
        "\n",
        "\n"
      ],
      "metadata": {
        "id": "s_jpBFuBrTHx"
      }
    },
    {
      "cell_type": "markdown",
      "metadata": {
        "id": "0Rz8FCdIv9G2"
      },
      "source": [
        "Command Line Question (CLQ)"
      ]
    },
    {
      "cell_type": "markdown",
      "metadata": {
        "id": "Ff_sH-lOyj3q"
      },
      "source": [
        "move the dataset"
      ]
    },
    {
      "cell_type": "code",
      "execution_count": null,
      "metadata": {
        "colab": {
          "base_uri": "https://localhost:8080/",
          "height": 35
        },
        "id": "eSGivMdWwvgU",
        "outputId": "10a39048-af17-4778-aed1-f4d2c70eb56c"
      },
      "outputs": [
        {
          "data": {
            "application/vnd.google.colaboratory.intrinsic+json": {
              "type": "string"
            },
            "text/plain": [
              "'/content/series.json'"
            ]
          },
          "execution_count": 102,
          "metadata": {},
          "output_type": "execute_result"
        }
      ],
      "source": [
        "shutil.copy(\"/content/drive/MyDrive/Colab Notebooks/università/ADM/Homework_2/dataset/series.json/series.json\", \"/content/\")"
      ]
    },
    {
      "cell_type": "code",
      "execution_count": null,
      "metadata": {
        "colab": {
          "base_uri": "https://localhost:8080/"
        },
        "id": "rS9DLYslJC1X",
        "outputId": "d9712598-4a6b-4258-d754-124fe376d876"
      },
      "outputs": [
        {
          "name": "stdout",
          "output_type": "stream",
          "text": [
            "226659\n"
          ]
        }
      ],
      "source": [
        "!cat series.json | awk 'END {print NR}'\n"
      ]
    },
    {
      "cell_type": "markdown",
      "metadata": {
        "id": "vwyUWmePVkeg"
      },
      "source": [
        "install JQ"
      ]
    },
    {
      "cell_type": "code",
      "source": [
        "!apt-install jq"
      ],
      "metadata": {
        "id": "TmufzrvkQq1M"
      },
      "execution_count": null,
      "outputs": []
    },
    {
      "cell_type": "code",
      "execution_count": null,
      "metadata": {
        "colab": {
          "base_uri": "https://localhost:8080/"
        },
        "id": "m4_THw-Q2vsC",
        "outputId": "a046bce2-78a5-414f-a457-f11e9831905d"
      },
      "outputs": [
        {
          "name": "stdout",
          "output_type": "stream",
          "text": [
            "\u001b[1;39m[\n",
            "  \u001b[1;39m{\n",
            "    \u001b[0m\u001b[34;1m\"id\"\u001b[0m\u001b[1;39m: \u001b[0m\u001b[0;32m\"302380\"\u001b[0m\u001b[1;39m,\n",
            "    \u001b[0m\u001b[34;1m\"title\"\u001b[0m\u001b[1;39m: \u001b[0m\u001b[0;32m\"Extraordinary Voyages\"\u001b[0m\u001b[1;39m,\n",
            "    \u001b[0m\u001b[34;1m\"total_books\"\u001b[0m\u001b[1;39m: \u001b[0m\u001b[0;39m20138\u001b[0m\u001b[1;39m\n",
            "  \u001b[1;39m}\u001b[0m\u001b[1;39m,\n",
            "  \u001b[1;39m{\n",
            "    \u001b[0m\u001b[34;1m\"id\"\u001b[0m\u001b[1;39m: \u001b[0m\u001b[0;32m\"94209\"\u001b[0m\u001b[1;39m,\n",
            "    \u001b[0m\u001b[34;1m\"title\"\u001b[0m\u001b[1;39m: \u001b[0m\u001b[0;32m\"Alice's Adventures in Wonderland\"\u001b[0m\u001b[1;39m,\n",
            "    \u001b[0m\u001b[34;1m\"total_books\"\u001b[0m\u001b[1;39m: \u001b[0m\u001b[0;39m14280\u001b[0m\u001b[1;39m\n",
            "  \u001b[1;39m}\u001b[0m\u001b[1;39m,\n",
            "  \u001b[1;39m{\n",
            "    \u001b[0m\u001b[34;1m\"id\"\u001b[0m\u001b[1;39m: \u001b[0m\u001b[0;32m\"311348\"\u001b[0m\u001b[1;39m,\n",
            "    \u001b[0m\u001b[34;1m\"title\"\u001b[0m\u001b[1;39m: \u001b[0m\u001b[0;32m\"Kolekcja Arcydzieł Literatury Światowej\"\u001b[0m\u001b[1;39m,\n",
            "    \u001b[0m\u001b[34;1m\"total_books\"\u001b[0m\u001b[1;39m: \u001b[0m\u001b[0;39m13774\u001b[0m\u001b[1;39m\n",
            "  \u001b[1;39m}\u001b[0m\u001b[1;39m,\n",
            "  \u001b[1;39m{\n",
            "    \u001b[0m\u001b[34;1m\"id\"\u001b[0m\u001b[1;39m: \u001b[0m\u001b[0;32m\"41459\"\u001b[0m\u001b[1;39m,\n",
            "    \u001b[0m\u001b[34;1m\"title\"\u001b[0m\u001b[1;39m: \u001b[0m\u001b[0;32m\"Oz\"\u001b[0m\u001b[1;39m,\n",
            "    \u001b[0m\u001b[34;1m\"total_books\"\u001b[0m\u001b[1;39m: \u001b[0m\u001b[0;39m11519\u001b[0m\u001b[1;39m\n",
            "  \u001b[1;39m}\u001b[0m\u001b[1;39m,\n",
            "  \u001b[1;39m{\n",
            "    \u001b[0m\u001b[34;1m\"id\"\u001b[0m\u001b[1;39m: \u001b[0m\u001b[0;32m\"51138\"\u001b[0m\u001b[1;39m,\n",
            "    \u001b[0m\u001b[34;1m\"title\"\u001b[0m\u001b[1;39m: \u001b[0m\u001b[0;32m\"Hercule Poirot\"\u001b[0m\u001b[1;39m,\n",
            "    \u001b[0m\u001b[34;1m\"total_books\"\u001b[0m\u001b[1;39m: \u001b[0m\u001b[0;39m11305\u001b[0m\u001b[1;39m\n",
            "  \u001b[1;39m}\u001b[0m\u001b[1;39m\n",
            "\u001b[1;39m]\u001b[0m\n"
          ]
        }
      ],
      "source": [
        "!cat series.json | jq -r 'select(.works) | .works |= map(select(.books_count)) | {id: .id, title: .title, total_books: (.works | map(.books_count | tonumber) | add)}' | jq -s 'sort_by(-.total_books) | .[:5]'\n"
      ]
    },
    {
      "cell_type": "markdown",
      "metadata": {
        "id": "pO88bpviVrwN"
      },
      "source": [
        "AWS Question (AWSQ)"
      ]
    },
    {
      "cell_type": "code",
      "execution_count": null,
      "metadata": {
        "id": "QC5V7_QTsIPq"
      },
      "outputs": [],
      "source": [
        "import time"
      ]
    },
    {
      "cell_type": "code",
      "execution_count": null,
      "metadata": {
        "id": "gmGbiwpSsN6k"
      },
      "outputs": [],
      "source": [
        "start_time = time.time()"
      ]
    },
    {
      "cell_type": "code",
      "source": [
        "tags_df = read_only_columns(\"/content/drive/MyDrive/Colab Notebooks/università/ADM/Homework_2/dataset/list.json\", ['tags'])\n"
      ],
      "metadata": {
        "id": "U6Xc4Rk5QZnG"
      },
      "execution_count": null,
      "outputs": []
    },
    {
      "cell_type": "code",
      "execution_count": null,
      "metadata": {
        "id": "jdGvmt0LSbqz"
      },
      "outputs": [],
      "source": [
        "all_tags = []\n",
        "for index, row in short_tags_dataset.iterrows():\n",
        "    tags = row['tags']\n",
        "    if isinstance(tags, list):  # Check if tags is a list\n",
        "        all_tags.extend(tags)\n"
      ]
    },
    {
      "cell_type": "code",
      "execution_count": null,
      "metadata": {
        "id": "VP7v189dhcVu"
      },
      "outputs": [],
      "source": [
        "tag_count = pd.Series(all_tags).value_counts()"
      ]
    },
    {
      "cell_type": "code",
      "execution_count": null,
      "metadata": {
        "id": "YNyEIxq3FxzJ"
      },
      "outputs": [],
      "source": [
        "tag_counts = tag_count.astype(int)"
      ]
    },
    {
      "cell_type": "code",
      "execution_count": null,
      "metadata": {
        "id": "oxz7qDBIRkhn"
      },
      "outputs": [],
      "source": [
        "tag_counts = tag_counts.sort_values(ascending=False)"
      ]
    },
    {
      "cell_type": "code",
      "execution_count": null,
      "metadata": {
        "id": "l-cvEwWZRpXj"
      },
      "outputs": [],
      "source": [
        "top_tags = tag_counts.head(5)"
      ]
    },
    {
      "cell_type": "code",
      "execution_count": null,
      "metadata": {
        "colab": {
          "base_uri": "https://localhost:8080/"
        },
        "id": "VB0AWpdeVbRV",
        "outputId": "16634efe-a28d-44a5-9fda-2d9ae1d42294"
      },
      "outputs": [
        {
          "data": {
            "text/plain": [
              "romance            6001\n",
              "fiction            5291\n",
              "young-adult        5016\n",
              "fantasy            3666\n",
              "science-fiction    2779\n",
              "dtype: int64"
            ]
          },
          "execution_count": 36,
          "metadata": {},
          "output_type": "execute_result"
        }
      ],
      "source": [
        "top_tags"
      ]
    },
    {
      "cell_type": "code",
      "execution_count": null,
      "metadata": {
        "id": "zLGQ-CfkVcsD"
      },
      "outputs": [],
      "source": [
        "end_time = time.time()\n"
      ]
    },
    {
      "cell_type": "code",
      "execution_count": null,
      "metadata": {
        "id": "93Fh0-3TsSY-"
      },
      "outputs": [],
      "source": [
        "print(end_time - start_time)"
      ]
    },
    {
      "cell_type": "markdown",
      "source": [
        "# Algorithmic Question (AQ)"
      ],
      "metadata": {
        "id": "rm2ns1mTTxjY"
      }
    },
    {
      "cell_type": "code",
      "source": [
        "n = int(input())\n",
        "\n",
        "left_shelf = []   # List to represent the left side of the shelf\n",
        "right_shelf = []  # List to represent the right side of the shelf\n",
        "\n",
        "for x in range(n):\n",
        "    instruction = input().split()\n",
        "    direction, book_id = instruction[0], int(instruction[1])\n",
        "\n",
        "    if direction == 'L':\n",
        "        left_shelf.insert(0, book_id)  # Place on the left\n",
        "    elif direction == 'R':\n",
        "        right_shelf.append(book_id)  # Place on the right\n",
        "    elif direction == '?':\n",
        "        # Calculate minimum pops to make the book the leftmost or rightmost\n",
        "        left_pops = len(left_shelf) + len(right_shelf)\n",
        "        right_pops = len(left_shelf) + len(right_shelf)\n",
        "        if book_id in left_shelf:\n",
        "            left_pops = left_shelf.index(book_id)\n",
        "        if book_id in right_shelf:\n",
        "            right_pops = len(right_shelf) - right_shelf.index(book_id) - 1\n",
        "        print(min(left_pops, right_pops))\n"
      ],
      "metadata": {
        "id": "NLmPS3AETx_5"
      },
      "execution_count": null,
      "outputs": []
    },
    {
      "cell_type": "markdown",
      "source": [
        "2.Ask ChatGPT or any other LLM chatbot tool to check your code's time complexity (the Big O notation). Do you believe this is correct? How can you double-check it? Elaborate about your answer."
      ],
      "metadata": {
        "id": "7KrswF9nUCfg"
      }
    },
    {
      "cell_type": "markdown",
      "source": [
        "ChatGPT's answer:\n",
        "Reading Input:\n",
        "\n",
        "The first line reads an integer n, which is the number of instructions. This operation has a time complexity of O(1).\n",
        "Loop Iteration:\n",
        "\n",
        "The code then enters a loop that iterates n times, where n is the number of instructions. This loop has a time complexity of O(n) because it performs the following operations in each iteration:\n",
        "Splitting the input line using split(), which is generally an O(m) operation, where m is the length of the input string.\n",
        "Inserting a book ID into the left shelf using left_shelf.insert(0, book_id). This operation can take up to O(len(left_shelf)) time, which could be O(n) in the worst case. It occurs a total of n times in the worst case.\n",
        "Appending a book ID to the right shelf using right_shelf.append(book_id). This operation typically has an average time complexity of O(1).\n",
        "Type 3 Instructions:\n",
        "\n",
        "When processing a type 3 instruction ('?'), the code performs two index checks to find the book ID in both the left and right shelves. In the worst case, it checks the entire shelves, which could be up to O(n) operations for each check.\n",
        "The code then calculates the minimum of the left and right pops and prints it.\n",
        "The most time-consuming part of the code is the type 3 instruction processing, which can take up to O(n) time for each instruction if the book ID is not found in the shelves.\n",
        "\n",
        "Overall, the time complexity of the code is O(n^2) in the worst case, where n is the number of instructions. This is due to the nested loops within the type 3 instruction processing. If there are many type 3 instructions, and the shelves grow large, the code can become inefficient. You can improve the code's efficiency by optimizing the type 3 instruction processing, as demonstrated in the previous code snippets."
      ],
      "metadata": {
        "id": "kgFL8tuGUGbU"
      }
    },
    {
      "cell_type": "markdown",
      "source": [],
      "metadata": {
        "id": "B6aah2YMUKJC"
      }
    }
  ],
  "metadata": {
    "colab": {
      "provenance": [],
      "include_colab_link": true
    },
    "kernelspec": {
      "display_name": "Python 3",
      "name": "python3"
    },
    "language_info": {
      "codemirror_mode": {
        "name": "ipython",
        "version": 3
      },
      "file_extension": ".py",
      "mimetype": "text/x-python",
      "name": "python",
      "nbconvert_exporter": "python",
      "pygments_lexer": "ipython3",
      "version": "3.11.5"
    }
  },
  "nbformat": 4,
  "nbformat_minor": 0
}