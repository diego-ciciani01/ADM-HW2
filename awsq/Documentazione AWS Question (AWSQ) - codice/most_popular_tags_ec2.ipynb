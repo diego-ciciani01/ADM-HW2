{
 "cells": [
  {
   "cell_type": "code",
   "execution_count": 2,
   "id": "814fab4e-2df0-4f43-b976-152b361b402d",
   "metadata": {},
   "outputs": [],
   "source": [
    "import pandas as pd\n",
    "import time"
   ]
  },
  {
   "cell_type": "code",
   "execution_count": 3,
   "id": "e65a4ae7-68da-42cb-b770-220cb70427fa",
   "metadata": {},
   "outputs": [],
   "source": [
    "def read_only_columns(path_dataset:str ,columns:list):\n",
    "  dfs = []\n",
    "  with open(path_dataset, \"r\") as file:\n",
    "    for ch in pd.read_json(file, lines = True, chunksize=20000):\n",
    "      ch = ch[columns]\n",
    "      dfs.append(ch)\n",
    "  df_2 = pd.concat(dfs, ignore_index = True)\n",
    "  return df_2"
   ]
  },
  {
   "cell_type": "code",
   "execution_count": 4,
   "id": "b6401484-a60e-457d-a46b-55728d6c1400",
   "metadata": {},
   "outputs": [],
   "source": [
    "tags_df = read_only_columns(\"/home/ubuntu/dataset/list.json\", ['tags'])"
   ]
  },
  {
   "cell_type": "code",
   "execution_count": 5,
   "id": "919f33ac-b344-4b6f-a187-f4e1cc83f076",
   "metadata": {},
   "outputs": [],
   "source": [
    "start_time = time.time()"
   ]
  },
  {
   "cell_type": "code",
   "execution_count": 6,
   "id": "8dc2d198-7841-4707-b64a-8b332426ab6e",
   "metadata": {},
   "outputs": [],
   "source": [
    "all_tags = []\n",
    "for index, row in tags_df.iterrows():\n",
    "    tags = row['tags']\n",
    "    if isinstance(tags, list):  # Check if tags is a list\n",
    "        all_tags.extend(tags)\n"
   ]
  },
  {
   "cell_type": "code",
   "execution_count": 7,
   "id": "5bada7f4-3a9e-4fb1-ae40-2b824a6d4ad0",
   "metadata": {},
   "outputs": [],
   "source": [
    "tag_count = pd.Series(all_tags).value_counts()"
   ]
  },
  {
   "cell_type": "code",
   "execution_count": 8,
   "id": "20311842-1c2e-43e3-8413-993d17947cd0",
   "metadata": {},
   "outputs": [],
   "source": [
    "tag_counts = tag_count.astype(int)"
   ]
  },
  {
   "cell_type": "code",
   "execution_count": 9,
   "id": "28b4a79b-f466-43b7-bdd5-484adc802563",
   "metadata": {},
   "outputs": [],
   "source": [
    "tag_counts = tag_counts.sort_values(ascending=False)"
   ]
  },
  {
   "cell_type": "code",
   "execution_count": 10,
   "id": "151ee8bb-5f34-477b-bfde-f0004922705b",
   "metadata": {},
   "outputs": [],
   "source": [
    "top_tags = tag_counts.head(5)"
   ]
  },
  {
   "cell_type": "code",
   "execution_count": 11,
   "id": "f2bef4e8-59c3-4205-b5e4-7a31e007fa3d",
   "metadata": {},
   "outputs": [
    {
     "data": {
      "text/plain": [
       "romance            6001\n",
       "fiction            5291\n",
       "young-adult        5016\n",
       "fantasy            3666\n",
       "science-fiction    2779\n",
       "Name: count, dtype: int64"
      ]
     },
     "execution_count": 11,
     "metadata": {},
     "output_type": "execute_result"
    }
   ],
   "source": [
    "top_tags"
   ]
  },
  {
   "cell_type": "code",
   "execution_count": 12,
   "id": "6d41f9d4-af6c-47e2-9720-c825364eef25",
   "metadata": {},
   "outputs": [],
   "source": [
    "end_time = time.time()\n"
   ]
  },
  {
   "cell_type": "code",
   "execution_count": 13,
   "id": "3429cdd1-2eb5-4609-8c49-70f44080b6b6",
   "metadata": {},
   "outputs": [
    {
     "name": "stdout",
     "output_type": "stream",
     "text": [
      "5.576925992965698\n"
     ]
    }
   ],
   "source": [
    "print(end_time - start_time)"
   ]
  }
 ],
 "metadata": {
  "kernelspec": {
   "display_name": "Python 3 (ipykernel)",
   "language": "python",
   "name": "python3"
  },
  "language_info": {
   "codemirror_mode": {
    "name": "ipython",
    "version": 3
   },
   "file_extension": ".py",
   "mimetype": "text/x-python",
   "name": "python",
   "nbconvert_exporter": "python",
   "pygments_lexer": "ipython3",
   "version": "3.10.12"
  }
 },
 "nbformat": 4,
 "nbformat_minor": 5
}
